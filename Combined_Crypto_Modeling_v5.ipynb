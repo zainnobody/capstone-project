{
 "cells": [
  {
   "cell_type": "code",
   "execution_count": 1,
   "id": "67a86f80-f055-41d2-a0a7-f9b865609790",
   "metadata": {
    "execution": {
     "iopub.execute_input": "2025-04-07T01:23:43.857853Z",
     "iopub.status.busy": "2025-04-07T01:23:43.857074Z",
     "iopub.status.idle": "2025-04-07T01:23:43.867868Z",
     "shell.execute_reply": "2025-04-07T01:23:43.867267Z",
     "shell.execute_reply.started": "2025-04-07T01:23:43.857818Z"
    }
   },
   "outputs": [],
   "source": [
    "import os\n",
    "\n",
    "# File paths for saving results\n",
    "RESULT_DATA_DIR = os.path.join(\"data\", \"result-data\")\n",
    "os.makedirs(RESULT_DATA_DIR, exist_ok=True)"
   ]
  },
  {
   "cell_type": "code",
   "execution_count": 2,
   "id": "78ab2cd7-3ab0-4160-964a-96cff16f140f",
   "metadata": {
    "execution": {
     "iopub.execute_input": "2025-04-07T01:23:43.869361Z",
     "iopub.status.busy": "2025-04-07T01:23:43.869000Z",
     "iopub.status.idle": "2025-04-07T01:23:47.100474Z",
     "shell.execute_reply": "2025-04-07T01:23:47.099820Z",
     "shell.execute_reply.started": "2025-04-07T01:23:43.869337Z"
    }
   },
   "outputs": [
    {
     "name": "stdout",
     "output_type": "stream",
     "text": [
      "GPUs available: [LogicalDevice(name='/device:GPU:0', device_type='GPU')]\n"
     ]
    }
   ],
   "source": [
    "# 1. Silence logs\n",
    "import os\n",
    "\n",
    "\n",
    "# Set environment variables to suppress logs\n",
    "os.environ[\"TF_CPP_MIN_LOG_LEVEL\"] = \"3\"                         # Only show errors from TF C++ backend\n",
    "os.environ[\"TF_CPP_MIN_VLOG_LEVEL\"] = \"3\"                          # Increase VLOG level to filter out debug info (try \"99\" if needed)\n",
    "os.environ[\"CUDA_DEVICE_ORDER\"] = \"PCI_BUS_ID\"\n",
    "os.environ[\"TF_ENABLE_ONEDNN_OPTS\"] = \"0\"                          # Avoid verbose ONEDNN CPU messages\n",
    "os.environ[\"TF_TRT_ALLOW_ENGINE_NATIVE_SEGMENT_EXECUTION\"] = \"false\"  # Silence TF-TRT warnings\n",
    "os.environ[\"GRPC_VERBOSITY\"] = \"ERROR\"                           # Silence gRPC logs\n",
    "os.environ[\"GRPC_CPP_LOG_LEVEL\"] = \"ERROR\"\n",
    "\n",
    "\n",
    "from tensorflow.keras.callbacks import ModelCheckpoint, EarlyStopping, CSVLogger\n",
    "\n",
    "# 2. Set visible GPU devices BEFORE importing TensorFlow\n",
    "import sys\n",
    "\n",
    "# Optional: Use only first GPU\n",
    "USE_ONLY_GPU_INDEX = 0\n",
    "\n",
    "# Import TensorFlow config module ONLY (not the full library yet!)\n",
    "from tensorflow.python.framework import config as tf_config\n",
    "from tensorflow.python.eager import context as tf_context\n",
    "\n",
    "# List GPUs (from lower-level API)\n",
    "physical_devices = tf_config.list_physical_devices('GPU')\n",
    "if physical_devices:\n",
    "    try:\n",
    "        # Optional: use only the first GPU\n",
    "        tf_config.set_visible_devices(physical_devices[USE_ONLY_GPU_INDEX], 'GPU')\n",
    "\n",
    "        # Enable memory growth\n",
    "        tf_config.set_memory_growth(physical_devices[USE_ONLY_GPU_INDEX], True)\n",
    "\n",
    "    except RuntimeError as e:\n",
    "        print(\"GPU config error:\", e)\n",
    "else:\n",
    "    raise RuntimeError(\"❌ No GPU found!\")\n",
    "\n",
    "# 3. Now it's safe to import TensorFlow proper\n",
    "import tensorflow as tf\n",
    "\n",
    "# 4. Silence warnings if needed\n",
    "import warnings\n",
    "warnings.filterwarnings('ignore')\n",
    "tf.get_logger().setLevel('ERROR')\n",
    "\n",
    "# Optional: verify\n",
    "print(\"GPUs available:\", tf.config.list_logical_devices('GPU'))\n"
   ]
  },
  {
   "cell_type": "code",
   "execution_count": 3,
   "id": "98b5abfa-fa51-4532-8675-febfeb9a3c32",
   "metadata": {
    "execution": {
     "iopub.execute_input": "2025-04-07T01:23:47.101657Z",
     "iopub.status.busy": "2025-04-07T01:23:47.101229Z",
     "iopub.status.idle": "2025-04-07T01:24:51.017681Z",
     "shell.execute_reply": "2025-04-07T01:24:51.016609Z",
     "shell.execute_reply.started": "2025-04-07T01:23:47.101632Z"
    }
   },
   "outputs": [],
   "source": [
    "import os\n",
    "import pandas as pd\n",
    "\n",
    "# Define the directory containing processed data files\n",
    "PROCESSED_DATA = os.path.join(\"data\", \"processed-data\")\n",
    "\n",
    "# File paths for processed data\n",
    "# btc_processed_file = os.path.join(PROCESSED_DATA, \"btc_1min_processed.csv.gz\")\n",
    "# eth_processed_file = os.path.join(PROCESSED_DATA, \"eth_1min_processed.csv.gz\")\n",
    "# combined_file = os.path.join(PROCESSED_DATA, \"crypto_1min_combined.csv.gz\")\n",
    "# NEWS_FILTERED_CSV = os.path.join(PROCESSED_DATA, \"aggregated-news_filtered.csv.gz\")\n",
    "\n",
    "# File paths for data with features\n",
    "btc_features_file = os.path.join(PROCESSED_DATA, \"btc_1min_with_features.csv.gz\")\n",
    "eth_features_file = os.path.join(PROCESSED_DATA, \"eth_1min_with_features.csv.gz\")\n",
    "\n",
    "# File paths for targets\n",
    "btc_target_file = os.path.join(PROCESSED_DATA, \"btc_1min_targets.csv.gz\")\n",
    "eth_target_file = os.path.join(PROCESSED_DATA, \"eth_1min_targets.csv.gz\")\n",
    "\n",
    "# Load processed data\n",
    "# btc_df = pd.read_csv(btc_processed_file, compression=\"gzip\")\n",
    "# eth_df = pd.read_csv(eth_processed_file, compression=\"gzip\")\n",
    "# crypto_df = pd.read_csv(combined_file, compression=\"gzip\")\n",
    "# df_filtered_news = pd.read_csv(NEWS_FILTERED_CSV, compression=\"gzip\")\n",
    "\n",
    "# Load feature data\n",
    "btc_df_features = pd.read_csv(btc_features_file, compression=\"gzip\")\n",
    "eth_df_features = pd.read_csv(eth_features_file, compression=\"gzip\")\n",
    "\n",
    "# Load target data\n",
    "btc_targets = pd.read_csv(btc_target_file, compression=\"gzip\")\n",
    "eth_targets = pd.read_csv(eth_target_file, compression=\"gzip\")\n"
   ]
  },
  {
   "cell_type": "code",
   "execution_count": 4,
   "id": "98b4c4c4-cf6c-49f5-9396-c9ca27a4488f",
   "metadata": {
    "execution": {
     "iopub.execute_input": "2025-04-07T01:24:51.020051Z",
     "iopub.status.busy": "2025-04-07T01:24:51.019557Z",
     "iopub.status.idle": "2025-04-07T01:24:51.034989Z",
     "shell.execute_reply": "2025-04-07T01:24:51.034391Z",
     "shell.execute_reply.started": "2025-04-07T01:24:51.020023Z"
    }
   },
   "outputs": [],
   "source": [
    "# %%\n",
    "# Utility: Create directories\n",
    "def setup_directories():\n",
    "    os.makedirs(\"plots\", exist_ok=True)\n",
    "    os.makedirs(\"models\", exist_ok=True)\n",
    "    os.makedirs(\"logs\", exist_ok=True)\n",
    "    return \"Done\"\n",
    "\n",
    "# %%\n",
    "# Prepares merged dataset of features + targets and subsets by percentage\n",
    "def get_data_subset(features_df, targets_df, target_col, data_percent=0.01):\n",
    "    merged = pd.concat([features_df, targets_df], axis=1)\n",
    "    subset_size = int(len(merged) * data_percent)\n",
    "    subset = merged.iloc[:subset_size].copy()\n",
    "    X = subset.drop(columns=[target_col])\n",
    "    y = subset[target_col]\n",
    "    return X, y, subset\n",
    "\n",
    "# %%\n",
    "# Normalize features using MinMaxScaler\n",
    "def scale_features(X):\n",
    "    from sklearn.preprocessing import MinMaxScaler\n",
    "    scaler = MinMaxScaler()\n",
    "    X_scaled = scaler.fit_transform(X)\n",
    "    return X_scaled, scaler\n",
    "\n",
    "# %%\n",
    "# Convert time-series data into sequences\n",
    "def create_sequences(X, y, time_steps=30):\n",
    "    Xs, ys = [], []\n",
    "    for i in range(len(X) - time_steps):\n",
    "        Xs.append(X[i : i + time_steps])\n",
    "        ys.append(y[i + time_steps])\n",
    "    return np.array(Xs), np.array(ys)\n",
    "\n",
    "# %%\n",
    "# Time-based train/test split\n",
    "def train_test_split_sequences(X_seq, y_seq, train_ratio=0.8):\n",
    "    train_size = int(len(X_seq) * train_ratio)\n",
    "    X_train, y_train = X_seq[:train_size], y_seq[:train_size]\n",
    "    X_test, y_test = X_seq[train_size:], y_seq[train_size:]\n",
    "    return X_train, y_train, X_test, y_test\n",
    "\n",
    "# %%\n",
    "# Build GRU model (easily replaceable with CNN/Transformer later)\n",
    "def build_gru_model(input_shape):\n",
    "    from tensorflow.keras.models import Sequential\n",
    "    from tensorflow.keras.layers import GRU, Dropout, Dense\n",
    "    from tensorflow.keras.optimizers import Adam\n",
    "\n",
    "    model = Sequential()\n",
    "    model.add(GRU(64, activation='tanh', input_shape=input_shape))\n",
    "    model.add(Dropout(0.2))\n",
    "    model.add(Dense(1, activation='linear'))\n",
    "    model.compile(loss='mse', optimizer=Adam(learning_rate=0.001))\n",
    "    return model\n",
    "\n",
    "def format_percent_string(p):\n",
    "    return f\"{p * 100:.4f}\".rstrip(\"0\").rstrip(\".\").replace(\".\", \"_\")\n",
    "\n",
    "\n",
    "# %%\n",
    "# Train model with checkpointing and logging\n",
    "def train_model(model, X_train, y_train, X_val, y_val, data_percent=0.01, epochs=20):\n",
    "    \n",
    "    percent_display = format_percent_string(data_percent)\n",
    "\n",
    "    model_name = f\"gru_btc_model_{percent_display}pct.h5\"\n",
    "    log_name = f\"gru_btc_log_{percent_display}pct.csv\"\n",
    "\n",
    "    checkpoint = ModelCheckpoint(os.path.join(\"models\", model_name), monitor=\"val_loss\", save_best_only=True, verbose=1)\n",
    "    early_stop = EarlyStopping(monitor=\"val_loss\", patience=5, restore_best_weights=True, verbose=1)\n",
    "    csv_logger = CSVLogger(os.path.join(\"logs\", log_name))\n",
    "\n",
    "    history = model.fit(\n",
    "        X_train, y_train,\n",
    "        epochs=epochs,\n",
    "        batch_size=32,\n",
    "        validation_data=(X_val, y_val),\n",
    "        callbacks=[checkpoint, early_stop, csv_logger],\n",
    "        verbose=1\n",
    "    )\n",
    "    return history\n",
    "\n",
    "\n",
    "# %%\n",
    "# Evaluate performance\n",
    "def print_metrics(y_test, y_pred, data_percent=0.01):\n",
    "    from sklearn.metrics import mean_squared_error, mean_absolute_error\n",
    "    import numpy as np\n",
    "\n",
    "    mse = mean_squared_error(y_test, y_pred)\n",
    "    rmse = np.sqrt(mse)\n",
    "    mae = mean_absolute_error(y_test, y_pred)\n",
    "\n",
    "    print(f\"Metrics for {data_percent*100:.3f}% dataset:\")\n",
    "    print(f\"MSE:  {mse:.4f}\")\n",
    "    print(f\"RMSE: {rmse:.4f}\")\n",
    "    print(f\"MAE:  {mae:.4f}\")\n"
   ]
  },
  {
   "cell_type": "code",
   "execution_count": 5,
   "id": "13dc39d1-0d8f-4c11-8042-aa1bc43f61aa",
   "metadata": {
    "execution": {
     "iopub.execute_input": "2025-04-07T01:24:51.035932Z",
     "iopub.status.busy": "2025-04-07T01:24:51.035728Z",
     "iopub.status.idle": "2025-04-07T01:24:51.207143Z",
     "shell.execute_reply": "2025-04-07T01:24:51.206460Z",
     "shell.execute_reply.started": "2025-04-07T01:24:51.035909Z"
    }
   },
   "outputs": [],
   "source": [
    "import os\n",
    "import numpy as np\n",
    "import pandas as pd\n"
   ]
  },
  {
   "cell_type": "code",
   "execution_count": 6,
   "id": "adf7e8d8-97e3-4aa5-a734-e06afa203741",
   "metadata": {
    "execution": {
     "iopub.execute_input": "2025-04-07T01:24:51.208142Z",
     "iopub.status.busy": "2025-04-07T01:24:51.207949Z",
     "iopub.status.idle": "2025-04-07T01:24:51.374348Z",
     "shell.execute_reply": "2025-04-07T01:24:51.373739Z",
     "shell.execute_reply.started": "2025-04-07T01:24:51.208119Z"
    }
   },
   "outputs": [],
   "source": [
    "DATA_PERCENT = 0.001\n",
    "TIME_STEPS = 30\n",
    "TARGET_COL = \"btc_Close_1m_later\"\n"
   ]
  },
  {
   "cell_type": "code",
   "execution_count": 7,
   "id": "a456b654-4b1f-4d85-b983-b8e0261199e3",
   "metadata": {
    "execution": {
     "iopub.execute_input": "2025-04-07T01:24:51.375310Z",
     "iopub.status.busy": "2025-04-07T01:24:51.375118Z",
     "iopub.status.idle": "2025-04-07T01:24:51.531233Z",
     "shell.execute_reply": "2025-04-07T01:24:51.530705Z",
     "shell.execute_reply.started": "2025-04-07T01:24:51.375288Z"
    }
   },
   "outputs": [
    {
     "data": {
      "text/plain": [
       "'Done'"
      ]
     },
     "execution_count": 7,
     "metadata": {},
     "output_type": "execute_result"
    }
   ],
   "source": [
    "setup_directories()"
   ]
  },
  {
   "cell_type": "code",
   "execution_count": 8,
   "id": "03e28745-7580-45cb-97f3-fa4300b20957",
   "metadata": {
    "execution": {
     "iopub.execute_input": "2025-04-07T01:24:51.532257Z",
     "iopub.status.busy": "2025-04-07T01:24:51.531950Z",
     "iopub.status.idle": "2025-04-07T01:24:52.112732Z",
     "shell.execute_reply": "2025-04-07T01:24:52.111898Z",
     "shell.execute_reply.started": "2025-04-07T01:24:51.532235Z"
    }
   },
   "outputs": [],
   "source": [
    "X_raw, y_raw, btc_subset = get_data_subset(btc_df_features, btc_targets, TARGET_COL, DATA_PERCENT)\n"
   ]
  },
  {
   "cell_type": "code",
   "execution_count": 9,
   "id": "d1c9f6fb-b038-4ede-b975-c78ff8d63974",
   "metadata": {
    "execution": {
     "iopub.execute_input": "2025-04-07T01:24:52.115515Z",
     "iopub.status.busy": "2025-04-07T01:24:52.115253Z",
     "iopub.status.idle": "2025-04-07T01:24:52.387517Z",
     "shell.execute_reply": "2025-04-07T01:24:52.386723Z",
     "shell.execute_reply.started": "2025-04-07T01:24:52.115491Z"
    }
   },
   "outputs": [],
   "source": [
    "X_scaled, scaler = scale_features(X_raw)\n"
   ]
  },
  {
   "cell_type": "code",
   "execution_count": 10,
   "id": "9b33792b-2b5c-4e2a-b9a9-edc83f1234d1",
   "metadata": {
    "execution": {
     "iopub.execute_input": "2025-04-07T01:24:52.388920Z",
     "iopub.status.busy": "2025-04-07T01:24:52.388393Z",
     "iopub.status.idle": "2025-04-07T01:24:52.404727Z",
     "shell.execute_reply": "2025-04-07T01:24:52.403705Z",
     "shell.execute_reply.started": "2025-04-07T01:24:52.388894Z"
    }
   },
   "outputs": [],
   "source": [
    "X_seq, y_seq = create_sequences(X_scaled, y_raw.values, TIME_STEPS)"
   ]
  },
  {
   "cell_type": "code",
   "execution_count": 11,
   "id": "c7d067ed-105c-4a6d-aa36-0ad32f0c5308",
   "metadata": {
    "execution": {
     "iopub.execute_input": "2025-04-07T01:24:52.405889Z",
     "iopub.status.busy": "2025-04-07T01:24:52.405622Z",
     "iopub.status.idle": "2025-04-07T01:24:52.524406Z",
     "shell.execute_reply": "2025-04-07T01:24:52.523875Z",
     "shell.execute_reply.started": "2025-04-07T01:24:52.405865Z"
    }
   },
   "outputs": [],
   "source": [
    "X_train, y_train, X_test, y_test = train_test_split_sequences(X_seq, y_seq)"
   ]
  },
  {
   "cell_type": "code",
   "execution_count": 12,
   "id": "837bd4fc-f87e-4029-9b2f-ba1946fcb647",
   "metadata": {
    "execution": {
     "iopub.execute_input": "2025-04-07T01:24:52.525433Z",
     "iopub.status.busy": "2025-04-07T01:24:52.525124Z",
     "iopub.status.idle": "2025-04-07T01:24:53.104890Z",
     "shell.execute_reply": "2025-04-07T01:24:53.104122Z",
     "shell.execute_reply.started": "2025-04-07T01:24:52.525412Z"
    }
   },
   "outputs": [],
   "source": [
    "model = build_gru_model(input_shape=(X_train.shape[1], X_train.shape[2]))"
   ]
  },
  {
   "cell_type": "code",
   "execution_count": 13,
   "id": "1e005f9d-076e-4dd3-b33d-f0dc4b4add64",
   "metadata": {
    "execution": {
     "iopub.execute_input": "2025-04-07T01:24:53.105980Z",
     "iopub.status.busy": "2025-04-07T01:24:53.105766Z",
     "iopub.status.idle": "2025-04-07T01:25:00.931218Z",
     "shell.execute_reply": "2025-04-07T01:25:00.930396Z",
     "shell.execute_reply.started": "2025-04-07T01:24:53.105957Z"
    }
   },
   "outputs": [
    {
     "name": "stdout",
     "output_type": "stream",
     "text": [
      "Epoch 1/20\n",
      "147/157 [===========================>..] - ETA: 0s - loss: 1.5012   \n",
      "Epoch 1: val_loss improved from inf to 0.01868, saving model to models/gru_btc_model_0_1pct.h5\n",
      "157/157 [==============================] - 3s 6ms/step - loss: 1.4249 - val_loss: 0.0187\n",
      "Epoch 2/20\n",
      "150/157 [===========================>..] - ETA: 0s - loss: 0.1781\n",
      "Epoch 2: val_loss did not improve from 0.01868\n",
      "157/157 [==============================] - 1s 3ms/step - loss: 0.1776 - val_loss: 0.0441\n",
      "Epoch 3/20\n",
      "150/157 [===========================>..] - ETA: 0s - loss: 0.1507\n",
      "Epoch 3: val_loss did not improve from 0.01868\n",
      "157/157 [==============================] - 1s 3ms/step - loss: 0.1497 - val_loss: 0.0223\n",
      "Epoch 4/20\n",
      "145/157 [==========================>...] - ETA: 0s - loss: 0.1408\n",
      "Epoch 4: val_loss improved from 0.01868 to 0.00556, saving model to models/gru_btc_model_0_1pct.h5\n",
      "157/157 [==============================] - 1s 4ms/step - loss: 0.1392 - val_loss: 0.0056\n",
      "Epoch 5/20\n",
      "145/157 [==========================>...] - ETA: 0s - loss: 0.1323\n",
      "Epoch 5: val_loss improved from 0.00556 to 0.00362, saving model to models/gru_btc_model_0_1pct.h5\n",
      "157/157 [==============================] - 1s 4ms/step - loss: 0.1305 - val_loss: 0.0036\n",
      "Epoch 6/20\n",
      "148/157 [===========================>..] - ETA: 0s - loss: 0.1281\n",
      "Epoch 6: val_loss did not improve from 0.00362\n",
      "157/157 [==============================] - 1s 3ms/step - loss: 0.1272 - val_loss: 0.0040\n",
      "Epoch 7/20\n",
      "148/157 [===========================>..] - ETA: 0s - loss: 0.1180\n",
      "Epoch 7: val_loss did not improve from 0.00362\n",
      "157/157 [==============================] - 1s 3ms/step - loss: 0.1204 - val_loss: 0.0044\n",
      "Epoch 8/20\n",
      "145/157 [==========================>...] - ETA: 0s - loss: 0.1235\n",
      "Epoch 8: val_loss did not improve from 0.00362\n",
      "157/157 [==============================] - 1s 3ms/step - loss: 0.1224 - val_loss: 0.0199\n",
      "Epoch 9/20\n",
      "145/157 [==========================>...] - ETA: 0s - loss: 0.1197\n",
      "Epoch 9: val_loss did not improve from 0.00362\n",
      "157/157 [==============================] - 1s 3ms/step - loss: 0.1221 - val_loss: 0.0082\n",
      "Epoch 10/20\n",
      "145/157 [==========================>...] - ETA: 0s - loss: 0.1143\n",
      "Epoch 10: val_loss did not improve from 0.00362\n",
      "Restoring model weights from the end of the best epoch: 5.\n",
      "157/157 [==============================] - 1s 3ms/step - loss: 0.1144 - val_loss: 0.0086\n",
      "Epoch 10: early stopping\n"
     ]
    }
   ],
   "source": [
    "history = train_model(model, X_train, y_train, X_test, y_test, DATA_PERCENT)"
   ]
  },
  {
   "cell_type": "code",
   "execution_count": 14,
   "id": "a7eeea20-6b2a-488d-8ed3-e833a217b5c9",
   "metadata": {
    "execution": {
     "iopub.execute_input": "2025-04-07T01:25:00.932380Z",
     "iopub.status.busy": "2025-04-07T01:25:00.932167Z",
     "iopub.status.idle": "2025-04-07T01:25:01.220614Z",
     "shell.execute_reply": "2025-04-07T01:25:01.219832Z",
     "shell.execute_reply.started": "2025-04-07T01:25:00.932354Z"
    }
   },
   "outputs": [
    {
     "data": {
      "image/png": "[encoded data removed]",
      "text/plain": [
       "<Figure size 1000x400 with 1 Axes>"
      ]
     },
     "metadata": {},
     "output_type": "display_data"
    },
    {
     "name": "stdout",
     "output_type": "stream",
     "text": [
      "Loss curve saved to: plots/loss_curve_gru_btc_0_1pct.png\n"
     ]
    }
   ],
   "source": [
    "def plot_loss(history, plots_dir=\"plots\", data_percent=0.01, model_name=\"gru\", dataset_name=\"btc\"):\n",
    "    import os\n",
    "    import matplotlib.pyplot as plt\n",
    "\n",
    "    # Ensure directory exists\n",
    "    os.makedirs(plots_dir, exist_ok=True)\n",
    "\n",
    "    # Format percent strings\n",
    "    percent_display_filename = format_percent_string(data_percent)  # for file name\n",
    "    percent_display_title = str(int(data_percent * 100))            # for title\n",
    "\n",
    "    # Plot\n",
    "    plt.figure(figsize=(10, 4))\n",
    "    plt.plot(history.history['loss'], label='Train Loss')\n",
    "    plt.plot(history.history['val_loss'], label='Val Loss')\n",
    "    plt.title(f\"Loss Curve ({percent_display_title}% Data)\")\n",
    "    plt.xlabel(\"Epoch\")\n",
    "    plt.ylabel(\"MSE\")\n",
    "    plt.legend()\n",
    "    plt.grid(True)\n",
    "\n",
    "    # Save to file inside plots directory\n",
    "    filename = f\"loss_curve_{model_name}_{dataset_name}_{percent_display_filename}pct.png\"\n",
    "    loss_curve_path = os.path.join(plots_dir, filename)\n",
    "    plt.savefig(loss_curve_path)\n",
    "    plt.show()\n",
    "    print(f\"Loss curve saved to: {loss_curve_path}\")\n",
    "\n",
    "plot_loss(history, data_percent=DATA_PERCENT, model_name=\"gru\", dataset_name=\"btc\")"
   ]
  },
  {
   "cell_type": "code",
   "execution_count": 15,
   "id": "2c4cbd19-bfc8-406b-942f-f54197eb3eb3",
   "metadata": {
    "execution": {
     "iopub.execute_input": "2025-04-07T01:25:01.221910Z",
     "iopub.status.busy": "2025-04-07T01:25:01.221528Z",
     "iopub.status.idle": "2025-04-07T01:25:01.634649Z",
     "shell.execute_reply": "2025-04-07T01:25:01.633840Z",
     "shell.execute_reply.started": "2025-04-07T01:25:01.221882Z"
    }
   },
   "outputs": [
    {
     "name": "stdout",
     "output_type": "stream",
     "text": [
      "40/40 [==============================] - 0s 1ms/step\n"
     ]
    }
   ],
   "source": [
    "y_pred = model.predict(X_test)"
   ]
  },
  {
   "cell_type": "code",
   "execution_count": 16,
   "id": "b201da2d-32d6-4edc-9385-5ba6541c6f72",
   "metadata": {
    "execution": {
     "iopub.execute_input": "2025-04-07T01:25:01.635855Z",
     "iopub.status.busy": "2025-04-07T01:25:01.635624Z",
     "iopub.status.idle": "2025-04-07T01:25:01.990382Z",
     "shell.execute_reply": "2025-04-07T01:25:01.989636Z",
     "shell.execute_reply.started": "2025-04-07T01:25:01.635830Z"
    }
   },
   "outputs": [
    {
     "name": "stdout",
     "output_type": "stream",
     "text": [
      "Prediction plot saved to: plots/prediction_plot_gru_btc_0_1pct.png\n"
     ]
    },
    {
     "data": {
      "image/png": "[encoded data removed]",
      "text/plain": [
       "<Figure size 1000x400 with 1 Axes>"
      ]
     },
     "metadata": {},
     "output_type": "display_data"
    },
    {
     "name": "stdout",
     "output_type": "stream",
     "text": [
      "Comparison CSV saved to: data/result-data/btc_comparison_0_1pct.csv\n"
     ]
    }
   ],
   "source": [
    "def plot_predictions(y_test, y_pred, plots_dir=\"plots\", data_percent=0.01, model_name=\"gru\", dataset_name=\"btc\", last_n=200):\n",
    "    import os\n",
    "    import matplotlib.pyplot as plt\n",
    "    import pandas as pd\n",
    "\n",
    "    # Ensure plots directory exists\n",
    "    os.makedirs(plots_dir, exist_ok=True)\n",
    "\n",
    "    # Format percent strings\n",
    "    percent_display_filename = format_percent_string(data_percent)  # for file name\n",
    "    percent_display_title = str(int(data_percent * 100))            # for plot title\n",
    "\n",
    "    # Build comparison DataFrame\n",
    "    comparison_df = pd.DataFrame({\n",
    "        \"Actual\": y_test,\n",
    "        \"Predicted\": y_pred.flatten()\n",
    "    })\n",
    "\n",
    "    # Plot predictions\n",
    "    plt.figure(figsize=(10, 4))\n",
    "    plt.plot(comparison_df[\"Actual\"][-last_n:], label=\"Actual\")\n",
    "    plt.plot(comparison_df[\"Predicted\"][-last_n:], label=\"Predicted\", linestyle=\"--\")\n",
    "    plt.title(f\"{dataset_name.upper()} Close Price Prediction (Last {last_n} Samples) - {percent_display_title}% Data\")\n",
    "    plt.xlabel(\"Time Step\")\n",
    "    plt.ylabel(\"Close Price\")\n",
    "    plt.legend()\n",
    "    plt.grid(True)\n",
    "\n",
    "    # Save plot\n",
    "    filename = f\"prediction_plot_{model_name}_{dataset_name}_{percent_display_filename}pct.png\"\n",
    "    plot_path = os.path.join(plots_dir, filename)\n",
    "    plt.savefig(plot_path)\n",
    "    print(f\"Prediction plot saved to: {plot_path}\")\n",
    "    plt.show()\n",
    "\n",
    "    # Save DataFrame comparison to CSV\n",
    "    result_file = os.path.join(RESULT_DATA_DIR, f\"{dataset_name}_comparison_{percent_display_filename}pct.csv\")\n",
    "    comparison_df.to_csv(result_file, index=False)\n",
    "\n",
    "    print(f\"Comparison CSV saved to: {result_file}\")\n",
    "    return comparison_df\n",
    "\n",
    "\n",
    "comparison_df = plot_predictions(y_test, y_pred, data_percent=DATA_PERCENT, model_name=\"gru\", dataset_name=\"btc\")\n"
   ]
  },
  {
   "cell_type": "code",
   "execution_count": 17,
   "id": "efc0fc12-e237-4448-b8c5-3ffe769f36c7",
   "metadata": {
    "execution": {
     "iopub.execute_input": "2025-04-07T01:25:01.991430Z",
     "iopub.status.busy": "2025-04-07T01:25:01.991216Z",
     "iopub.status.idle": "2025-04-07T01:25:02.014912Z",
     "shell.execute_reply": "2025-04-07T01:25:02.014191Z",
     "shell.execute_reply.started": "2025-04-07T01:25:01.991390Z"
    }
   },
   "outputs": [
    {
     "name": "stdout",
     "output_type": "stream",
     "text": [
      "Metrics for 0.100% dataset:\n",
      "MSE:  0.0036\n",
      "RMSE: 0.0602\n",
      "MAE:  0.0409\n"
     ]
    }
   ],
   "source": [
    "print_metrics(y_test, y_pred, DATA_PERCENT)"
   ]
  },
  {
   "cell_type": "code",
   "execution_count": 18,
   "id": "17437d39-1564-4e65-bce0-c5ba8c8ec91e",
   "metadata": {
    "execution": {
     "iopub.execute_input": "2025-04-07T01:25:02.016713Z",
     "iopub.status.busy": "2025-04-07T01:25:02.015717Z",
     "iopub.status.idle": "2025-04-07T01:25:02.094445Z",
     "shell.execute_reply": "2025-04-07T01:25:02.093870Z",
     "shell.execute_reply.started": "2025-04-07T01:25:02.016687Z"
    }
   },
   "outputs": [],
   "source": [
    "import os\n",
    "from joblib import dump\n",
    "from tensorflow.keras.models import save_model\n",
    "from pathlib import Path\n",
    "\n",
    "def save_model_and_scaler(model, scaler, model_name: str, dataset_name: str, data_percent: float, model_ext: str = \"h5\"):\n",
    "    os.makedirs(\"models\", exist_ok=True)\n",
    "\n",
    "    # Format percent with up to 4 decimal places, replace dot with underscore\n",
    "    percent_str = f\"{data_percent * 100:.4f}\".rstrip(\"0\").rstrip(\".\").replace(\".\", \"_\")\n",
    "\n",
    "    model_filename = f\"{model_name}_{dataset_name}_model_{percent_str}pct.{model_ext}\"\n",
    "    scaler_filename = f\"scaler_{dataset_name}_{percent_str}pct.pkl\"\n",
    "\n",
    "    model_path = Path(\"models\") / model_filename\n",
    "    scaler_path = Path(\"models\") / scaler_filename\n",
    "\n",
    "    if model_ext in ['h5', 'keras']:\n",
    "        save_model(model, str(model_path))\n",
    "    else:\n",
    "        dump(model, model_path)\n",
    "\n",
    "    dump(scaler, scaler_path)\n",
    "\n",
    "    print(\"Model saved to:\", model_path.resolve().relative_to(Path.cwd()))\n",
    "    print(\"Scaler saved to:\", scaler_path.resolve().relative_to(Path.cwd()))\n"
   ]
  },
  {
   "cell_type": "code",
   "execution_count": 19,
   "id": "5bbdb1db-e133-4181-aa80-22091059363a",
   "metadata": {
    "execution": {
     "iopub.execute_input": "2025-04-07T01:25:02.095387Z",
     "iopub.status.busy": "2025-04-07T01:25:02.095200Z",
     "iopub.status.idle": "2025-04-07T01:25:02.437311Z",
     "shell.execute_reply": "2025-04-07T01:25:02.436568Z",
     "shell.execute_reply.started": "2025-04-07T01:25:02.095364Z"
    }
   },
   "outputs": [
    {
     "name": "stdout",
     "output_type": "stream",
     "text": [
      "Model saved to: models/gru_btc_model_0_1pct.h5\n",
      "Scaler saved to: models/scaler_btc_0_1pct.pkl\n"
     ]
    }
   ],
   "source": [
    "save_model_and_scaler(model, scaler, model_name=\"gru\", dataset_name=\"btc\", data_percent=DATA_PERCENT)"
   ]
  },
  {
   "cell_type": "code",
   "execution_count": 20,
   "id": "52d7b394-3416-42c8-8399-70e2337cb55d",
   "metadata": {
    "execution": {
     "iopub.execute_input": "2025-04-07T01:25:02.438347Z",
     "iopub.status.busy": "2025-04-07T01:25:02.438153Z",
     "iopub.status.idle": "2025-04-07T01:25:02.516870Z",
     "shell.execute_reply": "2025-04-07T01:25:02.516257Z",
     "shell.execute_reply.started": "2025-04-07T01:25:02.438324Z"
    }
   },
   "outputs": [],
   "source": [
    "import os\n",
    "from joblib import load\n",
    "from tensorflow.keras.models import load_model\n",
    "from pathlib import Path\n",
    "\n",
    "def load_model_and_scaler(model_name: str, dataset_name: str, data_percent: float, model_ext: str = \"h5\"):\n",
    "    # Format percent with full decimals and replace '.' with '_'\n",
    "    percent_str = f\"{data_percent * 100:.4f}\".rstrip(\"0\").rstrip(\".\").replace(\".\", \"_\")\n",
    "\n",
    "    model_filename = f\"{model_name}_{dataset_name}_model_{percent_str}pct.{model_ext}\"\n",
    "    scaler_filename = f\"scaler_{dataset_name}_{percent_str}pct.pkl\"\n",
    "\n",
    "    model_path = Path(\"models\") / model_filename\n",
    "    scaler_path = Path(\"models\") / scaler_filename\n",
    "\n",
    "    if model_ext in ['h5', 'keras']:\n",
    "        model = load_model(model_path)\n",
    "    else:\n",
    "        model = load(model_path)\n",
    "\n",
    "    scaler = load(scaler_path)\n",
    "\n",
    "    print(\"Model loaded from:\", model_path.resolve().relative_to(Path.cwd()))\n",
    "    print(\"Scaler loaded from:\", scaler_path.resolve().relative_to(Path.cwd()))\n",
    "\n",
    "    return model, scaler"
   ]
  },
  {
   "cell_type": "code",
   "execution_count": 21,
   "id": "c3d48aaf-2ff5-47a9-bf0b-e472eb180031",
   "metadata": {
    "execution": {
     "iopub.execute_input": "2025-04-07T01:25:02.518143Z",
     "iopub.status.busy": "2025-04-07T01:25:02.517609Z",
     "iopub.status.idle": "2025-04-07T01:25:02.825865Z",
     "shell.execute_reply": "2025-04-07T01:25:02.825096Z",
     "shell.execute_reply.started": "2025-04-07T01:25:02.518118Z"
    }
   },
   "outputs": [
    {
     "name": "stdout",
     "output_type": "stream",
     "text": [
      "Model loaded from: models/gru_btc_model_0_1pct.h5\n",
      "Scaler loaded from: models/scaler_btc_0_1pct.pkl\n"
     ]
    }
   ],
   "source": [
    "model, scaler = load_model_and_scaler(model_name=\"gru\", dataset_name=\"btc\", data_percent=DATA_PERCENT)"
   ]
  },
  {
   "cell_type": "code",
   "execution_count": 51,
   "id": "da10e53a-abb8-4cfc-92f6-72b268987b9e",
   "metadata": {
    "execution": {
     "iopub.execute_input": "2025-04-07T02:07:52.449728Z",
     "iopub.status.busy": "2025-04-07T02:07:52.449274Z",
     "iopub.status.idle": "2025-04-07T02:07:52.805556Z",
     "shell.execute_reply": "2025-04-07T02:07:52.804978Z",
     "shell.execute_reply.started": "2025-04-07T02:07:52.449701Z"
    }
   },
   "outputs": [
    {
     "data": {
      "text/html": [
       "    <style>\n",
       "        .bk-notebook-logo {\n",
       "            display: block;\n",
       "            width: 20px;\n",
       "            height: 20px;\n",
       "            background-image: url(data:image/png;base64,iVBORw0KGgoAAAANSUhEUgAAABQAAAAUCAYAAACNiR0NAAAABHNCSVQICAgIfAhkiAAAAAlwSFlzAAALEgAACxIB0t1+/AAAABx0RVh0U29mdHdhcmUAQWRvYmUgRmlyZXdvcmtzIENTNui8sowAAAOkSURBVDiNjZRtaJVlGMd/1/08zzln5zjP1LWcU9N0NkN8m2CYjpgQYQXqSs0I84OLIC0hkEKoPtiH3gmKoiJDU7QpLgoLjLIQCpEsNJ1vqUOdO7ppbuec5+V+rj4ctwzd8IIbbi6u+8f1539dt3A78eXC7QizUF7gyV1fD1Yqg4JWz84yffhm0qkFqBogB9rM8tZdtwVsPUhWhGcFJngGeWrPzHm5oaMmkfEg1usvLFyc8jLRqDOMru7AyC8saQr7GG7f5fvDeH7Ej8CM66nIF+8yngt6HWaKh7k49Soy9nXurCi1o3qUbS3zWfrYeQDTB/Qj6kX6Ybhw4B+bOYoLKCC9H3Nu/leUTZ1JdRWkkn2ldcCamzrcf47KKXdAJllSlxAOkRgyHsGC/zRday5Qld9DyoM4/q/rUoy/CXh3jzOu3bHUVZeU+DEn8FInkPBFlu3+nW3Nw0mk6vCDiWg8CeJaxEwuHS3+z5RgY+YBR6V1Z1nxSOfoaPa4LASWxxdNp+VWTk7+4vzaou8v8PN+xo+KY2xsw6une2frhw05CTYOmQvsEhjhWjn0bmXPjpE1+kplmmkP3suftwTubK9Vq22qKmrBhpY4jvd5afdRA3wGjFAgcnTK2s4hY0/GPNIb0nErGMCRxWOOX64Z8RAC4oCXdklmEvcL8o0BfkNK4lUg9HTl+oPlQxdNo3Mg4Nv175e/1LDGzZen30MEjRUtmXSfiTVu1kK8W4txyV6BMKlbgk3lMwYCiusNy9fVfvvwMxv8Ynl6vxoByANLTWplvuj/nF9m2+PDtt1eiHPBr1oIfhCChQMBw6Aw0UulqTKZdfVvfG7VcfIqLG9bcldL/+pdWTLxLUy8Qq38heUIjh4XlzZxzQm19lLFlr8vdQ97rjZVOLf8nclzckbcD4wxXMidpX30sFd37Fv/GtwwhzhxGVAprjbg0gCAEeIgwCZyTV2Z1REEW8O4py0wsjeloKoMr6iCY6dP92H6Vw/oTyICIthibxjm/DfN9lVz8IqtqKYLUXfoKVMVQVVJOElGjrnnUt9T9wbgp8AyYKaGlqingHZU/uG2NTZSVqwHQTWkx9hxjkpWDaCg6Ckj5qebgBVbT3V3NNXMSiWSDdGV3hrtzla7J+duwPOToIg42ChPQOQjspnSlp1V+Gjdged7+8UN5CRAV7a5EdFNwCjEaBR27b3W890TE7g24NAP/mMDXRWrGoFPQI9ls/MWO2dWFAar/xcOIImbbpA3zgAAAABJRU5ErkJggg==);\n",
       "        }\n",
       "    </style>\n",
       "    <div>\n",
       "        <a href=\"https://bokeh.org\" target=\"_blank\" class=\"bk-notebook-logo\"></a>\n",
       "        <span id=\"b95913ca-4da0-4ca7-8ff9-bcc1c389b040\">Loading BokehJS ...</span>\n",
       "    </div>\n"
      ]
     },
     "metadata": {},
     "output_type": "display_data"
    },
    {
     "data": {
      "application/javascript": [
       "'use strict';\n",
       "(function(root) {\n",
       "  function now() {\n",
       "    return new Date();\n",
       "  }\n",
       "\n",
       "  const force = true;\n",
       "\n",
       "  if (typeof root._bokeh_onload_callbacks === \"undefined\" || force === true) {\n",
       "    root._bokeh_onload_callbacks = [];\n",
       "    root._bokeh_is_loading = undefined;\n",
       "  }\n",
       "\n",
       "const JS_MIME_TYPE = 'application/javascript';\n",
       "  const HTML_MIME_TYPE = 'text/html';\n",
       "  const EXEC_MIME_TYPE = 'application/vnd.bokehjs_exec.v0+json';\n",
       "  const CLASS_NAME = 'output_bokeh rendered_html';\n",
       "\n",
       "  /**\n",
       "   * Render data to the DOM node\n",
       "   */\n",
       "  function render(props, node) {\n",
       "    const script = document.createElement(\"script\");\n",
       "    node.appendChild(script);\n",
       "  }\n",
       "\n",
       "  /**\n",
       "   * Handle when an output is cleared or removed\n",
       "   */\n",
       "  function handleClearOutput(event, handle) {\n",
       "    function drop(id) {\n",
       "      const view = Bokeh.index.get_by_id(id)\n",
       "      if (view != null) {\n",
       "        view.model.document.clear()\n",
       "        Bokeh.index.delete(view)\n",
       "      }\n",
       "    }\n",
       "\n",
       "    const cell = handle.cell;\n",
       "\n",
       "    const id = cell.output_area._bokeh_element_id;\n",
       "    const server_id = cell.output_area._bokeh_server_id;\n",
       "\n",
       "    // Clean up Bokeh references\n",
       "    if (id != null) {\n",
       "      drop(id)\n",
       "    }\n",
       "\n",
       "    if (server_id !== undefined) {\n",
       "      // Clean up Bokeh references\n",
       "      const cmd_clean = \"from bokeh.io.state import curstate; print(curstate().uuid_to_server['\" + server_id + \"'].get_sessions()[0].document.roots[0]._id)\";\n",
       "      cell.notebook.kernel.execute(cmd_clean, {\n",
       "        iopub: {\n",
       "          output: function(msg) {\n",
       "            const id = msg.content.text.trim()\n",
       "            drop(id)\n",
       "          }\n",
       "        }\n",
       "      });\n",
       "      // Destroy server and session\n",
       "      const cmd_destroy = \"import bokeh.io.notebook as ion; ion.destroy_server('\" + server_id + \"')\";\n",
       "      cell.notebook.kernel.execute(cmd_destroy);\n",
       "    }\n",
       "  }\n",
       "\n",
       "  /**\n",
       "   * Handle when a new output is added\n",
       "   */\n",
       "  function handleAddOutput(event, handle) {\n",
       "    const output_area = handle.output_area;\n",
       "    const output = handle.output;\n",
       "\n",
       "    // limit handleAddOutput to display_data with EXEC_MIME_TYPE content only\n",
       "    if ((output.output_type != \"display_data\") || (!Object.prototype.hasOwnProperty.call(output.data, EXEC_MIME_TYPE))) {\n",
       "      return\n",
       "    }\n",
       "\n",
       "    const toinsert = output_area.element.find(\".\" + CLASS_NAME.split(' ')[0]);\n",
       "\n",
       "    if (output.metadata[EXEC_MIME_TYPE][\"id\"] !== undefined) {\n",
       "      toinsert[toinsert.length - 1].firstChild.textContent = output.data[JS_MIME_TYPE];\n",
       "      // store reference to embed id on output_area\n",
       "      output_area._bokeh_element_id = output.metadata[EXEC_MIME_TYPE][\"id\"];\n",
       "    }\n",
       "    if (output.metadata[EXEC_MIME_TYPE][\"server_id\"] !== undefined) {\n",
       "      const bk_div = document.createElement(\"div\");\n",
       "      bk_div.innerHTML = output.data[HTML_MIME_TYPE];\n",
       "      const script_attrs = bk_div.children[0].attributes;\n",
       "      for (let i = 0; i < script_attrs.length; i++) {\n",
       "        toinsert[toinsert.length - 1].firstChild.setAttribute(script_attrs[i].name, script_attrs[i].value);\n",
       "        toinsert[toinsert.length - 1].firstChild.textContent = bk_div.children[0].textContent\n",
       "      }\n",
       "      // store reference to server id on output_area\n",
       "      output_area._bokeh_server_id = output.metadata[EXEC_MIME_TYPE][\"server_id\"];\n",
       "    }\n",
       "  }\n",
       "\n",
       "  function register_renderer(events, OutputArea) {\n",
       "\n",
       "    function append_mime(data, metadata, element) {\n",
       "      // create a DOM node to render to\n",
       "      const toinsert = this.create_output_subarea(\n",
       "        metadata,\n",
       "        CLASS_NAME,\n",
       "        EXEC_MIME_TYPE\n",
       "      );\n",
       "      this.keyboard_manager.register_events(toinsert);\n",
       "      // Render to node\n",
       "      const props = {data: data, metadata: metadata[EXEC_MIME_TYPE]};\n",
       "      render(props, toinsert[toinsert.length - 1]);\n",
       "      element.append(toinsert);\n",
       "      return toinsert\n",
       "    }\n",
       "\n",
       "    /* Handle when an output is cleared or removed */\n",
       "    events.on('clear_output.CodeCell', handleClearOutput);\n",
       "    events.on('delete.Cell', handleClearOutput);\n",
       "\n",
       "    /* Handle when a new output is added */\n",
       "    events.on('output_added.OutputArea', handleAddOutput);\n",
       "\n",
       "    /**\n",
       "     * Register the mime type and append_mime function with output_area\n",
       "     */\n",
       "    OutputArea.prototype.register_mime_type(EXEC_MIME_TYPE, append_mime, {\n",
       "      /* Is output safe? */\n",
       "      safe: true,\n",
       "      /* Index of renderer in `output_area.display_order` */\n",
       "      index: 0\n",
       "    });\n",
       "  }\n",
       "\n",
       "  // register the mime type if in Jupyter Notebook environment and previously unregistered\n",
       "  if (root.Jupyter !== undefined) {\n",
       "    const events = require('base/js/events');\n",
       "    const OutputArea = require('notebook/js/outputarea').OutputArea;\n",
       "\n",
       "    if (OutputArea.prototype.mime_types().indexOf(EXEC_MIME_TYPE) == -1) {\n",
       "      register_renderer(events, OutputArea);\n",
       "    }\n",
       "  }\n",
       "  if (typeof (root._bokeh_timeout) === \"undefined\" || force === true) {\n",
       "    root._bokeh_timeout = Date.now() + 5000;\n",
       "    root._bokeh_failed_load = false;\n",
       "  }\n",
       "\n",
       "  const NB_LOAD_WARNING = {'data': {'text/html':\n",
       "     \"<div style='background-color: #fdd'>\\n\"+\n",
       "     \"<p>\\n\"+\n",
       "     \"BokehJS does not appear to have successfully loaded. If loading BokehJS from CDN, this \\n\"+\n",
       "     \"may be due to a slow or bad network connection. Possible fixes:\\n\"+\n",
       "     \"</p>\\n\"+\n",
       "     \"<ul>\\n\"+\n",
       "     \"<li>re-rerun `output_notebook()` to attempt to load from CDN again, or</li>\\n\"+\n",
       "     \"<li>use INLINE resources instead, as so:</li>\\n\"+\n",
       "     \"</ul>\\n\"+\n",
       "     \"<code>\\n\"+\n",
       "     \"from bokeh.resources import INLINE\\n\"+\n",
       "     \"output_notebook(resources=INLINE)\\n\"+\n",
       "     \"</code>\\n\"+\n",
       "     \"</div>\"}};\n",
       "\n",
       "  function display_loaded(error = null) {\n",
       "    const el = document.getElementById(\"b95913ca-4da0-4ca7-8ff9-bcc1c389b040\");\n",
       "    if (el != null) {\n",
       "      const html = (() => {\n",
       "        if (typeof root.Bokeh === \"undefined\") {\n",
       "          if (error == null) {\n",
       "            return \"BokehJS is loading ...\";\n",
       "          } else {\n",
       "            return \"BokehJS failed to load.\";\n",
       "          }\n",
       "        } else {\n",
       "          const prefix = `BokehJS ${root.Bokeh.version}`;\n",
       "          if (error == null) {\n",
       "            return `${prefix} successfully loaded.`;\n",
       "          } else {\n",
       "            return `${prefix} <b>encountered errors</b> while loading and may not function as expected.`;\n",
       "          }\n",
       "        }\n",
       "      })();\n",
       "      el.innerHTML = html;\n",
       "\n",
       "      if (error != null) {\n",
       "        const wrapper = document.createElement(\"div\");\n",
       "        wrapper.style.overflow = \"auto\";\n",
       "        wrapper.style.height = \"5em\";\n",
       "        wrapper.style.resize = \"vertical\";\n",
       "        const content = document.createElement(\"div\");\n",
       "        content.style.fontFamily = \"monospace\";\n",
       "        content.style.whiteSpace = \"pre-wrap\";\n",
       "        content.style.backgroundColor = \"rgb(255, 221, 221)\";\n",
       "        content.textContent = error.stack ?? error.toString();\n",
       "        wrapper.append(content);\n",
       "        el.append(wrapper);\n",
       "      }\n",
       "    } else if (Date.now() < root._bokeh_timeout) {\n",
       "      setTimeout(() => display_loaded(error), 100);\n",
       "    }\n",
       "  }\n",
       "\n",
       "  function run_callbacks() {\n",
       "    try {\n",
       "      root._bokeh_onload_callbacks.forEach(function(callback) {\n",
       "        if (callback != null)\n",
       "          callback();\n",
       "      });\n",
       "    } finally {\n",
       "      delete root._bokeh_onload_callbacks\n",
       "    }\n",
       "    console.debug(\"Bokeh: all callbacks have finished\");\n",
       "  }\n",
       "\n",
       "  function load_libs(css_urls, js_urls, callback) {\n",
       "    if (css_urls == null) css_urls = [];\n",
       "    if (js_urls == null) js_urls = [];\n",
       "\n",
       "    root._bokeh_onload_callbacks.push(callback);\n",
       "    if (root._bokeh_is_loading > 0) {\n",
       "      console.debug(\"Bokeh: BokehJS is being loaded, scheduling callback at\", now());\n",
       "      return null;\n",
       "    }\n",
       "    if (js_urls == null || js_urls.length === 0) {\n",
       "      run_callbacks();\n",
       "      return null;\n",
       "    }\n",
       "    console.debug(\"Bokeh: BokehJS not loaded, scheduling load and callback at\", now());\n",
       "    root._bokeh_is_loading = css_urls.length + js_urls.length;\n",
       "\n",
       "    function on_load() {\n",
       "      root._bokeh_is_loading--;\n",
       "      if (root._bokeh_is_loading === 0) {\n",
       "        console.debug(\"Bokeh: all BokehJS libraries/stylesheets loaded\");\n",
       "        run_callbacks()\n",
       "      }\n",
       "    }\n",
       "\n",
       "    function on_error(url) {\n",
       "      console.error(\"failed to load \" + url);\n",
       "    }\n",
       "\n",
       "    for (let i = 0; i < css_urls.length; i++) {\n",
       "      const url = css_urls[i];\n",
       "      const element = document.createElement(\"link\");\n",
       "      element.onload = on_load;\n",
       "      element.onerror = on_error.bind(null, url);\n",
       "      element.rel = \"stylesheet\";\n",
       "      element.type = \"text/css\";\n",
       "      element.href = url;\n",
       "      console.debug(\"Bokeh: injecting link tag for BokehJS stylesheet: \", url);\n",
       "      document.body.appendChild(element);\n",
       "    }\n",
       "\n",
       "    for (let i = 0; i < js_urls.length; i++) {\n",
       "      const url = js_urls[i];\n",
       "      const element = document.createElement('script');\n",
       "      element.onload = on_load;\n",
       "      element.onerror = on_error.bind(null, url);\n",
       "      element.async = false;\n",
       "      element.src = url;\n",
       "      console.debug(\"Bokeh: injecting script tag for BokehJS library: \", url);\n",
       "      document.head.appendChild(element);\n",
       "    }\n",
       "  };\n",
       "\n",
       "  function inject_raw_css(css) {\n",
       "    const element = document.createElement(\"style\");\n",
       "    element.appendChild(document.createTextNode(css));\n",
       "    document.body.appendChild(element);\n",
       "  }\n",
       "\n",
       "  const js_urls = [\"https://cdn.bokeh.org/bokeh/release/bokeh-3.7.2.min.js\", \"https://cdn.bokeh.org/bokeh/release/bokeh-gl-3.7.2.min.js\", \"https://cdn.bokeh.org/bokeh/release/bokeh-widgets-3.7.2.min.js\", \"https://cdn.bokeh.org/bokeh/release/bokeh-tables-3.7.2.min.js\", \"https://cdn.bokeh.org/bokeh/release/bokeh-mathjax-3.7.2.min.js\"];\n",
       "  const css_urls = [];\n",
       "\n",
       "  const inline_js = [    function(Bokeh) {\n",
       "      Bokeh.set_log_level(\"info\");\n",
       "    },\n",
       "function(Bokeh) {\n",
       "    }\n",
       "  ];\n",
       "\n",
       "  function run_inline_js() {\n",
       "    if (root.Bokeh !== undefined || force === true) {\n",
       "      try {\n",
       "            for (let i = 0; i < inline_js.length; i++) {\n",
       "      inline_js[i].call(root, root.Bokeh);\n",
       "    }\n",
       "\n",
       "      } catch (error) {display_loaded(error);throw error;\n",
       "      }if (force === true) {\n",
       "        display_loaded();\n",
       "      }} else if (Date.now() < root._bokeh_timeout) {\n",
       "      setTimeout(run_inline_js, 100);\n",
       "    } else if (!root._bokeh_failed_load) {\n",
       "      console.log(\"Bokeh: BokehJS failed to load within specified timeout.\");\n",
       "      root._bokeh_failed_load = true;\n",
       "    } else if (force !== true) {\n",
       "      const cell = $(document.getElementById(\"b95913ca-4da0-4ca7-8ff9-bcc1c389b040\")).parents('.cell').data().cell;\n",
       "      cell.output_area.append_execute_result(NB_LOAD_WARNING)\n",
       "    }\n",
       "  }\n",
       "\n",
       "  if (root._bokeh_is_loading === 0) {\n",
       "    console.debug(\"Bokeh: BokehJS loaded, going straight to plotting\");\n",
       "    run_inline_js();\n",
       "  } else {\n",
       "    load_libs(css_urls, js_urls, function() {\n",
       "      console.debug(\"Bokeh: BokehJS plotting callback run at\", now());\n",
       "      run_inline_js();\n",
       "    });\n",
       "  }\n",
       "}(window));"
      ],
      "application/vnd.bokehjs_load.v0+json": "'use strict';\n(function(root) {\n  function now() {\n    return new Date();\n  }\n\n  const force = true;\n\n  if (typeof root._bokeh_onload_callbacks === \"undefined\" || force === true) {\n    root._bokeh_onload_callbacks = [];\n    root._bokeh_is_loading = undefined;\n  }\n\n\n  if (typeof (root._bokeh_timeout) === \"undefined\" || force === true) {\n    root._bokeh_timeout = Date.now() + 5000;\n    root._bokeh_failed_load = false;\n  }\n\n  const NB_LOAD_WARNING = {'data': {'text/html':\n     \"<div style='background-color: #fdd'>\\n\"+\n     \"<p>\\n\"+\n     \"BokehJS does not appear to have successfully loaded. If loading BokehJS from CDN, this \\n\"+\n     \"may be due to a slow or bad network connection. Possible fixes:\\n\"+\n     \"</p>\\n\"+\n     \"<ul>\\n\"+\n     \"<li>re-rerun `output_notebook()` to attempt to load from CDN again, or</li>\\n\"+\n     \"<li>use INLINE resources instead, as so:</li>\\n\"+\n     \"</ul>\\n\"+\n     \"<code>\\n\"+\n     \"from bokeh.resources import INLINE\\n\"+\n     \"output_notebook(resources=INLINE)\\n\"+\n     \"</code>\\n\"+\n     \"</div>\"}};\n\n  function display_loaded(error = null) {\n    const el = document.getElementById(\"b95913ca-4da0-4ca7-8ff9-bcc1c389b040\");\n    if (el != null) {\n      const html = (() => {\n        if (typeof root.Bokeh === \"undefined\") {\n          if (error == null) {\n            return \"BokehJS is loading ...\";\n          } else {\n            return \"BokehJS failed to load.\";\n          }\n        } else {\n          const prefix = `BokehJS ${root.Bokeh.version}`;\n          if (error == null) {\n            return `${prefix} successfully loaded.`;\n          } else {\n            return `${prefix} <b>encountered errors</b> while loading and may not function as expected.`;\n          }\n        }\n      })();\n      el.innerHTML = html;\n\n      if (error != null) {\n        const wrapper = document.createElement(\"div\");\n        wrapper.style.overflow = \"auto\";\n        wrapper.style.height = \"5em\";\n        wrapper.style.resize = \"vertical\";\n        const content = document.createElement(\"div\");\n        content.style.fontFamily = \"monospace\";\n        content.style.whiteSpace = \"pre-wrap\";\n        content.style.backgroundColor = \"rgb(255, 221, 221)\";\n        content.textContent = error.stack ?? error.toString();\n        wrapper.append(content);\n        el.append(wrapper);\n      }\n    } else if (Date.now() < root._bokeh_timeout) {\n      setTimeout(() => display_loaded(error), 100);\n    }\n  }\n\n  function run_callbacks() {\n    try {\n      root._bokeh_onload_callbacks.forEach(function(callback) {\n        if (callback != null)\n          callback();\n      });\n    } finally {\n      delete root._bokeh_onload_callbacks\n    }\n    console.debug(\"Bokeh: all callbacks have finished\");\n  }\n\n  function load_libs(css_urls, js_urls, callback) {\n    if (css_urls == null) css_urls = [];\n    if (js_urls == null) js_urls = [];\n\n    root._bokeh_onload_callbacks.push(callback);\n    if (root._bokeh_is_loading > 0) {\n      console.debug(\"Bokeh: BokehJS is being loaded, scheduling callback at\", now());\n      return null;\n    }\n    if (js_urls == null || js_urls.length === 0) {\n      run_callbacks();\n      return null;\n    }\n    console.debug(\"Bokeh: BokehJS not loaded, scheduling load and callback at\", now());\n    root._bokeh_is_loading = css_urls.length + js_urls.length;\n\n    function on_load() {\n      root._bokeh_is_loading--;\n      if (root._bokeh_is_loading === 0) {\n        console.debug(\"Bokeh: all BokehJS libraries/stylesheets loaded\");\n        run_callbacks()\n      }\n    }\n\n    function on_error(url) {\n      console.error(\"failed to load \" + url);\n    }\n\n    for (let i = 0; i < css_urls.length; i++) {\n      const url = css_urls[i];\n      const element = document.createElement(\"link\");\n      element.onload = on_load;\n      element.onerror = on_error.bind(null, url);\n      element.rel = \"stylesheet\";\n      element.type = \"text/css\";\n      element.href = url;\n      console.debug(\"Bokeh: injecting link tag for BokehJS stylesheet: \", url);\n      document.body.appendChild(element);\n    }\n\n    for (let i = 0; i < js_urls.length; i++) {\n      const url = js_urls[i];\n      const element = document.createElement('script');\n      element.onload = on_load;\n      element.onerror = on_error.bind(null, url);\n      element.async = false;\n      element.src = url;\n      console.debug(\"Bokeh: injecting script tag for BokehJS library: \", url);\n      document.head.appendChild(element);\n    }\n  };\n\n  function inject_raw_css(css) {\n    const element = document.createElement(\"style\");\n    element.appendChild(document.createTextNode(css));\n    document.body.appendChild(element);\n  }\n\n  const js_urls = [\"https://cdn.bokeh.org/bokeh/release/bokeh-3.7.2.min.js\", \"https://cdn.bokeh.org/bokeh/release/bokeh-gl-3.7.2.min.js\", \"https://cdn.bokeh.org/bokeh/release/bokeh-widgets-3.7.2.min.js\", \"https://cdn.bokeh.org/bokeh/release/bokeh-tables-3.7.2.min.js\", \"https://cdn.bokeh.org/bokeh/release/bokeh-mathjax-3.7.2.min.js\"];\n  const css_urls = [];\n\n  const inline_js = [    function(Bokeh) {\n      Bokeh.set_log_level(\"info\");\n    },\nfunction(Bokeh) {\n    }\n  ];\n\n  function run_inline_js() {\n    if (root.Bokeh !== undefined || force === true) {\n      try {\n            for (let i = 0; i < inline_js.length; i++) {\n      inline_js[i].call(root, root.Bokeh);\n    }\n\n      } catch (error) {display_loaded(error);throw error;\n      }if (force === true) {\n        display_loaded();\n      }} else if (Date.now() < root._bokeh_timeout) {\n      setTimeout(run_inline_js, 100);\n    } else if (!root._bokeh_failed_load) {\n      console.log(\"Bokeh: BokehJS failed to load within specified timeout.\");\n      root._bokeh_failed_load = true;\n    } else if (force !== true) {\n      const cell = $(document.getElementById(\"b95913ca-4da0-4ca7-8ff9-bcc1c389b040\")).parents('.cell').data().cell;\n      cell.output_area.append_execute_result(NB_LOAD_WARNING)\n    }\n  }\n\n  if (root._bokeh_is_loading === 0) {\n    console.debug(\"Bokeh: BokehJS loaded, going straight to plotting\");\n    run_inline_js();\n  } else {\n    load_libs(css_urls, js_urls, function() {\n      console.debug(\"Bokeh: BokehJS plotting callback run at\", now());\n      run_inline_js();\n    });\n  }\n}(window));"
     },
     "metadata": {},
     "output_type": "display_data"
    },
    {
     "data": {
      "application/vnd.jupyter.widget-view+json": {
       "model_id": "642c23aa910e4b5ea23bbeba97bba566",
       "version_major": 2,
       "version_minor": 0
      },
      "text/plain": [
       "Backtest.run:   0%|          | 0/1250 [00:00<?, ?bar/s]"
      ]
     },
     "metadata": {},
     "output_type": "display_data"
    },
    {
     "name": "stdout",
     "output_type": "stream",
     "text": [
      "Start                     2022-01-01 00:00:00\n",
      "End                       2022-01-01 20:50:00\n",
      "Duration                      0 days 20:50:00\n",
      "Exposure Time [%]                         0.0\n",
      "Equity Final [$]                       110.98\n",
      "Equity Peak [$]                        115.12\n",
      "Return [%]                              10.98\n",
      "Buy & Hold Return [%]               -11.33829\n",
      "Return (Ann.) [%]                         0.0\n",
      "Volatility (Ann.) [%]                     NaN\n",
      "CAGR [%]                  1058035078373143...\n",
      "Sharpe Ratio                              NaN\n",
      "Sortino Ratio                             NaN\n",
      "Calmar Ratio                              0.0\n",
      "Alpha [%]                              1.7785\n",
      "Beta                                 -0.81154\n",
      "Max. Drawdown [%]                     -5.9166\n",
      "Avg. Drawdown [%]                    -2.58323\n",
      "Max. Drawdown Duration        0 days 02:28:00\n",
      "Avg. Drawdown Duration        0 days 00:49:00\n",
      "# Trades                                    0\n",
      "Win Rate [%]                              NaN\n",
      "Best Trade [%]                            NaN\n",
      "Worst Trade [%]                           NaN\n",
      "Avg. Trade [%]                            NaN\n",
      "Max. Trade Duration                       NaN\n",
      "Avg. Trade Duration                       NaN\n",
      "Profit Factor                             NaN\n",
      "Expectancy [%]                            NaN\n",
      "SQN                                       NaN\n",
      "Kelly Criterion                           NaN\n",
      "_strategy                          MLStrategy\n",
      "_equity_curve                             ...\n",
      "_trades                   Empty DataFrame\n",
      "...\n",
      "dtype: object\n"
     ]
    },
    {
     "data": {
      "text/html": [
       "\n",
       "  <div id=\"ceb1bf38-cd11-4519-86b3-5848208ccb71\" data-root-id=\"p3347\" style=\"display: contents;\"></div>\n"
      ]
     },
     "metadata": {},
     "output_type": "display_data"
    },
    {
     "data": {
      "application/javascript": [
       "(function(root) {\n",
       "  function embed_document(root) {\n",
       "  const docs_json = {\"6334cfe3-8618-45e7-af6b-177a1e06e11e\":{\"version\":\"3.7.2\",\"title\":\"Bokeh Application\",\"roots\":[{\"type\":\"object\",\"name\":\"GridPlot\",\"id\":\"p3347\",\"attributes\":{\"rows\":null,\"cols\":null,\"sizing_mode\":\"stretch_width\",\"toolbar\":{\"type\":\"object\",\"name\":\"Toolbar\",\"id\":\"p3346\",\"attributes\":{\"tools\":[{\"type\":\"object\",\"name\":\"ToolProxy\",\"id\":\"p3336\",\"attributes\":{\"tools\":[{\"type\":\"object\",\"name\":\"PanTool\",\"id\":\"p3262\",\"attributes\":{\"dimensions\":\"width\"}}]}},{\"type\":\"object\",\"name\":\"ToolProxy\",\"id\":\"p3337\",\"attributes\":{\"tools\":[{\"type\":\"object\",\"name\":\"WheelZoomTool\",\"id\":\"p3263\",\"attributes\":{\"dimensions\":\"width\",\"renderers\":\"auto\",\"maintain_focus\":false}}]}},{\"type\":\"object\",\"name\":\"ToolProxy\",\"id\":\"p3338\",\"attributes\":{\"tools\":[{\"type\":\"object\",\"name\":\"WheelPanTool\",\"id\":\"p3264\"}]}},{\"type\":\"object\",\"name\":\"ToolProxy\",\"id\":\"p3339\",\"attributes\":{\"tools\":[{\"type\":\"object\",\"name\":\"BoxZoomTool\",\"id\":\"p3265\",\"attributes\":{\"dimensions\":\"both\",\"overlay\":{\"type\":\"object\",\"name\":\"BoxAnnotation\",\"id\":\"p3266\",\"attributes\":{\"syncable\":false,\"line_color\":\"black\",\"line_alpha\":1.0,\"line_width\":2,\"line_dash\":[4,4],\"fill_color\":\"lightgrey\",\"fill_alpha\":0.5,\"level\":\"overlay\",\"visible\":false,\"left\":{\"type\":\"number\",\"value\":\"nan\"},\"right\":{\"type\":\"number\",\"value\":\"nan\"},\"top\":{\"type\":\"number\",\"value\":\"nan\"},\"bottom\":{\"type\":\"number\",\"value\":\"nan\"},\"left_units\":\"canvas\",\"right_units\":\"canvas\",\"top_units\":\"canvas\",\"bottom_units\":\"canvas\",\"handles\":{\"type\":\"object\",\"name\":\"BoxInteractionHandles\",\"id\":\"p3272\",\"attributes\":{\"all\":{\"type\":\"object\",\"name\":\"AreaVisuals\",\"id\":\"p3271\",\"attributes\":{\"fill_color\":\"white\",\"hover_fill_color\":\"lightgray\"}}}}}}}}]}},{\"type\":\"object\",\"name\":\"ToolProxy\",\"id\":\"p3340\",\"attributes\":{\"tools\":[{\"type\":\"object\",\"name\":\"UndoTool\",\"id\":\"p3273\"}]}},{\"type\":\"object\",\"name\":\"ToolProxy\",\"id\":\"p3341\",\"attributes\":{\"tools\":[{\"type\":\"object\",\"name\":\"RedoTool\",\"id\":\"p3274\"}]}},{\"type\":\"object\",\"name\":\"ToolProxy\",\"id\":\"p3342\",\"attributes\":{\"tools\":[{\"type\":\"object\",\"name\":\"ResetTool\",\"id\":\"p3275\"}]}},{\"type\":\"object\",\"name\":\"SaveTool\",\"id\":\"p3343\"},{\"type\":\"object\",\"name\":\"ToolProxy\",\"id\":\"p3344\",\"attributes\":{\"tools\":[{\"type\":\"object\",\"name\":\"HoverTool\",\"id\":\"p3331\",\"attributes\":{\"renderers\":[{\"type\":\"object\",\"name\":\"GlyphRenderer\",\"id\":\"p3327\",\"attributes\":{\"data_source\":{\"type\":\"object\",\"name\":\"ColumnDataSource\",\"id\":\"p3277\",\"attributes\":{\"selected\":{\"type\":\"object\",\"name\":\"Selection\",\"id\":\"p3278\",\"attributes\":{\"indices\":[],\"line_indices\":[]}},\"selection_policy\":{\"type\":\"object\",\"name\":\"UnionRenderers\",\"id\":\"p3279\"},\"data\":{\"type\":\"map\",\"entries\":[[\"index\",{\"type\":\"ndarray\",\"array\":{\"type\":\"bytes\",\"data\":\"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\"},\"shape\":[1251],\"dtype\":\"int32\",\"order\":\"little\"}],[\"Open\",{\"type\":\"ndarray\",\"array\":{\"type\":\"bytes\",\"data\":\"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\"},\"shape\":[1251],\"dtype\":\"float64\",\"order\":\"little\"}],[\"High\",{\"type\":\"ndarray\",\"array\":{\"type\":\"bytes\",\"data\":\"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\"},\"shape\":[1251],\"dtype\":\"float64\",\"order\":\"little\"}],[\"Low\",{\"type\":\"ndarray\",\"array\":{\"type\":\"bytes\",\"data\":\"hetRuB6FFUCF61G4HoUVQIXrUbgehRVAhetRuB6FFUCPwvUoXI8VQI/C9ShcjxVAj8L1KFyPFUCPwvUoXI8VQI/C9ShcjxVAj8L1KFyPFUCPwvUoXI8VQI/C9ShcjxVAj8L1KFyPFUCPwvUoXI8VQI/C9ShcjxVAMzMzMzMzFUAzMzMzMzMVQDMzMzMzMxVAMzMzMzMzFUAzMzMzMzMVQDMzMzMzMxVAMzMzMzMzFUAzMzMzMzMVQDMzMzMzMxVAMzMzMzMzFUAzMzMzMzMVQB+F61G4HhVAH4XrUbgeFUAfhetRuB4VQB+F61G4HhVAH4XrUbgeFUAfhetRuB4VQB+F61G4HhVAH4XrUbgeFUAfhetRuB4VQB+F61G4HhVAH4XrUbgeFUAUrkfhehQVQBSuR+F6FBVAFK5H4XoUFUAUrkfhehQVQBSuR+F6FBVAFK5H4XoUFUAUrkfhehQVQBSuR+F6FBVAFK5H4XoUFUAUrkfhehQVQBSuR+F6FBVAMzMzMzMzFUAzMzMzMzMVQDMzMzMzMxVAMzMzMzMzFUAzMzMzMzMVQDMzMzMzMxVAMzMzMzMzFUAzMzMzMzMVQDMzMzMzMxVAhetRuB6FFUCF61G4HoUVQIXrUbgehRVAhetRuB6FFUCF61G4HoUVQIXrUbgehRVAhetRuB6FFUCF61G4HoUVQIXrUbgehRVAhetRuB6FFUCF61G4HoUVQI/C9ShcjxVAj8L1KFyPFUCPwvUoXI8VQI/C9ShcjxVAj8L1KFyPFUCPwvUoXI8VQI/C9ShcjxVAj8L1KFyPFUCPwvUoXI8VQI/C9ShcjxVAj8L1KFyPFUCPwvUoXI8VQI/C9ShcjxVAmpmZmZmZFUCamZmZmZkVQJqZmZmZmRVAmpmZmZmZFUCamZmZmZkVQJqZmZmZmRVAmpmZmZmZFUCamZmZmZkVQKRwPQrXoxVApHA9CtejFUCkcD0K16MVQKRwPQrXoxVApHA9CtejFUCkcD0K16MVQKRwPQrXoxVApHA9CtejFUCkcD0K16MVQKRwPQrXoxVApHA9CtejFUCkcD0K16MVQKRwPQrXoxVAFK5H4XoUFUAUrkfhehQVQBSuR+F6FBVAFK5H4XoUFUAUrkfhehQVQBSuR+F6FBVAFK5H4XoUFUAUrkfhehQVQArXo3A9ChVACtejcD0KFUAK16NwPQoVQArXo3A9ChVACtejcD0KFUAK16NwPQoVQArXo3A9ChVACtejcD0KFUAK16NwPQoVQArXo3A9ChVACtejcD0KFUAK16NwPQoVQArXo3A9ChVAhetRuB6FFUCF61G4HoUVQIXrUbgehRVAhetRuB6FFUCF61G4HoUVQIXrUbgehRVAhetRuB6FFUCF61G4HoUVQIXrUbgehRVAhetRuB6FFUCF61G4HoUVQKRwPQrXoxVApHA9CtejFUCkcD0K16MVQKRwPQrXoxVApHA9CtejFUCkcD0K16MVQKRwPQrXoxVApHA9CtejFUCkcD0K16MVQKRwPQrXoxVApHA9CtejFUCamZmZmZkVQJqZmZmZmRVAmpmZmZmZFUCamZmZmZkVQJqZmZmZmRVAmpmZmZmZFUCamZmZmZkVQJqZmZmZmRVAmpmZmZmZFUCamZmZmZkVQJqZmZmZmRVArkfhehSuFUCuR+F6FK4VQK5H4XoUrhVArkfhehSuFUCuR+F6FK4VQK5H4XoUrhVArkfhehSuFUCuR+F6FK4VQK5H4XoUrhVArkfhehSuFUCuR+F6FK4VQKRwPQrXoxVApHA9CtejFUCkcD0K16MVQKRwPQrXoxVApHA9CtejFUCkcD0K16MVQKRwPQrXoxVApHA9CtejFUCkcD0K16MVQKRwPQrXoxVApHA9CtejFUBSuB6F61EVQFK4HoXrURVAUrgehetRFUBSuB6F61EVQFK4HoXrURVAUrgehetRFUBSuB6F61EVQFK4HoXrURVAUrgehetRFUBSuB6F61EVQFK4HoXrURVArkfhehSuFUCuR+F6FK4VQK5H4XoUrhVArkfhehSuFUCuR+F6FK4VQK5H4XoUrhVArkfhehSuFUCuR+F6FK4VQEjhehSuRxVASOF6FK5HFUBI4XoUrkcVQEjhehSuRxVASOF6FK5HFUBI4XoUrkcVQEjhehSuRxVASOF6FK5HFUBI4XoUrkcVQEjhehSuRxVASOF6FK5HFUBI4XoUrkcVQEjhehSuRxVAUrgehetRFUBI4XoUrkcVQEjhehSuRxVASOF6FK5HFUBI4XoUrkcVQEjhehSuRxVASOF6FK5HFUBI4XoUrkcVQD0K16NwPRVAPQrXo3A9FUA9CtejcD0VQD0K16NwPRVAPQrXo3A9FUA9CtejcD0VQD0K16NwPRVAPQrXo3A9FUA9CtejcD0VQD0K16NwPRVAPQrXo3A9FUA9CtejcD0VQD0K16NwPRVAUrgehetRFUBSuB6F61EVQFK4HoXrURVAUrgehetRFUBSuB6F61EVQFK4HoXrURVAUrgehetRFUBSuB6F61EVQFK4HoXrURVAUrgehetRFUBSuB6F61EVQFK4HoXrURVAUrgehetRFUAzMzMzMzMVQDMzMzMzMxVAMzMzMzMzFUAzMzMzMzMVQDMzMzMzMxVAMzMzMzMzFUAzMzMzMzMVQDMzMzMzMxVAMzMzMzMzFUApXI/C9SgVQB+F61G4HhVAFK5H4XoUFUAK16NwPQoVQAAAAAAAABVA9ihcj8L1FED2KFyPwvUUQPYoXI/C9RRA9ihcj8L1FED2KFyPwvUUQPYoXI/C9RRA9ihcj8L1FED2KFyPwvUUQPYoXI/C9RRA9ihcj8L1FED2KFyPwvUUQPYoXI/C9RRA9ihcj8L1FEBxPQrXo3AVQHE9CtejcBVAcT0K16NwFUBxPQrXo3AVQHE9CtejcBVAcT0K16NwFUBxPQrXo3AVQHE9CtejcBVAcT0K16NwFUBxPQrXo3AVQHE9CtejcBVA9ihcj8L1FED2KFyPwvUUQPYoXI/C9RRA9ihcj8L1FED2KFyPwvUUQPYoXI/C9RRA9ihcj8L1FED2KFyPwvUUQPYoXI/C9RRA9ihcj8L1FED2KFyPwvUUQAAAAAAAABVAAAAAAAAAFUAAAAAAAAAVQAAAAAAAABVAAAAAAAAAFUAAAAAAAAAVQAAAAAAAABVAAAAAAAAAFUBcj8L1KFwVQFyPwvUoXBVAAAAAAAAAFUAAAAAAAAAVQAAAAAAAABVAAAAAAAAAFUAAAAAAAAAVQAAAAAAAABVAAAAAAAAAFUAAAAAAAAAVQAAAAAAAABVAAAAAAAAAFUAAAAAAAAAVQAAAAAAAABVAAAAAAAAAFUD2KFyPwvUUQPYoXI/C9RRA9ihcj8L1FED2KFyPwvUUQPYoXI/C9RRA9ihcj8L1FED2KFyPwvUUQPYoXI/C9RRA9ihcj8L1FED2KFyPwvUUQPYoXI/C9RRA7FG4HoXrFEDsUbgehesUQOxRuB6F6xRA7FG4HoXrFEDsUbgehesUQOxRuB6F6xRA7FG4HoXrFEDsUbgehesUQOxRuB6F6xRA7FG4HoXrFEDsUbgehesUQOF6FK5H4RRA4XoUrkfhFEDhehSuR+EUQOF6FK5H4RRA4XoUrkfhFEDhehSuR+EUQOF6FK5H4RRA4XoUrkfhFEDhehSuR+EUQOF6FK5H4RRA4XoUrkfhFEDhehSuR+EUQNejcD0K1xRA16NwPQrXFEDXo3A9CtcUQNejcD0K1xRA16NwPQrXFEDXo3A9CtcUQNejcD0K1xRA16NwPQrXFEDXo3A9CtcUQNejcD0K1xRA16NwPQrXFEDXo3A9CtcUQMP1KFyPwhRAw/UoXI/CFEDD9Shcj8IUQMP1KFyPwhRAw/UoXI/CFEDD9Shcj8IUQMP1KFyPwhRAw/UoXI/CFEDD9Shcj8IUQMP1KFyPwhRAw/UoXI/CFEDD9Shcj8IUQMP1KFyPwhRAj8L1KFyPFECPwvUoXI8UQI/C9ShcjxRAj8L1KFyPFECPwvUoXI8UQI/C9ShcjxRAj8L1KFyPFECPwvUoXI8UQI/C9ShcjxRAj8L1KFyPFECPwvUoXI8UQI/C9ShcjxRAexSuR+F6FEB7FK5H4XoUQBSuR+F6FBRAFK5H4XoUFEAUrkfhehQUQBSuR+F6FBRAFK5H4XoUFEAUrkfhehQUQBSuR+F6FBRAFK5H4XoUFEAUrkfhehQUQBSuR+F6FBRAFK5H4XoUFEAUrkfhehQUQBSuR+F6FBRAFK5H4XoUFEBSuB6F61EUQFK4HoXrURRAUrgehetRFECPwvUoXI8UQI/C9ShcjxRAj8L1KFyPFECPwvUoXI8UQI/C9ShcjxRAj8L1KFyPFEBcj8L1KFwVQFyPwvUoXBVAXI/C9ShcFUBcj8L1KFwVQFyPwvUoXBVAexSuR+F6FUB7FK5H4XoVQHsUrkfhehVAexSuR+F6FUB7FK5H4XoVQHsUrkfhehVAexSuR+F6FUB7FK5H4XoVQAAAAAAAABRAAAAAAAAAFEAAAAAAAAAUQAAAAAAAABRAAAAAAAAAFEAAAAAAAAAUQAAAAAAAABRAAAAAAAAAFEAAAAAAAAAUQAAAAAAAABRAAAAAAAAAFEAAAAAAAAAUQAAAAAAAABRAXI/C9ShcFEBcj8L1KFwUQFyPwvUoXBRAXI/C9ShcFEBcj8L1KFwUQFyPwvUoXBRAXI/C9ShcFEBcj8L1KFwUQFyPwvUoXBRAXI/C9ShcFEBcj8L1KFwUQOF6FK5H4RNA4XoUrkfhE0DhehSuR+ETQOF6FK5H4RNA4XoUrkfhE0DhehSuR+ETQOF6FK5H4RNA4XoUrkfhE0DhehSuR+ETQOF6FK5H4RNA4XoUrkfhE0DXo3A9CtcTQNejcD0K1xNA16NwPQrXE0DXo3A9CtcTQNejcD0K1xNA16NwPQrXE0DXo3A9CtcTQNejcD0K1xNA16NwPQrXE0DXo3A9CtcTQNejcD0K1xNA4XoUrkfhE0DhehSuR+ETQOF6FK5H4RNA4XoUrkfhE0DhehSuR+ETQOF6FK5H4RNA4XoUrkfhE0DhehSuR+ETQOF6FK5H4RNA9ihcj8L1E0D2KFyPwvUTQPYoXI/C9RNA9ihcj8L1E0D2KFyPwvUTQPYoXI/C9RNA9ihcj8L1E0D2KFyPwvUTQPYoXI/C9RNA9ihcj8L1E0D2KFyPwvUTQPYoXI/C9RNA9ihcj8L1E0DD9Shcj8ITQMP1KFyPwhNAw/UoXI/CE0DD9Shcj8ITQMP1KFyPwhNAw/UoXI/CE0DD9Shcj8ITQMP1KFyPwhNAw/UoXI/CE0DD9Shcj8ITQMP1KFyPwhNAw/UoXI/CE0CPwvUoXI8TQI/C9ShcjxNAj8L1KFyPE0CPwvUoXI8TQI/C9ShcjxNAj8L1KFyPE0CPwvUoXI8TQI/C9ShcjxNAj8L1KFyPE0CPwvUoXI8TQI/C9ShcjxNAj8L1KFyPE0BSuB6F61ETQFK4HoXrURNAUrgehetRE0BSuB6F61ETQFK4HoXrURNAUrgehetRE0BSuB6F61ETQFK4HoXrURNAUrgehetRE0BSuB6F61ETQFK4HoXrURNAUrgehetRE0BSuB6F61ETQFK4HoXrURNASOF6FK5HE0BI4XoUrkcTQEjhehSuRxNASOF6FK5HE0BI4XoUrkcTQEjhehSuRxNASOF6FK5HE0BI4XoUrkcTQEjhehSuRxNASOF6FK5HE0BI4XoUrkcTQK5H4XoUrhNArkfhehSuE0CuR+F6FK4TQK5H4XoUrhNArkfhehSuE0CuR+F6FK4TQK5H4XoUrhNArkfhehSuE0CuR+F6FK4TQK5H4XoUrhNArkfhehSuE0CuR+F6FK4TQI/C9ShcjxNAj8L1KFyPE0CPwvUoXI8TQI/C9ShcjxNAj8L1KFyPE0CPwvUoXI8TQI/C9ShcjxNAj8L1KFyPE0CPwvUoXI8TQI/C9ShcjxNAj8L1KFyPE0CF61G4HoUTQIXrUbgehRNAhetRuB6FE0CF61G4HoUTQIXrUbgehRNAhetRuB6FE0CF61G4HoUTQIXrUbgehRNAhetRuB6FE0CF61G4HoUTQIXrUbgehRNAhetRuB6FE0CuR+F6FK4TQK5H4XoUrhNArkfhehSuE0CuR+F6FK4TQK5H4XoUrhNArkfhehSuE0CuR+F6FK4TQK5H4XoUrhNArkfhehSuE0CuR+F6FK4TQK5H4XoUrhNAzczMzMzME0DhehSuR+ETQOF6FK5H4RNA4XoUrkfhE0DhehSuR+ETQOF6FK5H4RNA4XoUrkfhE0DhehSuR+ETQOF6FK5H4RNAw/UoXI/CE0DD9Shcj8ITQMP1KFyPwhNAw/UoXI/CE0DD9Shcj8ITQMP1KFyPwhNAw/UoXI/CE0DD9Shcj8ITQMP1KFyPwhNAw/UoXI/CE0DD9Shcj8ITQMP1KFyPwhNAw/UoXI/CE0DhehSuR+ETQOF6FK5H4RNA4XoUrkfhE0DhehSuR+ETQOF6FK5H4RNA4XoUrkfhE0DhehSuR+ETQOF6FK5H4RNA4XoUrkfhE0DhehSuR+ETQOF6FK5H4RNAXI/C9ShcE0Bcj8L1KFwTQFyPwvUoXBNAXI/C9ShcE0Bcj8L1KFwTQFyPwvUoXBNAXI/C9ShcE0Bcj8L1KFwTQEjhehSuRxNASOF6FK5HE0BI4XoUrkcTQEjhehSuRxNASOF6FK5HE0BI4XoUrkcTQEjhehSuRxNASOF6FK5HE0BI4XoUrkcTQEjhehSuRxNASOF6FK5HE0BI4XoUrkcTQEjhehSuRxNASOF6FK5HE0AzMzMzMzMTQDMzMzMzMxNAMzMzMzMzE0AzMzMzMzMTQDMzMzMzMxNAMzMzMzMzE0AzMzMzMzMTQDMzMzMzMxNAMzMzMzMzE0AzMzMzMzMTQDMzMzMzMxNAMzMzMzMzE0DNzMzMzMwTQM3MzMzMzBNAzczMzMzME0DNzMzMzMwTQM3MzMzMzBNA16NwPQrXE0DXo3A9CtcTQNejcD0K1xNA16NwPQrXE0DXo3A9CtcTQNejcD0K1xNA16NwPQrXE0DXo3A9CtcTQNejcD0K1xNA16NwPQrXE0DXo3A9CtcTQNejcD0K1xNA16NwPQrXE0ApXI/C9SgTQClcj8L1KBNAKVyPwvUoE0ApXI/C9SgTQClcj8L1KBNAKVyPwvUoE0ApXI/C9SgTQClcj8L1KBNAKVyPwvUoE0ApXI/C9SgTQClcj8L1KBNAmpmZmZmZE0CamZmZmZkTQJqZmZmZmRNAmpmZmZmZE0CamZmZmZkTQJqZmZmZmRNAmpmZmZmZE0CamZmZmZkTQJqZmZmZmRNAzczMzMzME0DNzMzMzMwTQM3MzMzMzBNAzczMzMzME0DNzMzMzMwTQM3MzMzMzBNAzczMzMzME0DNzMzMzMwTQM3MzMzMzBNAzczMzMzME0DNzMzMzMwTQNejcD0K1xNA16NwPQrXE0DXo3A9CtcTQNejcD0K1xNA16NwPQrXE0DXo3A9CtcTQNejcD0K1xNA16NwPQrXE0DXo3A9CtcTQNejcD0K1xNA16NwPQrXE0DXo3A9CtcTQNejcD0K1xNAcT0K16NwE0BxPQrXo3ATQHE9CtejcBNAcT0K16NwE0BxPQrXo3ATQHE9CtejcBNAcT0K16NwE0BxPQrXo3ATQHE9CtejcBNAZmZmZmZmE0BI4XoUrkcTQD0K16NwPRNAPQrXo3A9E0A9CtejcD0TQD0K16NwPRNAPQrXo3A9E0A9CtejcD0TQD0K16NwPRNAPQrXo3A9E0A9CtejcD0TQD0K16NwPRNAPQrXo3A9E0A9CtejcD0TQD0K16NwPRNAw/UoXI/CE0DD9Shcj8ITQMP1KFyPwhNAw/UoXI/CE0DD9Shcj8ITQMP1KFyPwhNAw/UoXI/CE0DD9Shcj8ITQMP1KFyPwhNAw/UoXI/CE0DD9Shcj8ITQNejcD0K1xNA16NwPQrXE0DXo3A9CtcTQOxRuB6F6xNA7FG4HoXrE0DsUbgehesTQOxRuB6F6xNA7FG4HoXrE0DsUbgehesTQOxRuB6F6xNA7FG4HoXrE0DsUbgehesTQOxRuB6F6xNA7FG4HoXrE0DsUbgehesTQOxRuB6F6xNAKVyPwvUoE0ApXI/C9SgTQClcj8L1KBNAKVyPwvUoE0ApXI/C9SgTQClcj8L1KBNAKVyPwvUoE0ApXI/C9SgTQClcj8L1KBNAKVyPwvUoE0ApXI/C9SgTQClcj8L1KBNAMzMzMzMzE0AzMzMzMzMTQDMzMzMzMxNAMzMzMzMzE0AzMzMzMzMTQDMzMzMzMxNAMzMzMzMzE0AzMzMzMzMTQDMzMzMzMxNAMzMzMzMzE0AzMzMzMzMTQArXo3A9ChNACtejcD0KE0AK16NwPQoTQArXo3A9ChNACtejcD0KE0AK16NwPQoTQArXo3A9ChNACtejcD0KE0AK16NwPQoTQArXo3A9ChNACtejcD0KE0AK16NwPQoTQOF6FK5H4RNA4XoUrkfhE0DhehSuR+ETQOF6FK5H4RNA4XoUrkfhE0DhehSuR+ETQOF6FK5H4RNA4XoUrkfhE0DhehSuR+ETQOF6FK5H4RNA4XoUrkfhE0D2KFyPwvUSQPYoXI/C9RJA9ihcj8L1EkD2KFyPwvUSQPYoXI/C9RJA9ihcj8L1EkD2KFyPwvUSQPYoXI/C9RJA9ihcj8L1EkD2KFyPwvUSQPYoXI/C9RJA9ihcj8L1EkDhehSuR+ESQOF6FK5H4RJA4XoUrkfhEkDhehSuR+ESQOF6FK5H4RJA4XoUrkfhEkDhehSuR+ESQOF6FK5H4RJA4XoUrkfhEkDhehSuR+ESQOF6FK5H4RJA4XoUrkfhEkDhehSuR+ESQOxRuB6F6xNA7FG4HoXrE0DsUbgehesTQOxRuB6F6xNA7FG4HoXrE0DsUbgehesTQOxRuB6F6xNA7FG4HoXrE0DsUbgehesTQOxRuB6F6xNA7FG4HoXrE0CkcD0K16MTQKRwPQrXoxNApHA9CtejE0CkcD0K16MTQKRwPQrXoxNApHA9CtejE0CkcD0K16MTQKRwPQrXoxNApHA9CtejE0CkcD0K16MTQKRwPQrXoxNA7FG4HoXrEkDsUbgehesSQOxRuB6F6xJA7FG4HoXrEkDsUbgehesSQOxRuB6F6xJA7FG4HoXrEkDsUbgehesSQOxRuB6F6xJA7FG4HoXrEkDsUbgehesSQGZmZmZmZhJAZmZmZmZmEkBmZmZmZmYSQGZmZmZmZhJAZmZmZmZmEkBmZmZmZmYSQGZmZmZmZhJAZmZmZmZmEkBmZmZmZmYSQGZmZmZmZhJAZmZmZmZmEkBmZmZmZmYSQDMzMzMzMxNAMzMzMzMzE0AzMzMzMzMTQDMzMzMzMxNAMzMzMzMzE0CF61G4HoUTQIXrUbgehRNAhetRuB6FE0CF61G4HoUTQIXrUbgehRNAhetRuB6FE0AfhetRuB4TQB+F61G4HhNAH4XrUbgeE0AfhetRuB4TQB+F61G4HhNAH4XrUbgeE0AfhetRuB4TQB+F61G4HhNAH4XrUbgeE0AfhetRuB4TQB+F61G4HhNAH4XrUbgeE0AfhetRuB4TQB+F61G4HhNA4XoUrkfhEkDhehSuR+ESQOF6FK5H4RJA4XoUrkfhEkDhehSuR+ESQOF6FK5H4RJA4XoUrkfhEkDhehSuR+ESQOF6FK5H4RJA4XoUrkfhEkDhehSuR+ESQHsUrkfhehJAexSuR+F6EkB7FK5H4XoSQHsUrkfhehJAexSuR+F6EkB7FK5H4XoSQHsUrkfhehJAexSuR+F6EkB7FK5H4XoSQHsUrkfhehJAexSuR+F6EkB7FK5H4XoSQFK4HoXrURNAUrgehetRE0BSuB6F61ETQFK4HoXrURNAUrgehetRE0BSuB6F61ETQFK4HoXrURNAUrgehetRE0BSuB6F61ETQFK4HoXrURNAUrgehetRE0BxPQrXo3ASQHE9CtejcBJAcT0K16NwEkBxPQrXo3ASQHE9CtejcBJAcT0K16NwEkBxPQrXo3ASQHE9CtejcBJAcT0K16NwEkBxPQrXo3ASQHE9CtejcBJAXI/C9ShcE0Bcj8L1KFwTQFyPwvUoXBNAXI/C9ShcE0Bcj8L1KFwTQFyPwvUoXBNAXI/C9ShcE0Bcj8L1KFwTQFyPwvUoXBNAXI/C9ShcE0Bcj8L1KFwTQHsUrkfhehJAexSuR+F6EkB7FK5H4XoSQHsUrkfhehJAexSuR+F6EkB7FK5H4XoSQHsUrkfhehJAexSuR+F6EkB7FK5H4XoSQHsUrkfhehJAexSuR+F6EkBmZmZmZmYSQGZmZmZmZhJAZmZmZmZmEkApXI/C9SgSQClcj8L1KBJAKVyPwvUoEkApXI/C9SgSQClcj8L1KBJAKVyPwvUoEkApXI/C9SgSQClcj8L1KBJAKVyPwvUoEkApXI/C9SgSQClcj8L1KBJAKVyPwvUoEkApXI/C9SgSQGZmZmZmZhJAZmZmZmZmEkBmZmZmZmYSQGZmZmZmZhJAZmZmZmZmEkBmZmZmZmYSQGZmZmZmZhJAZmZmZmZmEkBmZmZmZmYSQGZmZmZmZhJAZmZmZmZmEkB7FK5H4XoSQHsUrkfhehJAexSuR+F6EkB7FK5H4XoSQHsUrkfhehJAexSuR+F6EkB7FK5H4XoSQHsUrkfhehJAexSuR+F6EkB7FK5H4XoSQHsUrkfhehJAexSuR+F6EkAzMzMzMzMSQDMzMzMzMxJAMzMzMzMzEkAzMzMzMzMSQDMzMzMzMxJAMzMzMzMzEkAzMzMzMzMSQDMzMzMzMxJAMzMzMzMzEkAzMzMzMzMSQDMzMzMzMxJApHA9CtejEkCkcD0K16MSQKRwPQrXoxJApHA9CtejEkCkcD0K16MSQKRwPQrXoxJApHA9CtejEkCkcD0K16MSQKRwPQrXoxJApHA9CtejEkCkcD0K16MSQClcj8L1KBJAKVyPwvUoEkApXI/C9SgSQClcj8L1KBJAKVyPwvUoEkApXI/C9SgSQClcj8L1KBJAKVyPwvUoEkApXI/C9SgSQClcj8L1KBJAKVyPwvUoEkCuR+F6FK4SQK5H4XoUrhJArkfhehSuEkCuR+F6FK4SQK5H4XoUrhJArkfhehSuEkCuR+F6FK4SQK5H4XoUrhJArkfhehSuEkCuR+F6FK4SQK5H4XoUrhJAuB6F61G4EkC4HoXrUbgSQLgehetRuBJAuB6F61G4EkC4HoXrUbgSQLgehetRuBJAuB6F61G4EkC4HoXrUbgSQLgehetRuBJAuB6F61G4EkC4HoXrUbgSQAAAAAAAABNAAAAAAAAAE0AAAAAAAAATQAAAAAAAABNAAAAAAAAAE0AAAAAAAAATQAAAAAAAABNAAAAAAAAAE0AAAAAAAAATQAAAAAAAABNAAAAAAAAAE0DsUbgehesSQOxRuB6F6xJA7FG4HoXrEkDsUbgehesSQOxRuB6F6xJA7FG4HoXrEkDsUbgehesSQOxRuB6F6xJA7FG4HoXrEkDsUbgehesSQOxRuB6F6xJAKVyPwvUoEkApXI/C9SgSQClcj8L1KBJAKVyPwvUoEkApXI/C9SgSQClcj8L1KBJAKVyPwvUoEkApXI/C9SgSQClcj8L1KBJAKVyPwvUoEkApXI/C9SgSQGZmZmZmZhJAZmZmZmZmEkBmZmZmZmYSQGZmZmZmZhJAZmZmZmZmEkBmZmZmZmYSQGZmZmZmZhJAZmZmZmZmEkBmZmZmZmYSQGZmZmZmZhJAZmZmZmZmEkBI4XoUrkcSQEjhehSuRxJASOF6FK5HEkBI4XoUrkcSQEjhehSuRxJASOF6FK5HEkBI4XoUrkcSQEjhehSuRxJASOF6FK5HEkBI4XoUrkcSQEjhehSuRxJA4XoUrkfhEkDhehSuR+ESQOF6FK5H4RJA4XoUrkfhEkDhehSuR+ESQOF6FK5H4RJA4XoUrkfhEkDhehSuR+ESQOF6FK5H4RJAAAAAAAAAE0AAAAAAAAATQAAAAAAAABNAAAAAAAAAE0AAAAAAAAATQAAAAAAAABNAAAAAAAAAE0AAAAAAAAATQAAAAAAAABNAAAAAAAAAE0AfhetRuB4TQB+F61G4HhNAH4XrUbgeE0AfhetRuB4TQB+F61G4HhNAH4XrUbgeE0AfhetRuB4TQB+F61G4HhNAH4XrUbgeE0AfhetRuB4TQB+F61G4HhNAH4XrUbgeE0AfhetRuB4TQOxRuB6F6xJA7FG4HoXrEkDsUbgehesSQOxRuB6F6xJA7FG4HoXrEkDsUbgehesSQOxRuB6F6xJA7FG4HoXrEkDsUbgehesSQOxRuB6F6xJA7FG4HoXrEkAUrkfhehQTQBSuR+F6FBNAFK5H4XoUE0AUrkfhehQTQBSuR+F6FBNAFK5H4XoUE0AUrkfhehQTQBSuR+F6FBNAFK5H4XoUE0AfhetRuB4TQB+F61G4HhNAH4XrUbgeE0AfhetRuB4TQB+F61G4HhNAH4XrUbgeE0AfhetRuB4TQB+F61G4HhNAH4XrUbgeE0AfhetRuB4TQB+F61G4HhNAH4XrUbgeE0AfhetRuB4TQBSuR+F6FBNAFK5H4XoUE0AUrkfhehQTQBSuR+F6FBNAFK5H4XoUE0AUrkfhehQTQBSuR+F6FBNAFK5H4XoUE0AUrkfhehQTQBSuR+F6FBNA7FG4HoXrEkDsUbgehesSQOxRuB6F6xJA7FG4HoXrEkDsUbgehesSQOxRuB6F6xJA7FG4HoXrEkDsUbgehesSQOxRuB6F6xJA7FG4HoXrEkDsUbgehesSQOxRuB6F6xJA7FG4HoXrEkDD9Shcj8ISQMP1KFyPwhJAw/UoXI/CEkDD9Shcj8ISQMP1KFyPwhJAw/UoXI/CEkDD9Shcj8ISQMP1KFyPwhJAw/UoXI/CEkDD9Shcj8ISQMP1KFyPwhJAFK5H4XoUE0AUrkfhehQTQBSuR+F6FBNAFK5H4XoUE0AUrkfhehQTQBSuR+F6FBNAFK5H4XoUE0AUrkfhehQTQBSuR+F6FBNAFK5H4XoUE0AUrkfhehQTQOxRuB6F6xJA7FG4HoXrEkAK16NwPQoTQArXo3A9ChNACtejcD0KE0AK16NwPQoTQArXo3A9ChNACtejcD0KE0AK16NwPQoTQBSuR+F6FBNAFK5H4XoUE0AUrkfhehQTQBSuR+F6FBNAFK5H4XoUE0AUrkfhehQTQBSuR+F6FBNA\"},\"shape\":[1251],\"dtype\":\"float64\",\"order\":\"little\"}],[\"Close\",{\"type\":\"ndarray\",\"array\":{\"type\":\"bytes\",\"data\":\"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\"},\"shape\":[1251],\"dtype\":\"float64\",\"order\":\"little\"}],[\"Volume\",{\"type\":\"ndarray\",\"array\":{\"type\":\"bytes\",\"data\":\"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\"},\"shape\":[1251],\"dtype\":\"float64\",\"order\":\"little\"}],[\"datetime\",{\"type\":\"ndarray\",\"array\":{\"type\":\"bytes\",\"data\":\"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\"},\"shape\":[1251],\"dtype\":\"float64\",\"order\":\"little\"}],[\"inc\",{\"type\":\"ndarray\",\"array\":[\"1\",\"1\",\"1\",\"1\",\"1\",\"1\",\"1\",\"1\",\"1\",\"1\",\"1\",\"1\",\"1\",\"1\",\"1\",\"1\",\"1\",\"1\",\"1\",\"1\",\"1\",\"1\",\"1\",\"1\",\"1\",\"1\",\"1\",\"1\",\"1\",\"1\",\"1\",\"1\",\"1\",\"1\",\"1\",\"1\",\"1\",\"1\",\"1\",\"1\",\"1\",\"1\",\"1\",\"1\",\"1\",\"1\",\"1\",\"1\",\"1\",\"1\",\"1\",\"1\",\"1\",\"1\",\"1\",\"1\",\"1\",\"1\",\"1\",\"1\",\"1\",\"1\",\"1\",\"1\",\"1\",\"1\",\"1\",\"1\",\"1\",\"1\",\"1\",\"1\",\"1\",\"1\",\"1\",\"1\",\"1\",\"1\",\"1\",\"1\",\"1\",\"1\",\"1\",\"1\",\"1\",\"1\",\"1\",\"1\",\"1\",\"1\",\"1\",\"1\",\"1\",\"1\",\"1\",\"1\",\"1\",\"1\",\"1\",\"1\",\"1\",\"1\",\"1\",\"1\",\"1\",\"1\",\"1\",\"1\",\"1\",\"1\",\"1\",\"1\",\"1\",\"1\",\"1\",\"1\",\"1\",\"1\",\"1\",\"1\",\"1\",\"1\",\"1\",\"1\",\"1\",\"1\",\"1\",\"1\",\"1\",\"1\",\"1\",\"1\",\"1\",\"1\",\"1\",\"1\",\"1\",\"1\",\"1\",\"1\",\"1\",\"1\",\"1\",\"1\",\"1\",\"1\",\"1\",\"1\",\"1\",\"1\",\"1\",\"1\",\"1\",\"1\",\"1\",\"1\",\"1\",\"1\",\"1\",\"1\",\"1\",\"1\",\"1\",\"1\",\"1\",\"1\",\"1\",\"1\",\"1\",\"1\",\"1\",\"1\",\"1\",\"1\",\"1\",\"1\",\"1\",\"1\",\"1\",\"1\",\"1\",\"1\",\"1\",\"1\",\"1\",\"1\",\"1\",\"1\",\"1\",\"1\",\"1\",\"1\",\"1\",\"1\",\"1\",\"1\",\"1\",\"1\",\"1\",\"1\",\"1\",\"1\",\"1\",\"1\",\"1\",\"1\",\"1\",\"1\",\"1\",\"1\",\"1\",\"1\",\"1\",\"1\",\"1\",\"1\",\"1\",\"1\",\"1\",\"1\",\"1\",\"1\",\"1\",\"1\",\"1\",\"1\",\"1\",\"1\",\"1\",\"1\",\"1\",\"1\",\"1\",\"1\",\"1\",\"1\",\"1\",\"1\",\"1\",\"1\",\"1\",\"1\",\"1\",\"1\",\"1\",\"1\",\"1\",\"1\",\"1\",\"1\",\"1\",\"1\",\"1\",\"1\",\"1\",\"1\",\"1\",\"1\",\"1\",\"1\",\"1\",\"1\",\"1\",\"1\",\"1\",\"1\",\"1\",\"1\",\"1\",\"1\",\"1\",\"1\",\"1\",\"1\",\"1\",\"1\",\"1\",\"1\",\"1\",\"1\",\"1\",\"1\",\"1\",\"1\",\"1\",\"1\",\"1\",\"1\",\"1\",\"1\",\"1\",\"1\",\"1\",\"1\",\"1\",\"1\",\"1\",\"1\",\"1\",\"1\",\"1\",\"1\",\"1\",\"1\",\"1\",\"1\",\"1\",\"1\",\"1\",\"1\",\"1\",\"1\",\"1\",\"1\",\"1\",\"1\",\"1\",\"1\",\"1\",\"1\",\"1\",\"1\",\"1\",\"1\",\"1\",\"1\",\"1\",\"1\",\"1\",\"1\",\"1\",\"1\",\"1\",\"1\",\"1\",\"1\",\"1\",\"1\",\"1\",\"1\",\"1\",\"1\",\"1\",\"1\",\"1\",\"1\",\"1\",\"1\",\"1\",\"1\",\"1\",\"1\",\"1\",\"1\",\"1\",\"1\",\"1\",\"1\",\"1\",\"1\",\"1\",\"1\",\"1\",\"1\",\"1\",\"1\",\"1\",\"1\",\"1\",\"1\",\"1\",\"1\",\"1\",\"1\",\"1\",\"1\",\"1\",\"1\",\"1\",\"1\",\"1\",\"1\",\"1\",\"1\",\"1\",\"1\",\"1\",\"1\",\"1\",\"1\",\"1\",\"1\",\"1\",\"1\",\"1\",\"1\",\"1\",\"1\",\"1\",\"1\",\"1\",\"1\",\"1\",\"1\",\"1\",\"1\",\"1\",\"1\",\"1\",\"1\",\"1\",\"1\",\"1\",\"1\",\"1\",\"1\",\"1\",\"1\",\"1\",\"1\",\"1\",\"1\",\"1\",\"1\",\"1\",\"1\",\"1\",\"1\",\"1\",\"1\",\"1\",\"1\",\"1\",\"1\",\"1\",\"1\",\"1\",\"1\",\"1\",\"1\",\"1\",\"1\",\"1\",\"1\",\"1\",\"1\",\"1\",\"1\",\"1\",\"1\",\"1\",\"1\",\"1\",\"1\",\"1\",\"1\",\"1\",\"1\",\"1\",\"1\",\"1\",\"1\",\"1\",\"1\",\"1\",\"1\",\"1\",\"1\",\"1\",\"1\",\"1\",\"1\",\"1\",\"1\",\"1\",\"1\",\"1\",\"1\",\"1\",\"1\",\"1\",\"1\",\"1\",\"1\",\"1\",\"1\",\"1\",\"1\",\"1\",\"1\",\"1\",\"1\",\"1\",\"1\",\"1\",\"1\",\"1\",\"1\",\"1\",\"1\",\"1\",\"1\",\"1\",\"1\",\"1\",\"1\",\"1\",\"1\",\"1\",\"1\",\"1\",\"1\",\"1\",\"1\",\"1\",\"1\",\"1\",\"1\",\"1\",\"1\",\"1\",\"1\",\"1\",\"1\",\"1\",\"1\",\"1\",\"1\",\"1\",\"1\",\"1\",\"1\",\"1\",\"1\",\"1\",\"1\",\"1\",\"1\",\"1\",\"1\",\"1\",\"1\",\"1\",\"1\",\"1\",\"1\",\"1\",\"1\",\"1\",\"1\",\"1\",\"1\",\"1\",\"1\",\"1\",\"1\",\"1\",\"1\",\"1\",\"1\",\"1\",\"1\",\"1\",\"1\",\"1\",\"1\",\"1\",\"1\",\"1\",\"1\",\"1\",\"1\",\"1\",\"1\",\"1\",\"1\",\"1\",\"1\",\"1\",\"1\",\"1\",\"1\",\"1\",\"1\",\"1\",\"1\",\"1\",\"1\",\"1\",\"1\",\"1\",\"1\",\"1\",\"1\",\"1\",\"1\",\"1\",\"1\",\"1\",\"1\",\"1\",\"1\",\"1\",\"1\",\"1\",\"1\",\"1\",\"1\",\"1\",\"1\",\"1\",\"1\",\"1\",\"1\",\"1\",\"1\",\"1\",\"1\",\"1\",\"1\",\"1\",\"1\",\"1\",\"1\",\"1\",\"1\",\"1\",\"1\",\"1\",\"1\",\"1\",\"1\",\"1\",\"1\",\"1\",\"1\",\"1\",\"1\",\"1\",\"1\",\"1\",\"1\",\"1\",\"1\",\"1\",\"1\",\"1\",\"1\",\"1\",\"1\",\"1\",\"1\",\"1\",\"1\",\"1\",\"1\",\"1\",\"1\",\"1\",\"1\",\"1\",\"1\",\"1\",\"1\",\"1\",\"1\",\"1\",\"1\",\"1\",\"1\",\"1\",\"1\",\"1\",\"1\",\"1\",\"1\",\"1\",\"1\",\"1\",\"1\",\"1\",\"1\",\"1\",\"1\",\"1\",\"1\",\"1\",\"1\",\"1\",\"1\",\"1\",\"1\",\"1\",\"1\",\"1\",\"1\",\"1\",\"1\",\"1\",\"1\",\"1\",\"1\",\"1\",\"1\",\"1\",\"1\",\"1\",\"1\",\"1\",\"1\",\"1\",\"1\",\"1\",\"1\",\"1\",\"1\",\"1\",\"1\",\"1\",\"1\",\"1\",\"1\",\"1\",\"1\",\"1\",\"1\",\"1\",\"1\",\"1\",\"1\",\"1\",\"1\",\"1\",\"1\",\"1\",\"1\",\"1\",\"1\",\"1\",\"1\",\"1\",\"1\",\"1\",\"1\",\"1\",\"1\",\"1\",\"1\",\"1\",\"1\",\"1\",\"1\",\"1\",\"1\",\"1\",\"1\",\"1\",\"1\",\"1\",\"1\",\"1\",\"1\",\"1\",\"1\",\"1\",\"1\",\"1\",\"1\",\"1\",\"1\",\"1\",\"1\",\"1\",\"1\",\"1\",\"1\",\"1\",\"1\",\"1\",\"1\",\"1\",\"1\",\"1\",\"1\",\"1\",\"1\",\"1\",\"1\",\"1\",\"1\",\"1\",\"1\",\"1\",\"1\",\"1\",\"1\",\"1\",\"1\",\"1\",\"1\",\"1\",\"1\",\"1\",\"1\",\"1\",\"1\",\"1\",\"1\",\"1\",\"1\",\"1\",\"1\",\"1\",\"1\",\"1\",\"1\",\"1\",\"1\",\"1\",\"1\",\"1\",\"1\",\"1\",\"1\",\"1\",\"1\",\"1\",\"1\",\"1\",\"1\",\"1\",\"1\",\"1\",\"1\",\"1\",\"1\",\"1\",\"1\",\"1\",\"1\",\"1\",\"1\",\"1\",\"1\",\"1\",\"1\",\"1\",\"1\",\"1\",\"1\",\"1\",\"1\",\"1\",\"1\",\"1\",\"1\",\"1\",\"1\",\"1\",\"1\",\"1\",\"1\",\"1\",\"1\",\"1\",\"1\",\"1\",\"1\",\"1\",\"1\",\"1\",\"1\",\"1\",\"1\",\"1\",\"1\",\"1\",\"1\",\"1\",\"1\",\"1\",\"1\",\"1\",\"1\",\"1\",\"1\",\"1\",\"1\",\"1\",\"1\",\"1\",\"1\",\"1\",\"1\",\"1\",\"1\",\"1\",\"1\",\"1\",\"1\",\"1\",\"1\",\"1\",\"1\",\"1\",\"1\",\"1\",\"1\",\"1\",\"1\",\"1\",\"1\",\"1\",\"1\",\"1\",\"1\",\"1\",\"1\",\"1\",\"1\",\"1\",\"1\",\"1\",\"1\",\"1\",\"1\",\"1\",\"1\",\"1\",\"1\",\"1\",\"1\",\"1\",\"1\",\"1\",\"1\",\"1\",\"1\",\"1\",\"1\",\"1\",\"1\",\"1\",\"1\",\"1\",\"1\",\"1\",\"1\",\"1\",\"1\",\"1\",\"1\",\"1\",\"1\",\"1\",\"1\",\"1\",\"1\",\"1\",\"1\",\"1\",\"1\",\"1\",\"1\",\"1\",\"1\",\"1\",\"1\",\"1\",\"1\",\"1\",\"1\",\"1\",\"1\",\"1\",\"1\",\"1\",\"1\",\"1\",\"1\",\"1\",\"1\",\"1\",\"1\",\"1\",\"1\",\"1\",\"1\",\"1\",\"1\",\"1\",\"1\",\"1\",\"1\",\"1\",\"1\",\"1\",\"1\",\"1\",\"1\",\"1\",\"1\",\"1\",\"1\",\"1\",\"1\",\"1\",\"1\",\"1\",\"1\",\"1\",\"1\",\"1\",\"1\",\"1\",\"1\",\"1\",\"1\",\"1\",\"1\",\"1\",\"1\",\"1\",\"1\",\"1\",\"1\",\"1\",\"1\",\"1\",\"1\",\"1\",\"1\",\"1\",\"1\",\"1\",\"1\",\"1\",\"1\",\"1\",\"1\",\"1\",\"1\",\"1\",\"1\",\"1\",\"1\",\"1\",\"1\",\"1\",\"1\",\"1\",\"1\",\"1\",\"1\",\"1\",\"1\",\"1\",\"1\",\"1\",\"1\",\"1\",\"1\",\"1\",\"1\",\"1\",\"1\",\"1\",\"1\",\"1\",\"1\",\"1\",\"1\",\"1\",\"1\",\"1\",\"1\",\"1\",\"1\",\"1\",\"1\",\"1\",\"1\",\"1\",\"1\",\"1\",\"1\",\"1\",\"1\",\"1\",\"1\",\"1\",\"1\",\"1\",\"1\",\"1\",\"1\",\"1\",\"1\",\"1\",\"1\",\"1\",\"1\",\"1\",\"1\",\"1\",\"1\",\"1\",\"1\",\"1\",\"1\",\"1\",\"1\",\"1\",\"1\",\"1\",\"1\",\"1\",\"1\",\"1\",\"1\",\"1\",\"1\",\"1\",\"1\",\"1\",\"1\",\"1\",\"1\",\"1\",\"1\",\"1\",\"1\",\"1\",\"1\",\"1\",\"1\",\"1\",\"1\",\"1\",\"1\",\"1\",\"1\",\"1\",\"1\",\"1\",\"1\",\"1\",\"1\",\"1\",\"1\",\"1\",\"1\",\"1\",\"1\",\"1\",\"1\",\"1\",\"1\",\"1\",\"1\",\"1\",\"1\",\"1\",\"1\",\"1\",\"1\",\"1\",\"1\",\"1\",\"1\",\"1\",\"1\",\"1\",\"1\",\"1\",\"1\",\"1\",\"1\",\"1\",\"1\",\"1\",\"1\",\"1\",\"1\",\"1\",\"1\",\"1\",\"1\",\"1\",\"1\",\"1\",\"1\",\"1\",\"1\",\"1\",\"1\",\"1\",\"1\",\"1\",\"1\",\"1\",\"1\",\"1\",\"1\",\"1\",\"1\",\"1\",\"1\",\"1\",\"1\",\"1\",\"1\",\"1\",\"1\",\"1\",\"1\",\"1\",\"1\",\"1\",\"1\",\"1\",\"1\",\"1\",\"1\",\"1\",\"1\",\"1\",\"1\",\"1\",\"1\",\"1\",\"1\",\"1\",\"1\",\"1\",\"1\",\"1\",\"1\",\"1\",\"1\",\"1\",\"1\",\"1\",\"1\",\"1\",\"1\",\"1\",\"1\",\"1\",\"1\",\"1\"],\"shape\":[1251],\"dtype\":\"object\",\"order\":\"little\"}],[\"ohlc_low\",{\"type\":\"ndarray\",\"array\":{\"type\":\"bytes\",\"data\":\"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\"},\"shape\":[1251],\"dtype\":\"float64\",\"order\":\"little\"}],[\"ohlc_high\",{\"type\":\"ndarray\",\"array\":{\"type\":\"bytes\",\"data\":\"hetRuB6FFUCF61G4HoUVQIXrUbgehRVAhetRuB6FFUCPwvUoXI8VQI/C9ShcjxVAj8L1KFyPFUCPwvUoXI8VQI/C9ShcjxVAj8L1KFyPFUCPwvUoXI8VQI/C9ShcjxVAj8L1KFyPFUCPwvUoXI8VQI/C9ShcjxVAMzMzMzMzFUAzMzMzMzMVQDMzMzMzMxVAMzMzMzMzFUAzMzMzMzMVQDMzMzMzMxVAMzMzMzMzFUAzMzMzMzMVQDMzMzMzMxVAMzMzMzMzFUAzMzMzMzMVQB+F61G4HhVAH4XrUbgeFUAfhetRuB4VQB+F61G4HhVAH4XrUbgeFUAfhetRuB4VQB+F61G4HhVAH4XrUbgeFUAfhetRuB4VQB+F61G4HhVAH4XrUbgeFUAUrkfhehQVQBSuR+F6FBVAFK5H4XoUFUAUrkfhehQVQBSuR+F6FBVAFK5H4XoUFUAUrkfhehQVQBSuR+F6FBVAFK5H4XoUFUAUrkfhehQVQBSuR+F6FBVAMzMzMzMzFUAzMzMzMzMVQDMzMzMzMxVAMzMzMzMzFUAzMzMzMzMVQDMzMzMzMxVAMzMzMzMzFUAzMzMzMzMVQDMzMzMzMxVAhetRuB6FFUCF61G4HoUVQIXrUbgehRVAhetRuB6FFUCF61G4HoUVQIXrUbgehRVAhetRuB6FFUCF61G4HoUVQIXrUbgehRVAhetRuB6FFUCF61G4HoUVQI/C9ShcjxVAj8L1KFyPFUCPwvUoXI8VQI/C9ShcjxVAj8L1KFyPFUCPwvUoXI8VQI/C9ShcjxVAj8L1KFyPFUCPwvUoXI8VQI/C9ShcjxVAj8L1KFyPFUCPwvUoXI8VQI/C9ShcjxVAmpmZmZmZFUCamZmZmZkVQJqZmZmZmRVAmpmZmZmZFUCamZmZmZkVQJqZmZmZmRVAmpmZmZmZFUCamZmZmZkVQKRwPQrXoxVApHA9CtejFUCkcD0K16MVQKRwPQrXoxVApHA9CtejFUCkcD0K16MVQKRwPQrXoxVApHA9CtejFUCkcD0K16MVQKRwPQrXoxVApHA9CtejFUCkcD0K16MVQKRwPQrXoxVAFK5H4XoUFUAUrkfhehQVQBSuR+F6FBVAFK5H4XoUFUAUrkfhehQVQBSuR+F6FBVAFK5H4XoUFUAUrkfhehQVQArXo3A9ChVACtejcD0KFUAK16NwPQoVQArXo3A9ChVACtejcD0KFUAK16NwPQoVQArXo3A9ChVACtejcD0KFUAK16NwPQoVQArXo3A9ChVACtejcD0KFUAK16NwPQoVQArXo3A9ChVAhetRuB6FFUCF61G4HoUVQIXrUbgehRVAhetRuB6FFUCF61G4HoUVQIXrUbgehRVAhetRuB6FFUCF61G4HoUVQIXrUbgehRVAhetRuB6FFUCF61G4HoUVQKRwPQrXoxVApHA9CtejFUCkcD0K16MVQKRwPQrXoxVApHA9CtejFUCkcD0K16MVQKRwPQrXoxVApHA9CtejFUCkcD0K16MVQKRwPQrXoxVApHA9CtejFUCamZmZmZkVQJqZmZmZmRVAmpmZmZmZFUCamZmZmZkVQJqZmZmZmRVAmpmZmZmZFUCamZmZmZkVQJqZmZmZmRVAmpmZmZmZFUCamZmZmZkVQJqZmZmZmRVArkfhehSuFUCuR+F6FK4VQK5H4XoUrhVArkfhehSuFUCuR+F6FK4VQK5H4XoUrhVArkfhehSuFUCuR+F6FK4VQK5H4XoUrhVArkfhehSuFUCuR+F6FK4VQKRwPQrXoxVApHA9CtejFUCkcD0K16MVQKRwPQrXoxVApHA9CtejFUCkcD0K16MVQKRwPQrXoxVApHA9CtejFUCkcD0K16MVQKRwPQrXoxVApHA9CtejFUBSuB6F61EVQFK4HoXrURVAUrgehetRFUBSuB6F61EVQFK4HoXrURVAUrgehetRFUBSuB6F61EVQFK4HoXrURVAUrgehetRFUBSuB6F61EVQFK4HoXrURVArkfhehSuFUCuR+F6FK4VQK5H4XoUrhVArkfhehSuFUCuR+F6FK4VQK5H4XoUrhVArkfhehSuFUCuR+F6FK4VQEjhehSuRxVASOF6FK5HFUBI4XoUrkcVQEjhehSuRxVASOF6FK5HFUBI4XoUrkcVQEjhehSuRxVASOF6FK5HFUBI4XoUrkcVQEjhehSuRxVASOF6FK5HFUBI4XoUrkcVQEjhehSuRxVAUrgehetRFUBI4XoUrkcVQEjhehSuRxVASOF6FK5HFUBI4XoUrkcVQEjhehSuRxVASOF6FK5HFUBI4XoUrkcVQD0K16NwPRVAPQrXo3A9FUA9CtejcD0VQD0K16NwPRVAPQrXo3A9FUA9CtejcD0VQD0K16NwPRVAPQrXo3A9FUA9CtejcD0VQD0K16NwPRVAPQrXo3A9FUA9CtejcD0VQD0K16NwPRVAUrgehetRFUBSuB6F61EVQFK4HoXrURVAUrgehetRFUBSuB6F61EVQFK4HoXrURVAUrgehetRFUBSuB6F61EVQFK4HoXrURVAUrgehetRFUBSuB6F61EVQFK4HoXrURVAUrgehetRFUAzMzMzMzMVQDMzMzMzMxVAMzMzMzMzFUAzMzMzMzMVQDMzMzMzMxVAMzMzMzMzFUAzMzMzMzMVQDMzMzMzMxVAMzMzMzMzFUApXI/C9SgVQB+F61G4HhVAFK5H4XoUFUAK16NwPQoVQAAAAAAAABVA9ihcj8L1FED2KFyPwvUUQPYoXI/C9RRA9ihcj8L1FED2KFyPwvUUQPYoXI/C9RRA9ihcj8L1FED2KFyPwvUUQPYoXI/C9RRA9ihcj8L1FED2KFyPwvUUQPYoXI/C9RRA9ihcj8L1FEBxPQrXo3AVQHE9CtejcBVAcT0K16NwFUBxPQrXo3AVQHE9CtejcBVAcT0K16NwFUBxPQrXo3AVQHE9CtejcBVAcT0K16NwFUBxPQrXo3AVQHE9CtejcBVA9ihcj8L1FED2KFyPwvUUQPYoXI/C9RRA9ihcj8L1FED2KFyPwvUUQPYoXI/C9RRA9ihcj8L1FED2KFyPwvUUQPYoXI/C9RRA9ihcj8L1FED2KFyPwvUUQAAAAAAAABVAAAAAAAAAFUAAAAAAAAAVQAAAAAAAABVAAAAAAAAAFUAAAAAAAAAVQAAAAAAAABVAAAAAAAAAFUBcj8L1KFwVQFyPwvUoXBVAAAAAAAAAFUAAAAAAAAAVQAAAAAAAABVAAAAAAAAAFUAAAAAAAAAVQAAAAAAAABVAAAAAAAAAFUAAAAAAAAAVQAAAAAAAABVAAAAAAAAAFUAAAAAAAAAVQAAAAAAAABVAAAAAAAAAFUD2KFyPwvUUQPYoXI/C9RRA9ihcj8L1FED2KFyPwvUUQPYoXI/C9RRA9ihcj8L1FED2KFyPwvUUQPYoXI/C9RRA9ihcj8L1FED2KFyPwvUUQPYoXI/C9RRA7FG4HoXrFEDsUbgehesUQOxRuB6F6xRA7FG4HoXrFEDsUbgehesUQOxRuB6F6xRA7FG4HoXrFEDsUbgehesUQOxRuB6F6xRA7FG4HoXrFEDsUbgehesUQOF6FK5H4RRA4XoUrkfhFEDhehSuR+EUQOF6FK5H4RRA4XoUrkfhFEDhehSuR+EUQOF6FK5H4RRA4XoUrkfhFEDhehSuR+EUQOF6FK5H4RRA4XoUrkfhFEDhehSuR+EUQNejcD0K1xRA16NwPQrXFEDXo3A9CtcUQNejcD0K1xRA16NwPQrXFEDXo3A9CtcUQNejcD0K1xRA16NwPQrXFEDXo3A9CtcUQNejcD0K1xRA16NwPQrXFEDXo3A9CtcUQMP1KFyPwhRAw/UoXI/CFEDD9Shcj8IUQMP1KFyPwhRAw/UoXI/CFEDD9Shcj8IUQMP1KFyPwhRAw/UoXI/CFEDD9Shcj8IUQMP1KFyPwhRAw/UoXI/CFEDD9Shcj8IUQMP1KFyPwhRAj8L1KFyPFECPwvUoXI8UQI/C9ShcjxRAj8L1KFyPFECPwvUoXI8UQI/C9ShcjxRAj8L1KFyPFECPwvUoXI8UQI/C9ShcjxRAj8L1KFyPFECPwvUoXI8UQI/C9ShcjxRAexSuR+F6FEB7FK5H4XoUQBSuR+F6FBRAFK5H4XoUFEAUrkfhehQUQBSuR+F6FBRAFK5H4XoUFEAUrkfhehQUQBSuR+F6FBRAFK5H4XoUFEAUrkfhehQUQBSuR+F6FBRAFK5H4XoUFEAUrkfhehQUQBSuR+F6FBRAFK5H4XoUFEBSuB6F61EUQFK4HoXrURRAUrgehetRFECPwvUoXI8UQI/C9ShcjxRAj8L1KFyPFECPwvUoXI8UQI/C9ShcjxRAj8L1KFyPFEBcj8L1KFwVQFyPwvUoXBVAXI/C9ShcFUBcj8L1KFwVQFyPwvUoXBVAexSuR+F6FUB7FK5H4XoVQHsUrkfhehVAexSuR+F6FUB7FK5H4XoVQHsUrkfhehVAexSuR+F6FUB7FK5H4XoVQAAAAAAAABRAAAAAAAAAFEAAAAAAAAAUQAAAAAAAABRAAAAAAAAAFEAAAAAAAAAUQAAAAAAAABRAAAAAAAAAFEAAAAAAAAAUQAAAAAAAABRAAAAAAAAAFEAAAAAAAAAUQAAAAAAAABRAXI/C9ShcFEBcj8L1KFwUQFyPwvUoXBRAXI/C9ShcFEBcj8L1KFwUQFyPwvUoXBRAXI/C9ShcFEBcj8L1KFwUQFyPwvUoXBRAXI/C9ShcFEBcj8L1KFwUQOF6FK5H4RNA4XoUrkfhE0DhehSuR+ETQOF6FK5H4RNA4XoUrkfhE0DhehSuR+ETQOF6FK5H4RNA4XoUrkfhE0DhehSuR+ETQOF6FK5H4RNA4XoUrkfhE0DXo3A9CtcTQNejcD0K1xNA16NwPQrXE0DXo3A9CtcTQNejcD0K1xNA16NwPQrXE0DXo3A9CtcTQNejcD0K1xNA16NwPQrXE0DXo3A9CtcTQNejcD0K1xNA4XoUrkfhE0DhehSuR+ETQOF6FK5H4RNA4XoUrkfhE0DhehSuR+ETQOF6FK5H4RNA4XoUrkfhE0DhehSuR+ETQOF6FK5H4RNA9ihcj8L1E0D2KFyPwvUTQPYoXI/C9RNA9ihcj8L1E0D2KFyPwvUTQPYoXI/C9RNA9ihcj8L1E0D2KFyPwvUTQPYoXI/C9RNA9ihcj8L1E0D2KFyPwvUTQPYoXI/C9RNA9ihcj8L1E0DD9Shcj8ITQMP1KFyPwhNAw/UoXI/CE0DD9Shcj8ITQMP1KFyPwhNAw/UoXI/CE0DD9Shcj8ITQMP1KFyPwhNAw/UoXI/CE0DD9Shcj8ITQMP1KFyPwhNAw/UoXI/CE0CPwvUoXI8TQI/C9ShcjxNAj8L1KFyPE0CPwvUoXI8TQI/C9ShcjxNAj8L1KFyPE0CPwvUoXI8TQI/C9ShcjxNAj8L1KFyPE0CPwvUoXI8TQI/C9ShcjxNAj8L1KFyPE0BSuB6F61ETQFK4HoXrURNAUrgehetRE0BSuB6F61ETQFK4HoXrURNAUrgehetRE0BSuB6F61ETQFK4HoXrURNAUrgehetRE0BSuB6F61ETQFK4HoXrURNAUrgehetRE0BSuB6F61ETQFK4HoXrURNASOF6FK5HE0BI4XoUrkcTQEjhehSuRxNASOF6FK5HE0BI4XoUrkcTQEjhehSuRxNASOF6FK5HE0BI4XoUrkcTQEjhehSuRxNASOF6FK5HE0BI4XoUrkcTQK5H4XoUrhNArkfhehSuE0CuR+F6FK4TQK5H4XoUrhNArkfhehSuE0CuR+F6FK4TQK5H4XoUrhNArkfhehSuE0CuR+F6FK4TQK5H4XoUrhNArkfhehSuE0CuR+F6FK4TQI/C9ShcjxNAj8L1KFyPE0CPwvUoXI8TQI/C9ShcjxNAj8L1KFyPE0CPwvUoXI8TQI/C9ShcjxNAj8L1KFyPE0CPwvUoXI8TQI/C9ShcjxNAj8L1KFyPE0CF61G4HoUTQIXrUbgehRNAhetRuB6FE0CF61G4HoUTQIXrUbgehRNAhetRuB6FE0CF61G4HoUTQIXrUbgehRNAhetRuB6FE0CF61G4HoUTQIXrUbgehRNAhetRuB6FE0CuR+F6FK4TQK5H4XoUrhNArkfhehSuE0CuR+F6FK4TQK5H4XoUrhNArkfhehSuE0CuR+F6FK4TQK5H4XoUrhNArkfhehSuE0CuR+F6FK4TQK5H4XoUrhNAzczMzMzME0DhehSuR+ETQOF6FK5H4RNA4XoUrkfhE0DhehSuR+ETQOF6FK5H4RNA4XoUrkfhE0DhehSuR+ETQOF6FK5H4RNAw/UoXI/CE0DD9Shcj8ITQMP1KFyPwhNAw/UoXI/CE0DD9Shcj8ITQMP1KFyPwhNAw/UoXI/CE0DD9Shcj8ITQMP1KFyPwhNAw/UoXI/CE0DD9Shcj8ITQMP1KFyPwhNAw/UoXI/CE0DhehSuR+ETQOF6FK5H4RNA4XoUrkfhE0DhehSuR+ETQOF6FK5H4RNA4XoUrkfhE0DhehSuR+ETQOF6FK5H4RNA4XoUrkfhE0DhehSuR+ETQOF6FK5H4RNAXI/C9ShcE0Bcj8L1KFwTQFyPwvUoXBNAXI/C9ShcE0Bcj8L1KFwTQFyPwvUoXBNAXI/C9ShcE0Bcj8L1KFwTQEjhehSuRxNASOF6FK5HE0BI4XoUrkcTQEjhehSuRxNASOF6FK5HE0BI4XoUrkcTQEjhehSuRxNASOF6FK5HE0BI4XoUrkcTQEjhehSuRxNASOF6FK5HE0BI4XoUrkcTQEjhehSuRxNASOF6FK5HE0AzMzMzMzMTQDMzMzMzMxNAMzMzMzMzE0AzMzMzMzMTQDMzMzMzMxNAMzMzMzMzE0AzMzMzMzMTQDMzMzMzMxNAMzMzMzMzE0AzMzMzMzMTQDMzMzMzMxNAMzMzMzMzE0DNzMzMzMwTQM3MzMzMzBNAzczMzMzME0DNzMzMzMwTQM3MzMzMzBNA16NwPQrXE0DXo3A9CtcTQNejcD0K1xNA16NwPQrXE0DXo3A9CtcTQNejcD0K1xNA16NwPQrXE0DXo3A9CtcTQNejcD0K1xNA16NwPQrXE0DXo3A9CtcTQNejcD0K1xNA16NwPQrXE0ApXI/C9SgTQClcj8L1KBNAKVyPwvUoE0ApXI/C9SgTQClcj8L1KBNAKVyPwvUoE0ApXI/C9SgTQClcj8L1KBNAKVyPwvUoE0ApXI/C9SgTQClcj8L1KBNAmpmZmZmZE0CamZmZmZkTQJqZmZmZmRNAmpmZmZmZE0CamZmZmZkTQJqZmZmZmRNAmpmZmZmZE0CamZmZmZkTQJqZmZmZmRNAzczMzMzME0DNzMzMzMwTQM3MzMzMzBNAzczMzMzME0DNzMzMzMwTQM3MzMzMzBNAzczMzMzME0DNzMzMzMwTQM3MzMzMzBNAzczMzMzME0DNzMzMzMwTQNejcD0K1xNA16NwPQrXE0DXo3A9CtcTQNejcD0K1xNA16NwPQrXE0DXo3A9CtcTQNejcD0K1xNA16NwPQrXE0DXo3A9CtcTQNejcD0K1xNA16NwPQrXE0DXo3A9CtcTQNejcD0K1xNAcT0K16NwE0BxPQrXo3ATQHE9CtejcBNAcT0K16NwE0BxPQrXo3ATQHE9CtejcBNAcT0K16NwE0BxPQrXo3ATQHE9CtejcBNAZmZmZmZmE0BI4XoUrkcTQD0K16NwPRNAPQrXo3A9E0A9CtejcD0TQD0K16NwPRNAPQrXo3A9E0A9CtejcD0TQD0K16NwPRNAPQrXo3A9E0A9CtejcD0TQD0K16NwPRNAPQrXo3A9E0A9CtejcD0TQD0K16NwPRNAw/UoXI/CE0DD9Shcj8ITQMP1KFyPwhNAw/UoXI/CE0DD9Shcj8ITQMP1KFyPwhNAw/UoXI/CE0DD9Shcj8ITQMP1KFyPwhNAw/UoXI/CE0DD9Shcj8ITQNejcD0K1xNA16NwPQrXE0DXo3A9CtcTQOxRuB6F6xNA7FG4HoXrE0DsUbgehesTQOxRuB6F6xNA7FG4HoXrE0DsUbgehesTQOxRuB6F6xNA7FG4HoXrE0DsUbgehesTQOxRuB6F6xNA7FG4HoXrE0DsUbgehesTQOxRuB6F6xNAKVyPwvUoE0ApXI/C9SgTQClcj8L1KBNAKVyPwvUoE0ApXI/C9SgTQClcj8L1KBNAKVyPwvUoE0ApXI/C9SgTQClcj8L1KBNAKVyPwvUoE0ApXI/C9SgTQClcj8L1KBNAMzMzMzMzE0AzMzMzMzMTQDMzMzMzMxNAMzMzMzMzE0AzMzMzMzMTQDMzMzMzMxNAMzMzMzMzE0AzMzMzMzMTQDMzMzMzMxNAMzMzMzMzE0AzMzMzMzMTQArXo3A9ChNACtejcD0KE0AK16NwPQoTQArXo3A9ChNACtejcD0KE0AK16NwPQoTQArXo3A9ChNACtejcD0KE0AK16NwPQoTQArXo3A9ChNACtejcD0KE0AK16NwPQoTQOF6FK5H4RNA4XoUrkfhE0DhehSuR+ETQOF6FK5H4RNA4XoUrkfhE0DhehSuR+ETQOF6FK5H4RNA4XoUrkfhE0DhehSuR+ETQOF6FK5H4RNA4XoUrkfhE0D2KFyPwvUSQPYoXI/C9RJA9ihcj8L1EkD2KFyPwvUSQPYoXI/C9RJA9ihcj8L1EkD2KFyPwvUSQPYoXI/C9RJA9ihcj8L1EkD2KFyPwvUSQPYoXI/C9RJA9ihcj8L1EkDhehSuR+ESQOF6FK5H4RJA4XoUrkfhEkDhehSuR+ESQOF6FK5H4RJA4XoUrkfhEkDhehSuR+ESQOF6FK5H4RJA4XoUrkfhEkDhehSuR+ESQOF6FK5H4RJA4XoUrkfhEkDhehSuR+ESQOxRuB6F6xNA7FG4HoXrE0DsUbgehesTQOxRuB6F6xNA7FG4HoXrE0DsUbgehesTQOxRuB6F6xNA7FG4HoXrE0DsUbgehesTQOxRuB6F6xNA7FG4HoXrE0CkcD0K16MTQKRwPQrXoxNApHA9CtejE0CkcD0K16MTQKRwPQrXoxNApHA9CtejE0CkcD0K16MTQKRwPQrXoxNApHA9CtejE0CkcD0K16MTQKRwPQrXoxNA7FG4HoXrEkDsUbgehesSQOxRuB6F6xJA7FG4HoXrEkDsUbgehesSQOxRuB6F6xJA7FG4HoXrEkDsUbgehesSQOxRuB6F6xJA7FG4HoXrEkDsUbgehesSQGZmZmZmZhJAZmZmZmZmEkBmZmZmZmYSQGZmZmZmZhJAZmZmZmZmEkBmZmZmZmYSQGZmZmZmZhJAZmZmZmZmEkBmZmZmZmYSQGZmZmZmZhJAZmZmZmZmEkBmZmZmZmYSQDMzMzMzMxNAMzMzMzMzE0AzMzMzMzMTQDMzMzMzMxNAMzMzMzMzE0CF61G4HoUTQIXrUbgehRNAhetRuB6FE0CF61G4HoUTQIXrUbgehRNAhetRuB6FE0AfhetRuB4TQB+F61G4HhNAH4XrUbgeE0AfhetRuB4TQB+F61G4HhNAH4XrUbgeE0AfhetRuB4TQB+F61G4HhNAH4XrUbgeE0AfhetRuB4TQB+F61G4HhNAH4XrUbgeE0AfhetRuB4TQB+F61G4HhNA4XoUrkfhEkDhehSuR+ESQOF6FK5H4RJA4XoUrkfhEkDhehSuR+ESQOF6FK5H4RJA4XoUrkfhEkDhehSuR+ESQOF6FK5H4RJA4XoUrkfhEkDhehSuR+ESQHsUrkfhehJAexSuR+F6EkB7FK5H4XoSQHsUrkfhehJAexSuR+F6EkB7FK5H4XoSQHsUrkfhehJAexSuR+F6EkB7FK5H4XoSQHsUrkfhehJAexSuR+F6EkB7FK5H4XoSQFK4HoXrURNAUrgehetRE0BSuB6F61ETQFK4HoXrURNAUrgehetRE0BSuB6F61ETQFK4HoXrURNAUrgehetRE0BSuB6F61ETQFK4HoXrURNAUrgehetRE0BxPQrXo3ASQHE9CtejcBJAcT0K16NwEkBxPQrXo3ASQHE9CtejcBJAcT0K16NwEkBxPQrXo3ASQHE9CtejcBJAcT0K16NwEkBxPQrXo3ASQHE9CtejcBJAXI/C9ShcE0Bcj8L1KFwTQFyPwvUoXBNAXI/C9ShcE0Bcj8L1KFwTQFyPwvUoXBNAXI/C9ShcE0Bcj8L1KFwTQFyPwvUoXBNAXI/C9ShcE0Bcj8L1KFwTQHsUrkfhehJAexSuR+F6EkB7FK5H4XoSQHsUrkfhehJAexSuR+F6EkB7FK5H4XoSQHsUrkfhehJAexSuR+F6EkB7FK5H4XoSQHsUrkfhehJAexSuR+F6EkBmZmZmZmYSQGZmZmZmZhJAZmZmZmZmEkApXI/C9SgSQClcj8L1KBJAKVyPwvUoEkApXI/C9SgSQClcj8L1KBJAKVyPwvUoEkApXI/C9SgSQClcj8L1KBJAKVyPwvUoEkApXI/C9SgSQClcj8L1KBJAKVyPwvUoEkApXI/C9SgSQGZmZmZmZhJAZmZmZmZmEkBmZmZmZmYSQGZmZmZmZhJAZmZmZmZmEkBmZmZmZmYSQGZmZmZmZhJAZmZmZmZmEkBmZmZmZmYSQGZmZmZmZhJAZmZmZmZmEkB7FK5H4XoSQHsUrkfhehJAexSuR+F6EkB7FK5H4XoSQHsUrkfhehJAexSuR+F6EkB7FK5H4XoSQHsUrkfhehJAexSuR+F6EkB7FK5H4XoSQHsUrkfhehJAexSuR+F6EkAzMzMzMzMSQDMzMzMzMxJAMzMzMzMzEkAzMzMzMzMSQDMzMzMzMxJAMzMzMzMzEkAzMzMzMzMSQDMzMzMzMxJAMzMzMzMzEkAzMzMzMzMSQDMzMzMzMxJApHA9CtejEkCkcD0K16MSQKRwPQrXoxJApHA9CtejEkCkcD0K16MSQKRwPQrXoxJApHA9CtejEkCkcD0K16MSQKRwPQrXoxJApHA9CtejEkCkcD0K16MSQClcj8L1KBJAKVyPwvUoEkApXI/C9SgSQClcj8L1KBJAKVyPwvUoEkApXI/C9SgSQClcj8L1KBJAKVyPwvUoEkApXI/C9SgSQClcj8L1KBJAKVyPwvUoEkCuR+F6FK4SQK5H4XoUrhJArkfhehSuEkCuR+F6FK4SQK5H4XoUrhJArkfhehSuEkCuR+F6FK4SQK5H4XoUrhJArkfhehSuEkCuR+F6FK4SQK5H4XoUrhJAuB6F61G4EkC4HoXrUbgSQLgehetRuBJAuB6F61G4EkC4HoXrUbgSQLgehetRuBJAuB6F61G4EkC4HoXrUbgSQLgehetRuBJAuB6F61G4EkC4HoXrUbgSQAAAAAAAABNAAAAAAAAAE0AAAAAAAAATQAAAAAAAABNAAAAAAAAAE0AAAAAAAAATQAAAAAAAABNAAAAAAAAAE0AAAAAAAAATQAAAAAAAABNAAAAAAAAAE0DsUbgehesSQOxRuB6F6xJA7FG4HoXrEkDsUbgehesSQOxRuB6F6xJA7FG4HoXrEkDsUbgehesSQOxRuB6F6xJA7FG4HoXrEkDsUbgehesSQOxRuB6F6xJAKVyPwvUoEkApXI/C9SgSQClcj8L1KBJAKVyPwvUoEkApXI/C9SgSQClcj8L1KBJAKVyPwvUoEkApXI/C9SgSQClcj8L1KBJAKVyPwvUoEkApXI/C9SgSQGZmZmZmZhJAZmZmZmZmEkBmZmZmZmYSQGZmZmZmZhJAZmZmZmZmEkBmZmZmZmYSQGZmZmZmZhJAZmZmZmZmEkBmZmZmZmYSQGZmZmZmZhJAZmZmZmZmEkBI4XoUrkcSQEjhehSuRxJASOF6FK5HEkBI4XoUrkcSQEjhehSuRxJASOF6FK5HEkBI4XoUrkcSQEjhehSuRxJASOF6FK5HEkBI4XoUrkcSQEjhehSuRxJA4XoUrkfhEkDhehSuR+ESQOF6FK5H4RJA4XoUrkfhEkDhehSuR+ESQOF6FK5H4RJA4XoUrkfhEkDhehSuR+ESQOF6FK5H4RJAAAAAAAAAE0AAAAAAAAATQAAAAAAAABNAAAAAAAAAE0AAAAAAAAATQAAAAAAAABNAAAAAAAAAE0AAAAAAAAATQAAAAAAAABNAAAAAAAAAE0AfhetRuB4TQB+F61G4HhNAH4XrUbgeE0AfhetRuB4TQB+F61G4HhNAH4XrUbgeE0AfhetRuB4TQB+F61G4HhNAH4XrUbgeE0AfhetRuB4TQB+F61G4HhNAH4XrUbgeE0AfhetRuB4TQOxRuB6F6xJA7FG4HoXrEkDsUbgehesSQOxRuB6F6xJA7FG4HoXrEkDsUbgehesSQOxRuB6F6xJA7FG4HoXrEkDsUbgehesSQOxRuB6F6xJA7FG4HoXrEkAUrkfhehQTQBSuR+F6FBNAFK5H4XoUE0AUrkfhehQTQBSuR+F6FBNAFK5H4XoUE0AUrkfhehQTQBSuR+F6FBNAFK5H4XoUE0AfhetRuB4TQB+F61G4HhNAH4XrUbgeE0AfhetRuB4TQB+F61G4HhNAH4XrUbgeE0AfhetRuB4TQB+F61G4HhNAH4XrUbgeE0AfhetRuB4TQB+F61G4HhNAH4XrUbgeE0AfhetRuB4TQBSuR+F6FBNAFK5H4XoUE0AUrkfhehQTQBSuR+F6FBNAFK5H4XoUE0AUrkfhehQTQBSuR+F6FBNAFK5H4XoUE0AUrkfhehQTQBSuR+F6FBNA7FG4HoXrEkDsUbgehesSQOxRuB6F6xJA7FG4HoXrEkDsUbgehesSQOxRuB6F6xJA7FG4HoXrEkDsUbgehesSQOxRuB6F6xJA7FG4HoXrEkDsUbgehesSQOxRuB6F6xJA7FG4HoXrEkDD9Shcj8ISQMP1KFyPwhJAw/UoXI/CEkDD9Shcj8ISQMP1KFyPwhJAw/UoXI/CEkDD9Shcj8ISQMP1KFyPwhJAw/UoXI/CEkDD9Shcj8ISQMP1KFyPwhJAFK5H4XoUE0AUrkfhehQTQBSuR+F6FBNAFK5H4XoUE0AUrkfhehQTQBSuR+F6FBNAFK5H4XoUE0AUrkfhehQTQBSuR+F6FBNAFK5H4XoUE0AUrkfhehQTQOxRuB6F6xJA7FG4HoXrEkAK16NwPQoTQArXo3A9ChNACtejcD0KE0AK16NwPQoTQArXo3A9ChNACtejcD0KE0AK16NwPQoTQBSuR+F6FBNAFK5H4XoUE0AUrkfhehQTQBSuR+F6FBNAFK5H4XoUE0AUrkfhehQTQBSuR+F6FBNA\"},\"shape\":[1251],\"dtype\":\"float64\",\"order\":\"little\"}]]}}},\"view\":{\"type\":\"object\",\"name\":\"CDSView\",\"id\":\"p3328\",\"attributes\":{\"filter\":{\"type\":\"object\",\"name\":\"AllIndices\",\"id\":\"p3329\"}}},\"glyph\":{\"type\":\"object\",\"name\":\"VBar\",\"id\":\"p3324\",\"attributes\":{\"x\":{\"type\":\"field\",\"field\":\"index\"},\"width\":{\"type\":\"value\",\"value\":0.8},\"bottom\":{\"type\":\"field\",\"field\":\"Close\"},\"top\":{\"type\":\"field\",\"field\":\"Open\"},\"fill_color\":{\"type\":\"field\",\"field\":\"inc\",\"transform\":{\"type\":\"object\",\"name\":\"CategoricalColorMapper\",\"id\":\"p3283\",\"attributes\":{\"palette\":[\"tomato\",\"lime\"],\"factors\":[\"0\",\"1\"]}}}}},\"nonselection_glyph\":{\"type\":\"object\",\"name\":\"VBar\",\"id\":\"p3325\",\"attributes\":{\"x\":{\"type\":\"field\",\"field\":\"index\"},\"width\":{\"type\":\"value\",\"value\":0.8},\"bottom\":{\"type\":\"field\",\"field\":\"Close\"},\"top\":{\"type\":\"field\",\"field\":\"Open\"},\"line_alpha\":{\"type\":\"value\",\"value\":0.1},\"fill_color\":{\"type\":\"field\",\"field\":\"inc\",\"transform\":{\"id\":\"p3283\"}},\"fill_alpha\":{\"type\":\"value\",\"value\":0.1},\"hatch_alpha\":{\"type\":\"value\",\"value\":0.1}}},\"muted_glyph\":{\"type\":\"object\",\"name\":\"VBar\",\"id\":\"p3326\",\"attributes\":{\"x\":{\"type\":\"field\",\"field\":\"index\"},\"width\":{\"type\":\"value\",\"value\":0.8},\"bottom\":{\"type\":\"field\",\"field\":\"Close\"},\"top\":{\"type\":\"field\",\"field\":\"Open\"},\"line_alpha\":{\"type\":\"value\",\"value\":0.2},\"fill_color\":{\"type\":\"field\",\"field\":\"inc\",\"transform\":{\"id\":\"p3283\"}},\"fill_alpha\":{\"type\":\"value\",\"value\":0.2},\"hatch_alpha\":{\"type\":\"value\",\"value\":0.2}}}}}],\"tooltips\":[[\"Date\",\"@datetime{%c}\"],[\"x, y\",\"$index\\u00a0\\u00a0\\u00a0\\u00a0$y{0,0.0[0000]}\"],[\"OHLC\",\"@Open{0,0.0[0000]}\\u00a0\\u00a0\\u00a0\\u00a0@High{0,0.0[0000]}\\u00a0\\u00a0\\u00a0\\u00a0@Low{0,0.0[0000]}\\u00a0\\u00a0\\u00a0\\u00a0@Close{0,0.0[0000]}\"],[\"Volume\",\"@Volume{0,0}\"]],\"formatters\":{\"type\":\"map\",\"entries\":[[\"@datetime\",\"datetime\"]]},\"mode\":\"vline\",\"point_policy\":\"follow_mouse\"}}]}},{\"type\":\"object\",\"name\":\"ToolProxy\",\"id\":\"p3345\",\"attributes\":{\"tools\":[{\"type\":\"object\",\"name\":\"CrosshairTool\",\"id\":\"p3335\",\"attributes\":{\"overlay\":[{\"type\":\"object\",\"name\":\"Span\",\"id\":\"p3333\",\"attributes\":{\"line_dash\":[2,4]}},{\"type\":\"object\",\"name\":\"Span\",\"id\":\"p3334\",\"attributes\":{\"dimension\":\"height\",\"line_dash\":[2,4]}}],\"line_color\":\"lightgrey\"}}]}}],\"logo\":null,\"active_drag\":{\"id\":\"p3336\"},\"active_scroll\":{\"id\":\"p3337\"}}},\"toolbar_location\":\"right\",\"children\":[[{\"type\":\"object\",\"name\":\"Figure\",\"id\":\"p3241\",\"attributes\":{\"width\":null,\"height\":400,\"sizing_mode\":\"stretch_width\",\"x_range\":{\"type\":\"object\",\"name\":\"Range1d\",\"id\":\"p3240\",\"attributes\":{\"js_property_callbacks\":{\"type\":\"map\",\"entries\":[[\"change:end\",[{\"type\":\"object\",\"name\":\"CustomJS\",\"id\":\"p3332\",\"attributes\":{\"args\":{\"type\":\"map\",\"entries\":[[\"ohlc_range\",{\"type\":\"object\",\"name\":\"DataRange1d\",\"id\":\"p3243\"}],[\"source\",{\"id\":\"p3277\"}]]},\"code\":\"if (!window._bt_scale_range) {\\n    window._bt_scale_range = function (range, min, max, pad) {\\n        \\\"use strict\\\";\\n        if (min !== Infinity && max !== -Infinity) {\\n            pad = pad ? (max - min) * .03 : 0;\\n            range.start = min - pad;\\n            range.end = max + pad;\\n        } else console.error('backtesting: scale range error:', min, max, range);\\n    };\\n}\\n\\nclearTimeout(window._bt_autoscale_timeout);\\n\\nwindow._bt_autoscale_timeout = setTimeout(function () {\\n    /**\\n     * @variable cb_obj `fig_ohlc.x_range`.\\n     * @variable source `ColumnDataSource`\\n     * @variable ohlc_range `fig_ohlc.y_range`.\\n     * @variable volume_range `fig_volume.y_range`.\\n     */\\n    \\\"use strict\\\";\\n\\n    let i = Math.max(Math.floor(cb_obj.start), 0),\\n        j = Math.min(Math.ceil(cb_obj.end), source.data['ohlc_high'].length);\\n\\n    let max = Math.max.apply(null, source.data['ohlc_high'].slice(i, j)),\\n        min = Math.min.apply(null, source.data['ohlc_low'].slice(i, j));\\n    _bt_scale_range(ohlc_range, min, max, true);\\n\\n    if (volume_range) {\\n        max = Math.max.apply(null, source.data['Volume'].slice(i, j));\\n        _bt_scale_range(volume_range, 0, max * 1.03, false);\\n    }\\n\\n}, 50);\\n\"}}]]]},\"end\":1250,\"bounds\":[-62.5,1312.5],\"min_interval\":10}},\"y_range\":{\"id\":\"p3243\"},\"x_scale\":{\"type\":\"object\",\"name\":\"LinearScale\",\"id\":\"p3250\"},\"y_scale\":{\"type\":\"object\",\"name\":\"LinearScale\",\"id\":\"p3251\"},\"title\":{\"type\":\"object\",\"name\":\"Title\",\"id\":\"p3248\"},\"outline_line_color\":\"#666666\",\"renderers\":[{\"type\":\"object\",\"name\":\"GlyphRenderer\",\"id\":\"p3297\",\"attributes\":{\"data_source\":{\"type\":\"object\",\"name\":\"ColumnDataSource\",\"id\":\"p3288\",\"attributes\":{\"selected\":{\"type\":\"object\",\"name\":\"Selection\",\"id\":\"p3289\",\"attributes\":{\"indices\":[],\"line_indices\":[]}},\"selection_policy\":{\"type\":\"object\",\"name\":\"UnionRenderers\",\"id\":\"p3290\"},\"data\":{\"type\":\"map\",\"entries\":[[\"index\",{\"type\":\"ndarray\",\"array\":{\"type\":\"bytes\",\"data\":\"AAAAAACAPUAAAAAAAGBWQAAAAAAAsGJAAAAAAAAwakAAAAAAANhwQAAAAAAAmHRAAAAAAABYeEAAAAAAABh8QAAAAAAA2H9AAAAAAADMgUAAAAAAAKyDQAAAAAAAjIVAAAAAAABsh0AAAAAAAEyJQAAAAAAALItAAAAAAAAMjUAAAAAAAOyOQAAAAAAAZpBAAAAAAABWkUAAAAAAAEaSQAAAAAAAJJNA\"},\"shape\":[21],\"dtype\":\"float64\",\"order\":\"little\"}],[\"Open\",{\"type\":\"ndarray\",\"array\":{\"type\":\"bytes\",\"data\":\"hetRuB6FFUCF61G4HoUVQArXo3A9ChVAUrgehetRFUBSuB6F61EVQAAAAAAAABVA16NwPQrXFEB7FK5H4XoVQPYoXI/C9RNASOF6FK5HE0DD9Shcj8ITQNejcD0K1xNAcT0K16NwE0AzMzMzMzMTQOxRuB6F6xNAH4XrUbgeE0Bcj8L1KFwTQDMzMzMzMxJAAAAAAAAAE0AAAAAAAAATQOxRuB6F6xJA\"},\"shape\":[21],\"dtype\":\"float64\",\"order\":\"little\"}],[\"High\",{\"type\":\"ndarray\",\"array\":{\"type\":\"bytes\",\"data\":\"j8L1KFyPFUCkcD0K16MVQK5H4XoUrhVArkfhehSuFUBxPQrXo3AVQFyPwvUoXBVAexSuR+F6FUB7FK5H4XoVQPYoXI/C9RNA4XoUrkfhE0DhehSuR+ETQNejcD0K1xNA7FG4HoXrE0DsUbgehesTQOxRuB6F6xNAXI/C9ShcE0Bcj8L1KFwTQAAAAAAAABNAAAAAAAAAE0AfhetRuB4TQBSuR+F6FBNA\"},\"shape\":[21],\"dtype\":\"float64\",\"order\":\"little\"}],[\"Low\",{\"type\":\"ndarray\",\"array\":{\"type\":\"bytes\",\"data\":\"FK5H4XoUFUAK16NwPQoVQArXo3A9ChVAPQrXo3A9FUD2KFyPwvUUQNejcD0K1xRAFK5H4XoUFEDXo3A9CtcTQEjhehSuRxNASOF6FK5HE0AzMzMzMzMTQClcj8L1KBNAKVyPwvUoE0DhehSuR+ESQGZmZmZmZhJAcT0K16NwEkApXI/C9SgSQClcj8L1KBJAKVyPwvUoEkDsUbgehesSQMP1KFyPwhJA\"},\"shape\":[21],\"dtype\":\"float64\",\"order\":\"little\"}],[\"Close\",{\"type\":\"ndarray\",\"array\":{\"type\":\"bytes\",\"data\":\"hetRuB6FFUAK16NwPQoVQFK4HoXrURVAUrgehetRFUAAAAAAAAAVQNejcD0K1xRAexSuR+F6FUDhehSuR+ETQEjhehSuRxNAw/UoXI/CE0DNzMzMzMwTQHE9CtejcBNAKVyPwvUoE0DsUbgehesTQB+F61G4HhNAXI/C9ShcE0AzMzMzMzMSQAAAAAAAABNAAAAAAAAAE0AUrkfhehQTQBSuR+F6FBNA\"},\"shape\":[21],\"dtype\":\"float64\",\"order\":\"little\"}],[\"Volume\",{\"type\":\"ndarray\",\"array\":{\"type\":\"bytes\",\"data\":\"AAAAAAAAAAAAAAAAAAAAAAAAAAAAAAAAAAAAAAAAAAAAAAAAAAAAAAAAAAAAAAAAAAAAAAAAAAAAAAAAAAAAAAAAAAAAAAAAAAAAAAAAAAAAAAAAAAAAAAAAAAAAAAAAAAAAAAAAAAAAAAAAAAAAAAAAAAAAAAAAAAAAAAAAAAAAAAAAAAAAAAAAAAAAAAAAAAAAAAAAAAAAAAAAAAAAAAAAAAAAAAAA\"},\"shape\":[21],\"dtype\":\"float64\",\"order\":\"little\"}],[\"_width\",{\"type\":\"ndarray\",\"array\":{\"type\":\"bytes\",\"data\":\"MzMzMzPzTUAzMzMzM/NNQDMzMzMz801AMzMzMzPzTUAzMzMzM/NNQDMzMzMz801AMzMzMzPzTUAzMzMzM/NNQDMzMzMz801AMzMzMzPzTUAzMzMzM/NNQDMzMzMz801AMzMzMzPzTUAzMzMzM/NNQDMzMzMz801AMzMzMzPzTUAzMzMzM/NNQDMzMzMz801AMzMzMzPzTUAzMzMzM/NNQDMzMzMzc0lA\"},\"shape\":[21],\"dtype\":\"float64\",\"order\":\"little\"}],[\"inc\",{\"type\":\"ndarray\",\"array\":[\"1\",\"0\",\"1\",\"1\",\"0\",\"0\",\"1\",\"0\",\"0\",\"1\",\"1\",\"0\",\"0\",\"1\",\"0\",\"1\",\"0\",\"1\",\"1\",\"1\",\"1\"],\"shape\":[21],\"dtype\":\"object\",\"order\":\"little\"}]]}}},\"view\":{\"type\":\"object\",\"name\":\"CDSView\",\"id\":\"p3298\",\"attributes\":{\"filter\":{\"type\":\"object\",\"name\":\"AllIndices\",\"id\":\"p3299\"}}},\"glyph\":{\"type\":\"object\",\"name\":\"Segment\",\"id\":\"p3294\",\"attributes\":{\"x0\":{\"type\":\"field\",\"field\":\"index\"},\"y0\":{\"type\":\"field\",\"field\":\"High\"},\"x1\":{\"type\":\"field\",\"field\":\"index\"},\"y1\":{\"type\":\"field\",\"field\":\"Low\"},\"line_color\":{\"type\":\"value\",\"value\":\"#bbbbbb\"}}},\"nonselection_glyph\":{\"type\":\"object\",\"name\":\"Segment\",\"id\":\"p3295\",\"attributes\":{\"x0\":{\"type\":\"field\",\"field\":\"index\"},\"y0\":{\"type\":\"field\",\"field\":\"High\"},\"x1\":{\"type\":\"field\",\"field\":\"index\"},\"y1\":{\"type\":\"field\",\"field\":\"Low\"},\"line_color\":{\"type\":\"value\",\"value\":\"#bbbbbb\"},\"line_alpha\":{\"type\":\"value\",\"value\":0.1}}},\"muted_glyph\":{\"type\":\"object\",\"name\":\"Segment\",\"id\":\"p3296\",\"attributes\":{\"x0\":{\"type\":\"field\",\"field\":\"index\"},\"y0\":{\"type\":\"field\",\"field\":\"High\"},\"x1\":{\"type\":\"field\",\"field\":\"index\"},\"y1\":{\"type\":\"field\",\"field\":\"Low\"},\"line_color\":{\"type\":\"value\",\"value\":\"#bbbbbb\"},\"line_alpha\":{\"type\":\"value\",\"value\":0.2}}}}},{\"type\":\"object\",\"name\":\"GlyphRenderer\",\"id\":\"p3307\",\"attributes\":{\"data_source\":{\"id\":\"p3288\"},\"view\":{\"type\":\"object\",\"name\":\"CDSView\",\"id\":\"p3308\",\"attributes\":{\"filter\":{\"type\":\"object\",\"name\":\"AllIndices\",\"id\":\"p3309\"}}},\"glyph\":{\"type\":\"object\",\"name\":\"VBar\",\"id\":\"p3304\",\"attributes\":{\"x\":{\"type\":\"field\",\"field\":\"index\"},\"width\":{\"type\":\"field\",\"field\":\"_width\"},\"bottom\":{\"type\":\"field\",\"field\":\"Close\"},\"top\":{\"type\":\"field\",\"field\":\"Open\"},\"line_color\":{\"type\":\"value\",\"value\":null},\"fill_color\":{\"type\":\"field\",\"field\":\"inc\",\"transform\":{\"type\":\"object\",\"name\":\"CategoricalColorMapper\",\"id\":\"p3300\",\"attributes\":{\"palette\":[\"rgb(255, 220, 214)\",\"rgb(214, 254, 214)\"],\"factors\":[\"0\",\"1\"]}}}}},\"nonselection_glyph\":{\"type\":\"object\",\"name\":\"VBar\",\"id\":\"p3305\",\"attributes\":{\"x\":{\"type\":\"field\",\"field\":\"index\"},\"width\":{\"type\":\"field\",\"field\":\"_width\"},\"bottom\":{\"type\":\"field\",\"field\":\"Close\"},\"top\":{\"type\":\"field\",\"field\":\"Open\"},\"line_color\":{\"type\":\"value\",\"value\":null},\"line_alpha\":{\"type\":\"value\",\"value\":0.1},\"fill_color\":{\"type\":\"field\",\"field\":\"inc\",\"transform\":{\"id\":\"p3300\"}},\"fill_alpha\":{\"type\":\"value\",\"value\":0.1},\"hatch_alpha\":{\"type\":\"value\",\"value\":0.1}}},\"muted_glyph\":{\"type\":\"object\",\"name\":\"VBar\",\"id\":\"p3306\",\"attributes\":{\"x\":{\"type\":\"field\",\"field\":\"index\"},\"width\":{\"type\":\"field\",\"field\":\"_width\"},\"bottom\":{\"type\":\"field\",\"field\":\"Close\"},\"top\":{\"type\":\"field\",\"field\":\"Open\"},\"line_color\":{\"type\":\"value\",\"value\":null},\"line_alpha\":{\"type\":\"value\",\"value\":0.2},\"fill_color\":{\"type\":\"field\",\"field\":\"inc\",\"transform\":{\"id\":\"p3300\"}},\"fill_alpha\":{\"type\":\"value\",\"value\":0.2},\"hatch_alpha\":{\"type\":\"value\",\"value\":0.2}}}}},{\"type\":\"object\",\"name\":\"GlyphRenderer\",\"id\":\"p3316\",\"attributes\":{\"data_source\":{\"id\":\"p3277\"},\"view\":{\"type\":\"object\",\"name\":\"CDSView\",\"id\":\"p3317\",\"attributes\":{\"filter\":{\"type\":\"object\",\"name\":\"AllIndices\",\"id\":\"p3318\"}}},\"glyph\":{\"type\":\"object\",\"name\":\"Segment\",\"id\":\"p3313\",\"attributes\":{\"x0\":{\"type\":\"field\",\"field\":\"index\"},\"y0\":{\"type\":\"field\",\"field\":\"High\"},\"x1\":{\"type\":\"field\",\"field\":\"index\"},\"y1\":{\"type\":\"field\",\"field\":\"Low\"}}},\"nonselection_glyph\":{\"type\":\"object\",\"name\":\"Segment\",\"id\":\"p3314\",\"attributes\":{\"x0\":{\"type\":\"field\",\"field\":\"index\"},\"y0\":{\"type\":\"field\",\"field\":\"High\"},\"x1\":{\"type\":\"field\",\"field\":\"index\"},\"y1\":{\"type\":\"field\",\"field\":\"Low\"},\"line_alpha\":{\"type\":\"value\",\"value\":0.1}}},\"muted_glyph\":{\"type\":\"object\",\"name\":\"Segment\",\"id\":\"p3315\",\"attributes\":{\"x0\":{\"type\":\"field\",\"field\":\"index\"},\"y0\":{\"type\":\"field\",\"field\":\"High\"},\"x1\":{\"type\":\"field\",\"field\":\"index\"},\"y1\":{\"type\":\"field\",\"field\":\"Low\"},\"line_alpha\":{\"type\":\"value\",\"value\":0.2}}}}},{\"id\":\"p3327\"}],\"toolbar\":{\"type\":\"object\",\"name\":\"Toolbar\",\"id\":\"p3249\",\"attributes\":{\"tools\":[{\"id\":\"p3262\"},{\"id\":\"p3263\"},{\"id\":\"p3264\"},{\"id\":\"p3265\"},{\"id\":\"p3273\"},{\"id\":\"p3274\"},{\"id\":\"p3275\"},{\"type\":\"object\",\"name\":\"SaveTool\",\"id\":\"p3276\"},{\"id\":\"p3331\"},{\"id\":\"p3335\"}],\"active_drag\":{\"id\":\"p3262\"},\"active_scroll\":{\"id\":\"p3263\"}}},\"toolbar_location\":null,\"left\":[{\"type\":\"object\",\"name\":\"LinearAxis\",\"id\":\"p3257\",\"attributes\":{\"ticker\":{\"type\":\"object\",\"name\":\"BasicTicker\",\"id\":\"p3258\",\"attributes\":{\"mantissas\":[1,2,5]}},\"formatter\":{\"type\":\"object\",\"name\":\"BasicTickFormatter\",\"id\":\"p3259\"},\"major_label_policy\":{\"type\":\"object\",\"name\":\"AllLabels\",\"id\":\"p3260\"}}}],\"below\":[{\"type\":\"object\",\"name\":\"LinearAxis\",\"id\":\"p3252\",\"attributes\":{\"ticker\":{\"type\":\"object\",\"name\":\"BasicTicker\",\"id\":\"p3253\",\"attributes\":{\"mantissas\":[1,2,5]}},\"formatter\":{\"type\":\"object\",\"name\":\"CustomJSTickFormatter\",\"id\":\"p3287\",\"attributes\":{\"args\":{\"type\":\"map\",\"entries\":[[\"axis\",{\"id\":\"p3252\"}],[\"formatter\",{\"type\":\"object\",\"name\":\"DatetimeTickFormatter\",\"id\":\"p3286\",\"attributes\":{\"days\":\"%a, %d %b\"}}],[\"source\",{\"id\":\"p3277\"}]]},\"code\":\"\\nthis.labels = this.labels || formatter.doFormat(ticks\\n                                                .map(i => source.data.datetime[i])\\n                                                .filter(t => t !== undefined));\\nreturn this.labels[index] || \\\"\\\";\\n        \"}},\"major_label_policy\":{\"type\":\"object\",\"name\":\"AllLabels\",\"id\":\"p3255\"}}}],\"center\":[{\"type\":\"object\",\"name\":\"Grid\",\"id\":\"p3256\",\"attributes\":{\"axis\":{\"id\":\"p3252\"}}},{\"type\":\"object\",\"name\":\"Grid\",\"id\":\"p3261\",\"attributes\":{\"dimension\":1,\"axis\":{\"id\":\"p3257\"}}},{\"type\":\"object\",\"name\":\"Legend\",\"id\":\"p3319\",\"attributes\":{\"location\":\"top_left\",\"border_line_color\":\"#333333\",\"background_fill_alpha\":0.9,\"click_policy\":\"hide\",\"label_text_font_size\":\"8pt\",\"margin\":0,\"padding\":5,\"spacing\":0,\"items\":[{\"type\":\"object\",\"name\":\"LegendItem\",\"id\":\"p3320\",\"attributes\":{\"label\":{\"type\":\"value\",\"value\":\"OHLC\"},\"renderers\":[{\"id\":\"p3316\"},{\"id\":\"p3327\"}]}}]}},{\"type\":\"object\",\"name\":\"Label\",\"id\":\"p3330\",\"attributes\":{\"text\":\"Created with Backtesting.py: http://kernc.github.io/backtesting.py\",\"text_color\":\"silver\",\"text_alpha\":0.09,\"x\":10,\"y\":15,\"x_units\":\"screen\",\"y_units\":\"screen\"}}],\"min_border_top\":3,\"min_border_bottom\":6,\"min_border_left\":0,\"min_border_right\":10}},0,0]]}}],\"callbacks\":{\"type\":\"map\",\"entries\":[[\"document_ready\",[{\"type\":\"object\",\"name\":\"CustomJS\",\"id\":\"p3239\",\"attributes\":{\"code\":\"(function() { var i = document.createElement('iframe'); i.style.display='none';i.width=i.height=1;i.loading='eager';i.src='https://kernc.github.io/backtesting.py/plx.gif.html?utm_source='+location.origin;document.body.appendChild(i);})();\"}}]]]}}};\n",
       "  const render_items = [{\"docid\":\"6334cfe3-8618-45e7-af6b-177a1e06e11e\",\"roots\":{\"p3347\":\"ceb1bf38-cd11-4519-86b3-5848208ccb71\"},\"root_ids\":[\"p3347\"]}];\n",
       "  void root.Bokeh.embed.embed_items_notebook(docs_json, render_items);\n",
       "  }\n",
       "  if (root.Bokeh !== undefined) {\n",
       "    embed_document(root);\n",
       "  } else {\n",
       "    let attempts = 0;\n",
       "    const timer = setInterval(function(root) {\n",
       "      if (root.Bokeh !== undefined) {\n",
       "        clearInterval(timer);\n",
       "        embed_document(root);\n",
       "      } else {\n",
       "        attempts++;\n",
       "        if (attempts > 100) {\n",
       "          clearInterval(timer);\n",
       "          console.log(\"Bokeh: ERROR: Unable to run BokehJS code because BokehJS library is missing\");\n",
       "        }\n",
       "      }\n",
       "    }, 10, root)\n",
       "  }\n",
       "})(window);"
      ],
      "application/vnd.bokehjs_exec.v0+json": ""
     },
     "metadata": {
      "application/vnd.bokehjs_exec.v0+json": {
       "id": "p3347"
      }
     },
     "output_type": "display_data"
    }
   ],
   "source": [
    "%matplotlib inline\n",
    "import os\n",
    "import numpy as np\n",
    "import pandas as pd\n",
    "from backtesting import Backtest, Strategy\n",
    "from bokeh.io import show, output_notebook, save\n",
    "\n",
    "output_notebook()\n",
    "\n",
    "def prepare_backtest_data(y_test, y_pred, time_index):\n",
    "    df = pd.DataFrame({\n",
    "        \"Open\": np.array(y_test).flatten(),\n",
    "        \"High\": np.array(y_test).flatten(),\n",
    "        \"Low\": np.array(y_test).flatten(),\n",
    "        \"Close\": np.array(y_test).flatten(),\n",
    "        \"Signal\": np.where(np.array(y_pred).flatten() > np.array(y_test).flatten(), 1, -1)\n",
    "    })\n",
    "    df.index = time_index\n",
    "    return df\n",
    "\n",
    "class MLStrategy(Strategy):\n",
    "    def init(self):\n",
    "        self.signal = self.data.Signal\n",
    "    def next(self):\n",
    "        if self.signal[-1] == 1:\n",
    "            if not self.position.is_long:\n",
    "                self.position.close()\n",
    "                self.buy()\n",
    "        elif self.signal[-1] == -1:\n",
    "            if not self.position.is_short:\n",
    "                self.position.close()\n",
    "                self.sell()\n",
    "\n",
    "def run_backtest(y_test, y_pred, initial_cash=100, model_name=\"gru\", dataset_name=\"btc\", data_percent=0.01):\n",
    "    # Use the index from y_test if available; otherwise, create a default one.\n",
    "    time_index = y_test.index if hasattr(y_test, 'index') else pd.date_range(\n",
    "        start='2022-01-01', periods=len(np.array(y_test).flatten()), freq='T')\n",
    "    \n",
    "    data = prepare_backtest_data(y_test, y_pred, time_index)\n",
    "    bt = Backtest(data, MLStrategy, cash=initial_cash, commission=0.0, exclusive_orders=True)\n",
    "    stats = bt.run()\n",
    "    print(stats)\n",
    "    \n",
    "    # Create a results directory based on model info.\n",
    "    percent_str = f\"{data_percent*100:.4f}\".rstrip(\"0\").rstrip(\".\").replace(\".\", \"_\")\n",
    "    result_dir = os.path.join(\"results\", f\"{model_name}_{dataset_name}_{percent_str}pct\")\n",
    "    os.makedirs(result_dir, exist_ok=True)\n",
    "    \n",
    "    # Save backtest statistics as CSV.\n",
    "    csv_filename = os.path.join(result_dir, \"backtest_result.csv\")\n",
    "    stats.to_csv(csv_filename)\n",
    "    \n",
    "    # Generate the plot, save it as HTML, and display it in Jupyter.\n",
    "    plot_obj = bt.plot()\n",
    "    html_filename = os.path.join(result_dir, \"backtest_plot.html\")\n",
    "    save(plot_obj, filename=html_filename)    \n",
    "    return stats\n",
    "\n",
    "# Example usage:\n",
    "stats = run_backtest(y_test, y_pred, initial_cash=100, model_name=\"gru\", dataset_name=\"btc\", data_percent=DATA_PERCENT)\n"
   ]
  },
  {
   "cell_type": "code",
   "execution_count": null,
   "id": "bba383b3-68ee-425a-91bd-d0a161beacd8",
   "metadata": {},
   "outputs": [],
   "source": []
  }
 ],
 "metadata": {
  "kernelspec": {
   "display_name": "Python 3.10 (recommended)",
   "language": "python",
   "name": "python310"
  },
  "language_info": {
   "codemirror_mode": {
    "name": "ipython",
    "version": 3
   },
   "file_extension": ".py",
   "mimetype": "text/x-python",
   "name": "python",
   "nbconvert_exporter": "python",
   "pygments_lexer": "ipython3",
   "version": "3.10.16"
  },
  "widgets": {
   "application/vnd.jupyter.widget-state+json": {
    "state": {
     "0064267fff8d49cd95d94cd1d6175f40": {
      "model_module": "@jupyter-widgets/controls",
      "model_module_version": "2.0.0",
      "model_name": "HTMLModel",
      "state": {
       "layout": "IPY_MODEL_0aa147961e434f268b32862c14be1b3e",
       "style": "IPY_MODEL_3a69fb491e9347eabbd89aa4e78d1132",
       "value": "Backtest.run:   0%"
      }
     },
     "034d8b3482eb41b894ffaf01a26520ce": {
      "model_module": "@jupyter-widgets/controls",
      "model_module_version": "2.0.0",
      "model_name": "HTMLModel",
      "state": {
       "layout": "IPY_MODEL_492d336be91544258284f254def756d3",
       "style": "IPY_MODEL_317c216edfb642c99dada007d385594a",
       "value": "Backtest.run:   0%"
      }
     },
     "04c5ba78428e4912935d336b402a70f0": {
      "model_module": "@jupyter-widgets/controls",
      "model_module_version": "2.0.0",
      "model_name": "HTMLModel",
      "state": {
       "layout": "IPY_MODEL_3ed39d97fa0f4660b04bba1d49138064",
       "style": "IPY_MODEL_23fe946bfb79415085a27af17bc98349",
       "value": "Backtest.run:   0%"
      }
     },
     "04d5610baa2645a5b5921d7bf3641c40": {
      "model_module": "@jupyter-widgets/controls",
      "model_module_version": "2.0.0",
      "model_name": "HTMLModel",
      "state": {
       "layout": "IPY_MODEL_d48809c0b7a4417e9a2ad8600554a1b8",
       "style": "IPY_MODEL_c1dc8e29276a42ad9b7226d81eb67388",
       "value": "Backtest.run:   0%"
      }
     },
     "0aa147961e434f268b32862c14be1b3e": {
      "model_module": "@jupyter-widgets/base",
      "model_module_version": "2.0.0",
      "model_name": "LayoutModel",
      "state": {}
     },
     "0abff4a33a7a4902bcc7897dcd88185c": {
      "model_module": "@jupyter-widgets/base",
      "model_module_version": "2.0.0",
      "model_name": "LayoutModel",
      "state": {}
     },
     "0b1da3e57b994bc586ef733ceb3e0cec": {
      "model_module": "@jupyter-widgets/base",
      "model_module_version": "2.0.0",
      "model_name": "LayoutModel",
      "state": {}
     },
     "0c0f6bfc524b44b6bb145b9d76a55c0e": {
      "model_module": "@jupyter-widgets/base",
      "model_module_version": "2.0.0",
      "model_name": "LayoutModel",
      "state": {}
     },
     "0cdacfaed6d845918d92236c486fb1e8": {
      "model_module": "@jupyter-widgets/controls",
      "model_module_version": "2.0.0",
      "model_name": "HTMLStyleModel",
      "state": {
       "description_width": "",
       "font_size": null,
       "text_color": null
      }
     },
     "0d411f67303e4b0b9ea32e0c1c2b0c57": {
      "model_module": "@jupyter-widgets/base",
      "model_module_version": "2.0.0",
      "model_name": "LayoutModel",
      "state": {}
     },
     "0de9f089bfee4914990525e8bf132853": {
      "model_module": "@jupyter-widgets/controls",
      "model_module_version": "2.0.0",
      "model_name": "HTMLStyleModel",
      "state": {
       "description_width": "",
       "font_size": null,
       "text_color": null
      }
     },
     "0e4a79ea70504740a126ea3db6a52b3e": {
      "model_module": "@jupyter-widgets/controls",
      "model_module_version": "2.0.0",
      "model_name": "HTMLModel",
      "state": {
       "layout": "IPY_MODEL_858547fabf544183be2d06b904e9fab1",
       "style": "IPY_MODEL_2671b9af5679474d8a95457ac666f60c",
       "value": "Backtest.run:   0%"
      }
     },
     "12236e3c44bd49f688ed6c69c448a43a": {
      "model_module": "@jupyter-widgets/base",
      "model_module_version": "2.0.0",
      "model_name": "LayoutModel",
      "state": {}
     },
     "1294844671ee4a5780bfd3a2b93cd25b": {
      "model_module": "@jupyter-widgets/base",
      "model_module_version": "2.0.0",
      "model_name": "LayoutModel",
      "state": {
       "visibility": "hidden"
      }
     },
     "1577a53ec80041029957b54c9c21b0fd": {
      "model_module": "@jupyter-widgets/controls",
      "model_module_version": "2.0.0",
      "model_name": "FloatProgressModel",
      "state": {
       "layout": "IPY_MODEL_266a492cdbf341b6b88fe4cdb6e777c1",
       "max": 1250,
       "style": "IPY_MODEL_6b02f20f681a47c4aec8561a45d3bbb6",
       "value": 1250
      }
     },
     "16741525035c45d9a9e3f3c08e85adb5": {
      "model_module": "@jupyter-widgets/base",
      "model_module_version": "2.0.0",
      "model_name": "LayoutModel",
      "state": {}
     },
     "17e4b0ddb85f49a3b16e936aaa590173": {
      "model_module": "@jupyter-widgets/controls",
      "model_module_version": "2.0.0",
      "model_name": "ProgressStyleModel",
      "state": {
       "description_width": ""
      }
     },
     "17eb671747f249a7b5cfb023305edef4": {
      "model_module": "@jupyter-widgets/controls",
      "model_module_version": "2.0.0",
      "model_name": "HTMLModel",
      "state": {
       "layout": "IPY_MODEL_777216945b614c8b8ddc1e7faa735df7",
       "style": "IPY_MODEL_d51c9f586e0a4cb6a3c53a7309ef7fe4",
       "value": " 0/1250 [00:00&lt;?, ?bar/s]"
      }
     },
     "1963f61c1a934239943756db1537e2a7": {
      "model_module": "@jupyter-widgets/controls",
      "model_module_version": "2.0.0",
      "model_name": "HTMLModel",
      "state": {
       "layout": "IPY_MODEL_12236e3c44bd49f688ed6c69c448a43a",
       "style": "IPY_MODEL_c2a88169765e41038614f4ddbd3a9785",
       "value": " 0/1250 [00:00&lt;?, ?bar/s]"
      }
     },
     "19970622b190444fad8b5f9bb22604a7": {
      "model_module": "@jupyter-widgets/controls",
      "model_module_version": "2.0.0",
      "model_name": "HTMLModel",
      "state": {
       "layout": "IPY_MODEL_3f0ea3b9217e4756946d217b127b37a9",
       "style": "IPY_MODEL_2afc17cea76f44fd8987a2417dd0fb3f",
       "value": "Backtest.run:   0%"
      }
     },
     "1a6c49b35f084aa0ae331129a0aaac56": {
      "model_module": "@jupyter-widgets/controls",
      "model_module_version": "2.0.0",
      "model_name": "FloatProgressModel",
      "state": {
       "layout": "IPY_MODEL_55a62ec6f3d441869a8a6650faca2243",
       "max": 1250,
       "style": "IPY_MODEL_47ebbbe040024a898d6bb0b5752492d4",
       "value": 1250
      }
     },
     "1a94c33b776d49dda1992aa5792439bb": {
      "model_module": "@jupyter-widgets/base",
      "model_module_version": "2.0.0",
      "model_name": "LayoutModel",
      "state": {}
     },
     "1be3e0b7a6614710a02f3372a6966359": {
      "model_module": "@jupyter-widgets/controls",
      "model_module_version": "2.0.0",
      "model_name": "HTMLStyleModel",
      "state": {
       "description_width": "",
       "font_size": null,
       "text_color": null
      }
     },
     "1c67f2ba277f41d48a51ab16e0bad436": {
      "model_module": "@jupyter-widgets/controls",
      "model_module_version": "2.0.0",
      "model_name": "HTMLStyleModel",
      "state": {
       "description_width": "",
       "font_size": null,
       "text_color": null
      }
     },
     "20b49fb9a8a04e22a45452bee35e3dd4": {
      "model_module": "@jupyter-widgets/controls",
      "model_module_version": "2.0.0",
      "model_name": "ProgressStyleModel",
      "state": {
       "description_width": ""
      }
     },
     "227659e356a3453a919b00fec7fd93b1": {
      "model_module": "@jupyter-widgets/base",
      "model_module_version": "2.0.0",
      "model_name": "LayoutModel",
      "state": {}
     },
     "22780dd80d1c4508a637b1817bc084df": {
      "model_module": "@jupyter-widgets/base",
      "model_module_version": "2.0.0",
      "model_name": "LayoutModel",
      "state": {
       "visibility": "hidden"
      }
     },
     "22960ac38f37449d94eaf6b1c29ac8c8": {
      "model_module": "@jupyter-widgets/base",
      "model_module_version": "2.0.0",
      "model_name": "LayoutModel",
      "state": {}
     },
     "23fe946bfb79415085a27af17bc98349": {
      "model_module": "@jupyter-widgets/controls",
      "model_module_version": "2.0.0",
      "model_name": "HTMLStyleModel",
      "state": {
       "description_width": "",
       "font_size": null,
       "text_color": null
      }
     },
     "24bbcc057e8248189f541ef6d943129d": {
      "model_module": "@jupyter-widgets/base",
      "model_module_version": "2.0.0",
      "model_name": "LayoutModel",
      "state": {
       "visibility": "hidden"
      }
     },
     "25b9ad01f2a9446fa08058ae85586c0b": {
      "model_module": "@jupyter-widgets/base",
      "model_module_version": "2.0.0",
      "model_name": "LayoutModel",
      "state": {
       "visibility": "hidden"
      }
     },
     "266a492cdbf341b6b88fe4cdb6e777c1": {
      "model_module": "@jupyter-widgets/base",
      "model_module_version": "2.0.0",
      "model_name": "LayoutModel",
      "state": {}
     },
     "2671b9af5679474d8a95457ac666f60c": {
      "model_module": "@jupyter-widgets/controls",
      "model_module_version": "2.0.0",
      "model_name": "HTMLStyleModel",
      "state": {
       "description_width": "",
       "font_size": null,
       "text_color": null
      }
     },
     "286800ede41c42518effe7f915b5b1ee": {
      "model_module": "@jupyter-widgets/base",
      "model_module_version": "2.0.0",
      "model_name": "LayoutModel",
      "state": {}
     },
     "2a2d769183914917beb2341c7663bb0e": {
      "model_module": "@jupyter-widgets/base",
      "model_module_version": "2.0.0",
      "model_name": "LayoutModel",
      "state": {}
     },
     "2afc17cea76f44fd8987a2417dd0fb3f": {
      "model_module": "@jupyter-widgets/controls",
      "model_module_version": "2.0.0",
      "model_name": "HTMLStyleModel",
      "state": {
       "description_width": "",
       "font_size": null,
       "text_color": null
      }
     },
     "2b496f1aca8545da91a43bc002c041a7": {
      "model_module": "@jupyter-widgets/controls",
      "model_module_version": "2.0.0",
      "model_name": "HTMLModel",
      "state": {
       "layout": "IPY_MODEL_7cecf48220cb43c09c84b4fdfd5a138f",
       "style": "IPY_MODEL_95b6bf05080c4d53b1c747e32cf4043e",
       "value": "Backtest.run:   0%"
      }
     },
     "2c93a594c3994291a684a35832339975": {
      "model_module": "@jupyter-widgets/base",
      "model_module_version": "2.0.0",
      "model_name": "LayoutModel",
      "state": {
       "visibility": "hidden"
      }
     },
     "2cc73dfea4c44f71897a2b923c54835e": {
      "model_module": "@jupyter-widgets/controls",
      "model_module_version": "2.0.0",
      "model_name": "HTMLStyleModel",
      "state": {
       "description_width": "",
       "font_size": null,
       "text_color": null
      }
     },
     "317c216edfb642c99dada007d385594a": {
      "model_module": "@jupyter-widgets/controls",
      "model_module_version": "2.0.0",
      "model_name": "HTMLStyleModel",
      "state": {
       "description_width": "",
       "font_size": null,
       "text_color": null
      }
     },
     "319939db7891426da43c0a2a7b63d1e0": {
      "model_module": "@jupyter-widgets/base",
      "model_module_version": "2.0.0",
      "model_name": "LayoutModel",
      "state": {}
     },
     "3263b9f204014a9fb993c295474548f7": {
      "model_module": "@jupyter-widgets/controls",
      "model_module_version": "2.0.0",
      "model_name": "ProgressStyleModel",
      "state": {
       "description_width": ""
      }
     },
     "32c1cf253c8c4754b9c5d5a8c96590d5": {
      "model_module": "@jupyter-widgets/base",
      "model_module_version": "2.0.0",
      "model_name": "LayoutModel",
      "state": {}
     },
     "3344c58d980d4b8f97ad3b7cd13cb42f": {
      "model_module": "@jupyter-widgets/base",
      "model_module_version": "2.0.0",
      "model_name": "LayoutModel",
      "state": {
       "visibility": "hidden"
      }
     },
     "35e27e06dc0c422a83a815b136885c83": {
      "model_module": "@jupyter-widgets/base",
      "model_module_version": "2.0.0",
      "model_name": "LayoutModel",
      "state": {}
     },
     "39d90b9e94e64e63ad16eefa3ea808db": {
      "model_module": "@jupyter-widgets/controls",
      "model_module_version": "2.0.0",
      "model_name": "HTMLStyleModel",
      "state": {
       "description_width": "",
       "font_size": null,
       "text_color": null
      }
     },
     "3a69fb491e9347eabbd89aa4e78d1132": {
      "model_module": "@jupyter-widgets/controls",
      "model_module_version": "2.0.0",
      "model_name": "HTMLStyleModel",
      "state": {
       "description_width": "",
       "font_size": null,
       "text_color": null
      }
     },
     "3c0dc53fe4674529abc9d4fb25b778ff": {
      "model_module": "@jupyter-widgets/controls",
      "model_module_version": "2.0.0",
      "model_name": "FloatProgressModel",
      "state": {
       "layout": "IPY_MODEL_54516ac7e69845bfb922521d5985fc8d",
       "max": 1250,
       "style": "IPY_MODEL_17e4b0ddb85f49a3b16e936aaa590173",
       "value": 1250
      }
     },
     "3e718c92658244138f548c9ca4fdb3bc": {
      "model_module": "@jupyter-widgets/controls",
      "model_module_version": "2.0.0",
      "model_name": "HTMLStyleModel",
      "state": {
       "description_width": "",
       "font_size": null,
       "text_color": null
      }
     },
     "3ed39d97fa0f4660b04bba1d49138064": {
      "model_module": "@jupyter-widgets/base",
      "model_module_version": "2.0.0",
      "model_name": "LayoutModel",
      "state": {}
     },
     "3f0ea3b9217e4756946d217b127b37a9": {
      "model_module": "@jupyter-widgets/base",
      "model_module_version": "2.0.0",
      "model_name": "LayoutModel",
      "state": {}
     },
     "409d686811684d1bb8f6632f6cef573a": {
      "model_module": "@jupyter-widgets/controls",
      "model_module_version": "2.0.0",
      "model_name": "HTMLStyleModel",
      "state": {
       "description_width": "",
       "font_size": null,
       "text_color": null
      }
     },
     "41209de4559848af9698bf9f963e6979": {
      "model_module": "@jupyter-widgets/controls",
      "model_module_version": "2.0.0",
      "model_name": "ProgressStyleModel",
      "state": {
       "description_width": ""
      }
     },
     "4168259735fb4a0ca4d3c9723f4cdb30": {
      "model_module": "@jupyter-widgets/controls",
      "model_module_version": "2.0.0",
      "model_name": "ProgressStyleModel",
      "state": {
       "description_width": ""
      }
     },
     "41fb72b2d7384f4a9b6334560350777a": {
      "model_module": "@jupyter-widgets/controls",
      "model_module_version": "2.0.0",
      "model_name": "HTMLStyleModel",
      "state": {
       "description_width": "",
       "font_size": null,
       "text_color": null
      }
     },
     "44730c8713964047b378e755ec83e371": {
      "model_module": "@jupyter-widgets/controls",
      "model_module_version": "2.0.0",
      "model_name": "HTMLStyleModel",
      "state": {
       "description_width": "",
       "font_size": null,
       "text_color": null
      }
     },
     "44b67e4611c54c34aee8e0c8f83b313d": {
      "model_module": "@jupyter-widgets/base",
      "model_module_version": "2.0.0",
      "model_name": "LayoutModel",
      "state": {
       "visibility": "hidden"
      }
     },
     "4778b4d17e5d4ad38555a0330f8bdfc9": {
      "model_module": "@jupyter-widgets/controls",
      "model_module_version": "2.0.0",
      "model_name": "ProgressStyleModel",
      "state": {
       "description_width": ""
      }
     },
     "47ebbbe040024a898d6bb0b5752492d4": {
      "model_module": "@jupyter-widgets/controls",
      "model_module_version": "2.0.0",
      "model_name": "ProgressStyleModel",
      "state": {
       "description_width": ""
      }
     },
     "492d336be91544258284f254def756d3": {
      "model_module": "@jupyter-widgets/base",
      "model_module_version": "2.0.0",
      "model_name": "LayoutModel",
      "state": {}
     },
     "49835f19c91a47ecbd0fb8d88b9120ec": {
      "model_module": "@jupyter-widgets/base",
      "model_module_version": "2.0.0",
      "model_name": "LayoutModel",
      "state": {}
     },
     "4b22398155bf4a8db40d906a54751b99": {
      "model_module": "@jupyter-widgets/base",
      "model_module_version": "2.0.0",
      "model_name": "LayoutModel",
      "state": {}
     },
     "4e2df6b8fbd24350ab63b83c64c38a52": {
      "model_module": "@jupyter-widgets/controls",
      "model_module_version": "2.0.0",
      "model_name": "HTMLModel",
      "state": {
       "layout": "IPY_MODEL_6a88aa5b81a24b6eabecc3b7a6ec634a",
       "style": "IPY_MODEL_766bf300c4f94c6c9ce32feb1ab9c0a4",
       "value": " 0/1250 [00:00&lt;?, ?bar/s]"
      }
     },
     "4eb78bd10a694acc8f4a7fdab39b7df8": {
      "model_module": "@jupyter-widgets/controls",
      "model_module_version": "2.0.0",
      "model_name": "HTMLStyleModel",
      "state": {
       "description_width": "",
       "font_size": null,
       "text_color": null
      }
     },
     "4f77f53d535f47baabf4c3b779e065d0": {
      "model_module": "@jupyter-widgets/controls",
      "model_module_version": "2.0.0",
      "model_name": "ProgressStyleModel",
      "state": {
       "description_width": ""
      }
     },
     "4f9ad8c3d00341cab3f7920d267a6ad5": {
      "model_module": "@jupyter-widgets/controls",
      "model_module_version": "2.0.0",
      "model_name": "HTMLStyleModel",
      "state": {
       "description_width": "",
       "font_size": null,
       "text_color": null
      }
     },
     "4fc636b6e6524cf1ba78336b7aad2a5d": {
      "model_module": "@jupyter-widgets/base",
      "model_module_version": "2.0.0",
      "model_name": "LayoutModel",
      "state": {
       "visibility": "hidden"
      }
     },
     "503f8154d8e84e5487c3ab5386b3d801": {
      "model_module": "@jupyter-widgets/controls",
      "model_module_version": "2.0.0",
      "model_name": "HTMLModel",
      "state": {
       "layout": "IPY_MODEL_edfe43effb4a4986af2db6b9fdeb6108",
       "style": "IPY_MODEL_409d686811684d1bb8f6632f6cef573a",
       "value": " 0/1250 [00:00&lt;?, ?bar/s]"
      }
     },
     "5140f4f65b964b10ad97786cd59a0a90": {
      "model_module": "@jupyter-widgets/controls",
      "model_module_version": "2.0.0",
      "model_name": "FloatProgressModel",
      "state": {
       "layout": "IPY_MODEL_0b1da3e57b994bc586ef733ceb3e0cec",
       "max": 1250,
       "style": "IPY_MODEL_4778b4d17e5d4ad38555a0330f8bdfc9",
       "value": 1250
      }
     },
     "519a8dc9637e4c758a2d6fdebda1f63c": {
      "model_module": "@jupyter-widgets/controls",
      "model_module_version": "2.0.0",
      "model_name": "HTMLModel",
      "state": {
       "layout": "IPY_MODEL_5c340684ae25495a9db3ea1959a933ab",
       "style": "IPY_MODEL_4eb78bd10a694acc8f4a7fdab39b7df8",
       "value": " 0/1250 [00:00&lt;?, ?bar/s]"
      }
     },
     "51cc9db8c68e4bd79e9b984f44da0ebf": {
      "model_module": "@jupyter-widgets/controls",
      "model_module_version": "2.0.0",
      "model_name": "ProgressStyleModel",
      "state": {
       "description_width": ""
      }
     },
     "52450a4dc9284be38b5d3f3b63878a85": {
      "model_module": "@jupyter-widgets/controls",
      "model_module_version": "2.0.0",
      "model_name": "HTMLModel",
      "state": {
       "layout": "IPY_MODEL_93fe2646fc6049169f02088e66c36c39",
       "style": "IPY_MODEL_c0ca73dbbdc24f15b81d1e7cdd1f6c8a",
       "value": " 0/1250 [00:00&lt;?, ?bar/s]"
      }
     },
     "54516ac7e69845bfb922521d5985fc8d": {
      "model_module": "@jupyter-widgets/base",
      "model_module_version": "2.0.0",
      "model_name": "LayoutModel",
      "state": {}
     },
     "55a62ec6f3d441869a8a6650faca2243": {
      "model_module": "@jupyter-widgets/base",
      "model_module_version": "2.0.0",
      "model_name": "LayoutModel",
      "state": {}
     },
     "56551352f7644b5c8d65016da5310a4f": {
      "model_module": "@jupyter-widgets/controls",
      "model_module_version": "2.0.0",
      "model_name": "ProgressStyleModel",
      "state": {
       "description_width": ""
      }
     },
     "58b004e8acfc4a70bd91036809d5b5a5": {
      "model_module": "@jupyter-widgets/base",
      "model_module_version": "2.0.0",
      "model_name": "LayoutModel",
      "state": {}
     },
     "58b28a75c3544ffc9156670a7e0526b7": {
      "model_module": "@jupyter-widgets/controls",
      "model_module_version": "2.0.0",
      "model_name": "HTMLModel",
      "state": {
       "layout": "IPY_MODEL_e2694e967bd14bb0bb53ca8f0021b724",
       "style": "IPY_MODEL_0cdacfaed6d845918d92236c486fb1e8",
       "value": " 0/1250 [00:00&lt;?, ?bar/s]"
      }
     },
     "5afec339a29348a9a946da5e80292e27": {
      "model_module": "@jupyter-widgets/controls",
      "model_module_version": "2.0.0",
      "model_name": "HTMLStyleModel",
      "state": {
       "description_width": "",
       "font_size": null,
       "text_color": null
      }
     },
     "5b8295a740b545a19a423a42c73abcdb": {
      "model_module": "@jupyter-widgets/base",
      "model_module_version": "2.0.0",
      "model_name": "LayoutModel",
      "state": {}
     },
     "5c340684ae25495a9db3ea1959a933ab": {
      "model_module": "@jupyter-widgets/base",
      "model_module_version": "2.0.0",
      "model_name": "LayoutModel",
      "state": {}
     },
     "5c379db5088e4e7eae5a16a32f4fbcaf": {
      "model_module": "@jupyter-widgets/base",
      "model_module_version": "2.0.0",
      "model_name": "LayoutModel",
      "state": {}
     },
     "5d4ffbdda15a4d58a16461be6762d933": {
      "model_module": "@jupyter-widgets/base",
      "model_module_version": "2.0.0",
      "model_name": "LayoutModel",
      "state": {}
     },
     "5de3c8aa0ffc41aebcb849655a1cd6f7": {
      "model_module": "@jupyter-widgets/base",
      "model_module_version": "2.0.0",
      "model_name": "LayoutModel",
      "state": {
       "visibility": "hidden"
      }
     },
     "5f8c09a6edbf4ae8bd53e191550d4ad1": {
      "model_module": "@jupyter-widgets/controls",
      "model_module_version": "2.0.0",
      "model_name": "HTMLStyleModel",
      "state": {
       "description_width": "",
       "font_size": null,
       "text_color": null
      }
     },
     "5f933635f91e431b82227b0d08401ab2": {
      "model_module": "@jupyter-widgets/controls",
      "model_module_version": "2.0.0",
      "model_name": "HTMLModel",
      "state": {
       "layout": "IPY_MODEL_4b22398155bf4a8db40d906a54751b99",
       "style": "IPY_MODEL_87e1c7290e99414dabd6e74303adfad0",
       "value": "Backtest.run:   0%"
      }
     },
     "601f9c37250c48ebaabe9e3146d42468": {
      "model_module": "@jupyter-widgets/base",
      "model_module_version": "2.0.0",
      "model_name": "LayoutModel",
      "state": {}
     },
     "6161d25a7d9241969f7b5a9dd2156517": {
      "model_module": "@jupyter-widgets/base",
      "model_module_version": "2.0.0",
      "model_name": "LayoutModel",
      "state": {}
     },
     "62c937281ab742559dbb7b6ccce34e53": {
      "model_module": "@jupyter-widgets/base",
      "model_module_version": "2.0.0",
      "model_name": "LayoutModel",
      "state": {
       "visibility": "hidden"
      }
     },
     "6352e9f548fc4aff880dbce67788cfed": {
      "model_module": "@jupyter-widgets/base",
      "model_module_version": "2.0.0",
      "model_name": "LayoutModel",
      "state": {}
     },
     "6595a702aa4c41a1ae30fa4e5b7e267f": {
      "model_module": "@jupyter-widgets/base",
      "model_module_version": "2.0.0",
      "model_name": "LayoutModel",
      "state": {}
     },
     "65fb2583f5d14f66962327ff73a83820": {
      "model_module": "@jupyter-widgets/base",
      "model_module_version": "2.0.0",
      "model_name": "LayoutModel",
      "state": {}
     },
     "6685186f23d140c9845c4a160d34061a": {
      "model_module": "@jupyter-widgets/controls",
      "model_module_version": "2.0.0",
      "model_name": "FloatProgressModel",
      "state": {
       "layout": "IPY_MODEL_5b8295a740b545a19a423a42c73abcdb",
       "max": 1250,
       "style": "IPY_MODEL_f9722f7dc05b4a9a951c5aeabce205a5",
       "value": 1250
      }
     },
     "66b8a3100de34e2497111fe41b754025": {
      "model_module": "@jupyter-widgets/controls",
      "model_module_version": "2.0.0",
      "model_name": "HTMLStyleModel",
      "state": {
       "description_width": "",
       "font_size": null,
       "text_color": null
      }
     },
     "689ee12620704a5da4deb3ee7b7a7c8b": {
      "model_module": "@jupyter-widgets/controls",
      "model_module_version": "2.0.0",
      "model_name": "FloatProgressModel",
      "state": {
       "layout": "IPY_MODEL_22960ac38f37449d94eaf6b1c29ac8c8",
       "max": 1250,
       "style": "IPY_MODEL_baae6b3e8d1b4caeb676ade0eb41b98f",
       "value": 1250
      }
     },
     "68bf6068f36e41999e1db8b214c51398": {
      "model_module": "@jupyter-widgets/controls",
      "model_module_version": "2.0.0",
      "model_name": "HTMLStyleModel",
      "state": {
       "description_width": "",
       "font_size": null,
       "text_color": null
      }
     },
     "6a88aa5b81a24b6eabecc3b7a6ec634a": {
      "model_module": "@jupyter-widgets/base",
      "model_module_version": "2.0.0",
      "model_name": "LayoutModel",
      "state": {}
     },
     "6b02f20f681a47c4aec8561a45d3bbb6": {
      "model_module": "@jupyter-widgets/controls",
      "model_module_version": "2.0.0",
      "model_name": "ProgressStyleModel",
      "state": {
       "description_width": ""
      }
     },
     "6ca8a031f0864ff4887b7c843849922b": {
      "model_module": "@jupyter-widgets/controls",
      "model_module_version": "2.0.0",
      "model_name": "HTMLModel",
      "state": {
       "layout": "IPY_MODEL_e2f68b3dd4b0474aaf554eec1f642e41",
       "style": "IPY_MODEL_5f8c09a6edbf4ae8bd53e191550d4ad1",
       "value": "Backtest.run:   0%"
      }
     },
     "6f8eb88af6a84fbc9d9f7836d8983cb2": {
      "model_module": "@jupyter-widgets/controls",
      "model_module_version": "2.0.0",
      "model_name": "ProgressStyleModel",
      "state": {
       "description_width": ""
      }
     },
     "7040bd6630f544b09b849dc9ef76db8e": {
      "model_module": "@jupyter-widgets/base",
      "model_module_version": "2.0.0",
      "model_name": "LayoutModel",
      "state": {}
     },
     "72eabb9d80cc4613af73f001a1d3e1d3": {
      "model_module": "@jupyter-widgets/base",
      "model_module_version": "2.0.0",
      "model_name": "LayoutModel",
      "state": {}
     },
     "74bcc5bde5dd49d5a77450046219c551": {
      "model_module": "@jupyter-widgets/controls",
      "model_module_version": "2.0.0",
      "model_name": "FloatProgressModel",
      "state": {
       "layout": "IPY_MODEL_76ffd11f64f642c78911d6889eff55af",
       "max": 1250,
       "style": "IPY_MODEL_a6c14c77220e41f483eb9a96a994d4b0",
       "value": 1250
      }
     },
     "75b586a669f04b62a72270ff0208bcae": {
      "model_module": "@jupyter-widgets/base",
      "model_module_version": "2.0.0",
      "model_name": "LayoutModel",
      "state": {
       "visibility": "hidden"
      }
     },
     "766bf300c4f94c6c9ce32feb1ab9c0a4": {
      "model_module": "@jupyter-widgets/controls",
      "model_module_version": "2.0.0",
      "model_name": "HTMLStyleModel",
      "state": {
       "description_width": "",
       "font_size": null,
       "text_color": null
      }
     },
     "76ffd11f64f642c78911d6889eff55af": {
      "model_module": "@jupyter-widgets/base",
      "model_module_version": "2.0.0",
      "model_name": "LayoutModel",
      "state": {}
     },
     "777216945b614c8b8ddc1e7faa735df7": {
      "model_module": "@jupyter-widgets/base",
      "model_module_version": "2.0.0",
      "model_name": "LayoutModel",
      "state": {}
     },
     "78773a0afeee4e8face532115ba46d66": {
      "model_module": "@jupyter-widgets/base",
      "model_module_version": "2.0.0",
      "model_name": "LayoutModel",
      "state": {
       "visibility": "hidden"
      }
     },
     "7acf4fb6341248ed8b88effa95e474a1": {
      "model_module": "@jupyter-widgets/base",
      "model_module_version": "2.0.0",
      "model_name": "LayoutModel",
      "state": {
       "visibility": "hidden"
      }
     },
     "7c41dee814404241b5be2e4476322570": {
      "model_module": "@jupyter-widgets/controls",
      "model_module_version": "2.0.0",
      "model_name": "HTMLStyleModel",
      "state": {
       "description_width": "",
       "font_size": null,
       "text_color": null
      }
     },
     "7cbcc9058bc74ccba730daaa6b62b736": {
      "model_module": "@jupyter-widgets/base",
      "model_module_version": "2.0.0",
      "model_name": "LayoutModel",
      "state": {}
     },
     "7cecf48220cb43c09c84b4fdfd5a138f": {
      "model_module": "@jupyter-widgets/base",
      "model_module_version": "2.0.0",
      "model_name": "LayoutModel",
      "state": {}
     },
     "7cee9d9da1f842a39762ed35730005d4": {
      "model_module": "@jupyter-widgets/controls",
      "model_module_version": "2.0.0",
      "model_name": "FloatProgressModel",
      "state": {
       "layout": "IPY_MODEL_8eab6896200a406d8586020e9d69ba3f",
       "max": 1250,
       "style": "IPY_MODEL_4f77f53d535f47baabf4c3b779e065d0",
       "value": 1250
      }
     },
     "7d26b40693f34036ad65eee97dd60f79": {
      "model_module": "@jupyter-widgets/base",
      "model_module_version": "2.0.0",
      "model_name": "LayoutModel",
      "state": {}
     },
     "7e56621d322f48dba3398fa5d6f8c16d": {
      "model_module": "@jupyter-widgets/controls",
      "model_module_version": "2.0.0",
      "model_name": "HTMLModel",
      "state": {
       "layout": "IPY_MODEL_a4615902d43348fabe658ffa0888c0d5",
       "style": "IPY_MODEL_5afec339a29348a9a946da5e80292e27",
       "value": "Backtest.run:   0%"
      }
     },
     "85687306e5ed40bb97d1430d1193196f": {
      "model_module": "@jupyter-widgets/controls",
      "model_module_version": "2.0.0",
      "model_name": "HTMLStyleModel",
      "state": {
       "description_width": "",
       "font_size": null,
       "text_color": null
      }
     },
     "858547fabf544183be2d06b904e9fab1": {
      "model_module": "@jupyter-widgets/base",
      "model_module_version": "2.0.0",
      "model_name": "LayoutModel",
      "state": {}
     },
     "85b25aa2fdfe414ebd077d539fa388e8": {
      "model_module": "@jupyter-widgets/controls",
      "model_module_version": "2.0.0",
      "model_name": "HTMLStyleModel",
      "state": {
       "description_width": "",
       "font_size": null,
       "text_color": null
      }
     },
     "86762f047f704f8887f92e06578966b1": {
      "model_module": "@jupyter-widgets/base",
      "model_module_version": "2.0.0",
      "model_name": "LayoutModel",
      "state": {}
     },
     "86dd125e6f154f30b8ab84086dd01c7f": {
      "model_module": "@jupyter-widgets/controls",
      "model_module_version": "2.0.0",
      "model_name": "ProgressStyleModel",
      "state": {
       "description_width": ""
      }
     },
     "87dcd8bf79244adaae06aa38ed305165": {
      "model_module": "@jupyter-widgets/base",
      "model_module_version": "2.0.0",
      "model_name": "LayoutModel",
      "state": {}
     },
     "87e1c7290e99414dabd6e74303adfad0": {
      "model_module": "@jupyter-widgets/controls",
      "model_module_version": "2.0.0",
      "model_name": "HTMLStyleModel",
      "state": {
       "description_width": "",
       "font_size": null,
       "text_color": null
      }
     },
     "87e8e02c1a564bd99733d3eac8ed88ac": {
      "model_module": "@jupyter-widgets/controls",
      "model_module_version": "2.0.0",
      "model_name": "HTMLModel",
      "state": {
       "layout": "IPY_MODEL_6352e9f548fc4aff880dbce67788cfed",
       "style": "IPY_MODEL_f61f59ed22794f98964ed80e1813fbb7",
       "value": " 0/1250 [00:00&lt;?, ?bar/s]"
      }
     },
     "883e10b73643431c97c36f4c03344c4a": {
      "model_module": "@jupyter-widgets/base",
      "model_module_version": "2.0.0",
      "model_name": "LayoutModel",
      "state": {
       "visibility": "hidden"
      }
     },
     "886f8939cbc546fabcfc2a104756557a": {
      "model_module": "@jupyter-widgets/base",
      "model_module_version": "2.0.0",
      "model_name": "LayoutModel",
      "state": {
       "visibility": "hidden"
      }
     },
     "8eab6896200a406d8586020e9d69ba3f": {
      "model_module": "@jupyter-widgets/base",
      "model_module_version": "2.0.0",
      "model_name": "LayoutModel",
      "state": {}
     },
     "9034e3894b854645a4dd8d6ee38da849": {
      "model_module": "@jupyter-widgets/base",
      "model_module_version": "2.0.0",
      "model_name": "LayoutModel",
      "state": {}
     },
     "939993fff88f4b51bf2accf2fa68badc": {
      "model_module": "@jupyter-widgets/controls",
      "model_module_version": "2.0.0",
      "model_name": "HTMLModel",
      "state": {
       "layout": "IPY_MODEL_72eabb9d80cc4613af73f001a1d3e1d3",
       "style": "IPY_MODEL_9d0062c5e8384182937f3622f2bfc3d0",
       "value": "Backtest.run:   0%"
      }
     },
     "93a451f7f6ae46e497f61a5043311007": {
      "model_module": "@jupyter-widgets/controls",
      "model_module_version": "2.0.0",
      "model_name": "HTMLModel",
      "state": {
       "layout": "IPY_MODEL_86762f047f704f8887f92e06578966b1",
       "style": "IPY_MODEL_85687306e5ed40bb97d1430d1193196f",
       "value": " 0/1250 [00:00&lt;?, ?bar/s]"
      }
     },
     "93b02d3713a744fda1b62ad686d76852": {
      "model_module": "@jupyter-widgets/base",
      "model_module_version": "2.0.0",
      "model_name": "LayoutModel",
      "state": {}
     },
     "93fe2646fc6049169f02088e66c36c39": {
      "model_module": "@jupyter-widgets/base",
      "model_module_version": "2.0.0",
      "model_name": "LayoutModel",
      "state": {}
     },
     "95b6bf05080c4d53b1c747e32cf4043e": {
      "model_module": "@jupyter-widgets/controls",
      "model_module_version": "2.0.0",
      "model_name": "HTMLStyleModel",
      "state": {
       "description_width": "",
       "font_size": null,
       "text_color": null
      }
     },
     "976d8929dac343b18e1cea1932614d2d": {
      "model_module": "@jupyter-widgets/controls",
      "model_module_version": "2.0.0",
      "model_name": "FloatProgressModel",
      "state": {
       "layout": "IPY_MODEL_227659e356a3453a919b00fec7fd93b1",
       "max": 1250,
       "style": "IPY_MODEL_a774201ab1af49cfb5a5a4095058f5f9",
       "value": 1250
      }
     },
     "98f41f3320834206bdccbbdd56c89442": {
      "model_module": "@jupyter-widgets/controls",
      "model_module_version": "2.0.0",
      "model_name": "FloatProgressModel",
      "state": {
       "layout": "IPY_MODEL_ce2fc5a1ab004cffb72e61b7b8b9c6b8",
       "max": 1250,
       "style": "IPY_MODEL_6f8eb88af6a84fbc9d9f7836d8983cb2",
       "value": 1250
      }
     },
     "998572d976cc4a03b7c5301d75bb6938": {
      "model_module": "@jupyter-widgets/controls",
      "model_module_version": "2.0.0",
      "model_name": "HTMLModel",
      "state": {
       "layout": "IPY_MODEL_e6ded4357a94453e9fbf374d3679268f",
       "style": "IPY_MODEL_c5cd24bc99664243af23530f2f283bfe",
       "value": " 0/1250 [00:00&lt;?, ?bar/s]"
      }
     },
     "99c97371b7a24313af3c7f8b08679aa4": {
      "model_module": "@jupyter-widgets/controls",
      "model_module_version": "2.0.0",
      "model_name": "HTMLStyleModel",
      "state": {
       "description_width": "",
       "font_size": null,
       "text_color": null
      }
     },
     "9b7239d6ba2f4ea496edf220e6b7cb7b": {
      "model_module": "@jupyter-widgets/controls",
      "model_module_version": "2.0.0",
      "model_name": "FloatProgressModel",
      "state": {
       "layout": "IPY_MODEL_49835f19c91a47ecbd0fb8d88b9120ec",
       "max": 1250,
       "style": "IPY_MODEL_51cc9db8c68e4bd79e9b984f44da0ebf",
       "value": 1250
      }
     },
     "9bab9f4d267d4a3c95c850f04aed1603": {
      "model_module": "@jupyter-widgets/controls",
      "model_module_version": "2.0.0",
      "model_name": "HTMLModel",
      "state": {
       "layout": "IPY_MODEL_c24c04bae3dc4869ba5d578fab6ca984",
       "style": "IPY_MODEL_68bf6068f36e41999e1db8b214c51398",
       "value": " 0/1250 [00:00&lt;?, ?bar/s]"
      }
     },
     "9d0062c5e8384182937f3622f2bfc3d0": {
      "model_module": "@jupyter-widgets/controls",
      "model_module_version": "2.0.0",
      "model_name": "HTMLStyleModel",
      "state": {
       "description_width": "",
       "font_size": null,
       "text_color": null
      }
     },
     "9dcb5be7aff74effa1030f74d7f402fb": {
      "model_module": "@jupyter-widgets/controls",
      "model_module_version": "2.0.0",
      "model_name": "HTMLModel",
      "state": {
       "layout": "IPY_MODEL_35e27e06dc0c422a83a815b136885c83",
       "style": "IPY_MODEL_e8cb1672543f422f94fa20a14b4eef94",
       "value": " 0/1250 [00:00&lt;?, ?bar/s]"
      }
     },
     "9e4b7f7d456a4d59adc716dbe574a75d": {
      "model_module": "@jupyter-widgets/controls",
      "model_module_version": "2.0.0",
      "model_name": "HTMLModel",
      "state": {
       "layout": "IPY_MODEL_1a94c33b776d49dda1992aa5792439bb",
       "style": "IPY_MODEL_44730c8713964047b378e755ec83e371",
       "value": "Backtest.run:   0%"
      }
     },
     "9f08e89eaef3418fa2a25944d55c13f4": {
      "model_module": "@jupyter-widgets/base",
      "model_module_version": "2.0.0",
      "model_name": "LayoutModel",
      "state": {}
     },
     "9f6e66e9fc284d3286c79abc472f5d91": {
      "model_module": "@jupyter-widgets/controls",
      "model_module_version": "2.0.0",
      "model_name": "HTMLStyleModel",
      "state": {
       "description_width": "",
       "font_size": null,
       "text_color": null
      }
     },
     "a1e93824baa5404aacf8ff413a0d2f8a": {
      "model_module": "@jupyter-widgets/controls",
      "model_module_version": "2.0.0",
      "model_name": "FloatProgressModel",
      "state": {
       "layout": "IPY_MODEL_93b02d3713a744fda1b62ad686d76852",
       "max": 1250,
       "style": "IPY_MODEL_dcaf83115da444858dc6fb868fc58897",
       "value": 1250
      }
     },
     "a23f00a5dbdc4927892a787207a57311": {
      "model_module": "@jupyter-widgets/base",
      "model_module_version": "2.0.0",
      "model_name": "LayoutModel",
      "state": {
       "visibility": "hidden"
      }
     },
     "a4615902d43348fabe658ffa0888c0d5": {
      "model_module": "@jupyter-widgets/base",
      "model_module_version": "2.0.0",
      "model_name": "LayoutModel",
      "state": {}
     },
     "a576d37e93604c96a664bbf4883cab78": {
      "model_module": "@jupyter-widgets/base",
      "model_module_version": "2.0.0",
      "model_name": "LayoutModel",
      "state": {
       "visibility": "hidden"
      }
     },
     "a5814c993a7548dc853a7ae7aee159a5": {
      "model_module": "@jupyter-widgets/base",
      "model_module_version": "2.0.0",
      "model_name": "LayoutModel",
      "state": {
       "visibility": "hidden"
      }
     },
     "a6c14c77220e41f483eb9a96a994d4b0": {
      "model_module": "@jupyter-widgets/controls",
      "model_module_version": "2.0.0",
      "model_name": "ProgressStyleModel",
      "state": {
       "description_width": ""
      }
     },
     "a774201ab1af49cfb5a5a4095058f5f9": {
      "model_module": "@jupyter-widgets/controls",
      "model_module_version": "2.0.0",
      "model_name": "ProgressStyleModel",
      "state": {
       "description_width": ""
      }
     },
     "a782455d0b574ce887d1704c9977d649": {
      "model_module": "@jupyter-widgets/controls",
      "model_module_version": "2.0.0",
      "model_name": "HTMLModel",
      "state": {
       "layout": "IPY_MODEL_0d411f67303e4b0b9ea32e0c1c2b0c57",
       "style": "IPY_MODEL_c2c14994c08542749e903479596359c5",
       "value": "Backtest.run:   0%"
      }
     },
     "a8017523617f4a6db1bfdf74a87c5fd4": {
      "model_module": "@jupyter-widgets/controls",
      "model_module_version": "2.0.0",
      "model_name": "HTMLModel",
      "state": {
       "layout": "IPY_MODEL_ced7f77fedf0455485ec94fbb5aa8d6d",
       "style": "IPY_MODEL_9f6e66e9fc284d3286c79abc472f5d91",
       "value": "Backtest.run:   0%"
      }
     },
     "a85e4f4750124c07a6167fe4f0f06ffb": {
      "model_module": "@jupyter-widgets/controls",
      "model_module_version": "2.0.0",
      "model_name": "ProgressStyleModel",
      "state": {
       "description_width": ""
      }
     },
     "a8a8a9b2606b4a818433a6295cf8f962": {
      "model_module": "@jupyter-widgets/controls",
      "model_module_version": "2.0.0",
      "model_name": "HTMLModel",
      "state": {
       "layout": "IPY_MODEL_7040bd6630f544b09b849dc9ef76db8e",
       "style": "IPY_MODEL_2cc73dfea4c44f71897a2b923c54835e",
       "value": "Backtest.run:   0%"
      }
     },
     "b0a16e615f1c45e585bf5053faea7525": {
      "model_module": "@jupyter-widgets/controls",
      "model_module_version": "2.0.0",
      "model_name": "FloatProgressModel",
      "state": {
       "layout": "IPY_MODEL_6595a702aa4c41a1ae30fa4e5b7e267f",
       "max": 1250,
       "style": "IPY_MODEL_c044fcfc2d764736826ab36208a41eed",
       "value": 1250
      }
     },
     "b1b46ad806ea4eb98854b491250c9c3c": {
      "model_module": "@jupyter-widgets/controls",
      "model_module_version": "2.0.0",
      "model_name": "FloatProgressModel",
      "state": {
       "layout": "IPY_MODEL_319939db7891426da43c0a2a7b63d1e0",
       "max": 1250,
       "style": "IPY_MODEL_a85e4f4750124c07a6167fe4f0f06ffb",
       "value": 1250
      }
     },
     "b38625c9414847978444a86809f86df6": {
      "model_module": "@jupyter-widgets/controls",
      "model_module_version": "2.0.0",
      "model_name": "HTMLModel",
      "state": {
       "layout": "IPY_MODEL_65fb2583f5d14f66962327ff73a83820",
       "style": "IPY_MODEL_41fb72b2d7384f4a9b6334560350777a",
       "value": " 0/1250 [00:00&lt;?, ?bar/s]"
      }
     },
     "b454d9126f4c48b8b543be81ad89ab0e": {
      "model_module": "@jupyter-widgets/base",
      "model_module_version": "2.0.0",
      "model_name": "LayoutModel",
      "state": {}
     },
     "b6596c7486ba4e69a4831e4bbeecac26": {
      "model_module": "@jupyter-widgets/controls",
      "model_module_version": "2.0.0",
      "model_name": "HTMLModel",
      "state": {
       "layout": "IPY_MODEL_0c0f6bfc524b44b6bb145b9d76a55c0e",
       "style": "IPY_MODEL_3e718c92658244138f548c9ca4fdb3bc",
       "value": "Backtest.run:   0%"
      }
     },
     "b671a601b6eb4d84bda859b1d3a01511": {
      "model_module": "@jupyter-widgets/base",
      "model_module_version": "2.0.0",
      "model_name": "LayoutModel",
      "state": {
       "visibility": "hidden"
      }
     },
     "b67f20f602f244ec891ad7739d3cfca5": {
      "model_module": "@jupyter-widgets/base",
      "model_module_version": "2.0.0",
      "model_name": "LayoutModel",
      "state": {}
     },
     "b86189f986ad41aab43a4865ba97a7d7": {
      "model_module": "@jupyter-widgets/controls",
      "model_module_version": "2.0.0",
      "model_name": "HTMLModel",
      "state": {
       "layout": "IPY_MODEL_9034e3894b854645a4dd8d6ee38da849",
       "style": "IPY_MODEL_cfb2a8d2ca7143a2a33b1da13273775a",
       "value": " 0/1250 [00:00&lt;?, ?bar/s]"
      }
     },
     "ba1237a9b32640d6a09e1cd9f1010ed2": {
      "model_module": "@jupyter-widgets/controls",
      "model_module_version": "2.0.0",
      "model_name": "FloatProgressModel",
      "state": {
       "layout": "IPY_MODEL_7cbcc9058bc74ccba730daaa6b62b736",
       "max": 1250,
       "style": "IPY_MODEL_4168259735fb4a0ca4d3c9723f4cdb30",
       "value": 1250
      }
     },
     "ba54ce599236421aa6fadc8b27a9158f": {
      "model_module": "@jupyter-widgets/controls",
      "model_module_version": "2.0.0",
      "model_name": "FloatProgressModel",
      "state": {
       "layout": "IPY_MODEL_5d4ffbdda15a4d58a16461be6762d933",
       "max": 1250,
       "style": "IPY_MODEL_20b49fb9a8a04e22a45452bee35e3dd4",
       "value": 1250
      }
     },
     "baae6b3e8d1b4caeb676ade0eb41b98f": {
      "model_module": "@jupyter-widgets/controls",
      "model_module_version": "2.0.0",
      "model_name": "ProgressStyleModel",
      "state": {
       "description_width": ""
      }
     },
     "bd1d8709d60c4b9d9d14462badb77d1d": {
      "model_module": "@jupyter-widgets/controls",
      "model_module_version": "2.0.0",
      "model_name": "HTMLModel",
      "state": {
       "layout": "IPY_MODEL_b454d9126f4c48b8b543be81ad89ab0e",
       "style": "IPY_MODEL_1c67f2ba277f41d48a51ab16e0bad436",
       "value": "Backtest.run:   0%"
      }
     },
     "c044fcfc2d764736826ab36208a41eed": {
      "model_module": "@jupyter-widgets/controls",
      "model_module_version": "2.0.0",
      "model_name": "ProgressStyleModel",
      "state": {
       "description_width": ""
      }
     },
     "c0ca73dbbdc24f15b81d1e7cdd1f6c8a": {
      "model_module": "@jupyter-widgets/controls",
      "model_module_version": "2.0.0",
      "model_name": "HTMLStyleModel",
      "state": {
       "description_width": "",
       "font_size": null,
       "text_color": null
      }
     },
     "c1dc8e29276a42ad9b7226d81eb67388": {
      "model_module": "@jupyter-widgets/controls",
      "model_module_version": "2.0.0",
      "model_name": "HTMLStyleModel",
      "state": {
       "description_width": "",
       "font_size": null,
       "text_color": null
      }
     },
     "c24c04bae3dc4869ba5d578fab6ca984": {
      "model_module": "@jupyter-widgets/base",
      "model_module_version": "2.0.0",
      "model_name": "LayoutModel",
      "state": {}
     },
     "c2a88169765e41038614f4ddbd3a9785": {
      "model_module": "@jupyter-widgets/controls",
      "model_module_version": "2.0.0",
      "model_name": "HTMLStyleModel",
      "state": {
       "description_width": "",
       "font_size": null,
       "text_color": null
      }
     },
     "c2c14994c08542749e903479596359c5": {
      "model_module": "@jupyter-widgets/controls",
      "model_module_version": "2.0.0",
      "model_name": "HTMLStyleModel",
      "state": {
       "description_width": "",
       "font_size": null,
       "text_color": null
      }
     },
     "c392c8ea3f2b4f07a66fccf68a3532c6": {
      "model_module": "@jupyter-widgets/base",
      "model_module_version": "2.0.0",
      "model_name": "LayoutModel",
      "state": {}
     },
     "c395caf0987c4b168e079a2613d4c41f": {
      "model_module": "@jupyter-widgets/controls",
      "model_module_version": "2.0.0",
      "model_name": "HTMLModel",
      "state": {
       "layout": "IPY_MODEL_16741525035c45d9a9e3f3c08e85adb5",
       "style": "IPY_MODEL_66b8a3100de34e2497111fe41b754025",
       "value": "Backtest.run:   0%"
      }
     },
     "c3c15e26fb324b3ebeb1cf6c5a78bf6d": {
      "model_module": "@jupyter-widgets/base",
      "model_module_version": "2.0.0",
      "model_name": "LayoutModel",
      "state": {}
     },
     "c5cd24bc99664243af23530f2f283bfe": {
      "model_module": "@jupyter-widgets/controls",
      "model_module_version": "2.0.0",
      "model_name": "HTMLStyleModel",
      "state": {
       "description_width": "",
       "font_size": null,
       "text_color": null
      }
     },
     "c9b4f184119b4798a6ec7285142a217c": {
      "model_module": "@jupyter-widgets/controls",
      "model_module_version": "2.0.0",
      "model_name": "HTMLModel",
      "state": {
       "layout": "IPY_MODEL_c3c15e26fb324b3ebeb1cf6c5a78bf6d",
       "style": "IPY_MODEL_99c97371b7a24313af3c7f8b08679aa4",
       "value": "Backtest.run:   0%"
      }
     },
     "ca6a423e8ac349e99a70747218afd80a": {
      "model_module": "@jupyter-widgets/controls",
      "model_module_version": "2.0.0",
      "model_name": "HTMLStyleModel",
      "state": {
       "description_width": "",
       "font_size": null,
       "text_color": null
      }
     },
     "ce2fc5a1ab004cffb72e61b7b8b9c6b8": {
      "model_module": "@jupyter-widgets/base",
      "model_module_version": "2.0.0",
      "model_name": "LayoutModel",
      "state": {}
     },
     "ced7f77fedf0455485ec94fbb5aa8d6d": {
      "model_module": "@jupyter-widgets/base",
      "model_module_version": "2.0.0",
      "model_name": "LayoutModel",
      "state": {}
     },
     "cef7e6c8d3044f919f5cea65ba853d56": {
      "model_module": "@jupyter-widgets/controls",
      "model_module_version": "2.0.0",
      "model_name": "HTMLModel",
      "state": {
       "layout": "IPY_MODEL_286800ede41c42518effe7f915b5b1ee",
       "style": "IPY_MODEL_7c41dee814404241b5be2e4476322570",
       "value": " 0/1250 [00:00&lt;?, ?bar/s]"
      }
     },
     "cfb2a8d2ca7143a2a33b1da13273775a": {
      "model_module": "@jupyter-widgets/controls",
      "model_module_version": "2.0.0",
      "model_name": "HTMLStyleModel",
      "state": {
       "description_width": "",
       "font_size": null,
       "text_color": null
      }
     },
     "d1d84f8ff4394f119f50cd1851c0a4d1": {
      "model_module": "@jupyter-widgets/controls",
      "model_module_version": "2.0.0",
      "model_name": "HTMLModel",
      "state": {
       "layout": "IPY_MODEL_5c379db5088e4e7eae5a16a32f4fbcaf",
       "style": "IPY_MODEL_39d90b9e94e64e63ad16eefa3ea808db",
       "value": "Backtest.run:   0%"
      }
     },
     "d48809c0b7a4417e9a2ad8600554a1b8": {
      "model_module": "@jupyter-widgets/base",
      "model_module_version": "2.0.0",
      "model_name": "LayoutModel",
      "state": {}
     },
     "d51c9f586e0a4cb6a3c53a7309ef7fe4": {
      "model_module": "@jupyter-widgets/controls",
      "model_module_version": "2.0.0",
      "model_name": "HTMLStyleModel",
      "state": {
       "description_width": "",
       "font_size": null,
       "text_color": null
      }
     },
     "d534c2841ce84f2781f57ba116b20758": {
      "model_module": "@jupyter-widgets/controls",
      "model_module_version": "2.0.0",
      "model_name": "HTMLModel",
      "state": {
       "layout": "IPY_MODEL_601f9c37250c48ebaabe9e3146d42468",
       "style": "IPY_MODEL_ca6a423e8ac349e99a70747218afd80a",
       "value": " 0/1250 [00:00&lt;?, ?bar/s]"
      }
     },
     "d872ebf5590b4a2ab286461c119ff52e": {
      "model_module": "@jupyter-widgets/controls",
      "model_module_version": "2.0.0",
      "model_name": "HTMLModel",
      "state": {
       "layout": "IPY_MODEL_9f08e89eaef3418fa2a25944d55c13f4",
       "style": "IPY_MODEL_4f9ad8c3d00341cab3f7920d267a6ad5",
       "value": " 0/1250 [00:00&lt;?, ?bar/s]"
      }
     },
     "dcaf83115da444858dc6fb868fc58897": {
      "model_module": "@jupyter-widgets/controls",
      "model_module_version": "2.0.0",
      "model_name": "ProgressStyleModel",
      "state": {
       "description_width": ""
      }
     },
     "e2694e967bd14bb0bb53ca8f0021b724": {
      "model_module": "@jupyter-widgets/base",
      "model_module_version": "2.0.0",
      "model_name": "LayoutModel",
      "state": {}
     },
     "e288795d24fe4916a9ee7ab1a9c542ee": {
      "model_module": "@jupyter-widgets/controls",
      "model_module_version": "2.0.0",
      "model_name": "HTMLModel",
      "state": {
       "layout": "IPY_MODEL_58b004e8acfc4a70bd91036809d5b5a5",
       "style": "IPY_MODEL_0de9f089bfee4914990525e8bf132853",
       "value": "Backtest.run:   0%"
      }
     },
     "e2f68b3dd4b0474aaf554eec1f642e41": {
      "model_module": "@jupyter-widgets/base",
      "model_module_version": "2.0.0",
      "model_name": "LayoutModel",
      "state": {}
     },
     "e306d799a4eb4c129cfe541556334d01": {
      "model_module": "@jupyter-widgets/controls",
      "model_module_version": "2.0.0",
      "model_name": "HTMLModel",
      "state": {
       "layout": "IPY_MODEL_7d26b40693f34036ad65eee97dd60f79",
       "style": "IPY_MODEL_fb1da7fd29e14e63994f3faec177c5ac",
       "value": " 0/1250 [00:00&lt;?, ?bar/s]"
      }
     },
     "e6bcbf23d7664c749bf1e4d61d9678bc": {
      "model_module": "@jupyter-widgets/controls",
      "model_module_version": "2.0.0",
      "model_name": "HTMLModel",
      "state": {
       "layout": "IPY_MODEL_32c1cf253c8c4754b9c5d5a8c96590d5",
       "style": "IPY_MODEL_1be3e0b7a6614710a02f3372a6966359",
       "value": " 0/1250 [00:00&lt;?, ?bar/s]"
      }
     },
     "e6ded4357a94453e9fbf374d3679268f": {
      "model_module": "@jupyter-widgets/base",
      "model_module_version": "2.0.0",
      "model_name": "LayoutModel",
      "state": {}
     },
     "e7218907a35947609c8abc0ad41d5b1e": {
      "model_module": "@jupyter-widgets/controls",
      "model_module_version": "2.0.0",
      "model_name": "FloatProgressModel",
      "state": {
       "layout": "IPY_MODEL_efc53132cdc34d13a5c291227c90cb68",
       "max": 1250,
       "style": "IPY_MODEL_86dd125e6f154f30b8ab84086dd01c7f",
       "value": 1250
      }
     },
     "e8cb1672543f422f94fa20a14b4eef94": {
      "model_module": "@jupyter-widgets/controls",
      "model_module_version": "2.0.0",
      "model_name": "HTMLStyleModel",
      "state": {
       "description_width": "",
       "font_size": null,
       "text_color": null
      }
     },
     "e9b996e44b5f4b71b49ac89ed3396850": {
      "model_module": "@jupyter-widgets/controls",
      "model_module_version": "2.0.0",
      "model_name": "HTMLStyleModel",
      "state": {
       "description_width": "",
       "font_size": null,
       "text_color": null
      }
     },
     "ead447e89739482f95eaf11ac72a32fe": {
      "model_module": "@jupyter-widgets/base",
      "model_module_version": "2.0.0",
      "model_name": "LayoutModel",
      "state": {
       "visibility": "hidden"
      }
     },
     "ece0b26481ac4ca3886485b2824a29a9": {
      "model_module": "@jupyter-widgets/controls",
      "model_module_version": "2.0.0",
      "model_name": "FloatProgressModel",
      "state": {
       "layout": "IPY_MODEL_2a2d769183914917beb2341c7663bb0e",
       "max": 1250,
       "style": "IPY_MODEL_41209de4559848af9698bf9f963e6979",
       "value": 1250
      }
     },
     "edfe43effb4a4986af2db6b9fdeb6108": {
      "model_module": "@jupyter-widgets/base",
      "model_module_version": "2.0.0",
      "model_name": "LayoutModel",
      "state": {}
     },
     "ee632857c3ea4442a30418a7d0d18755": {
      "model_module": "@jupyter-widgets/controls",
      "model_module_version": "2.0.0",
      "model_name": "HTMLModel",
      "state": {
       "layout": "IPY_MODEL_b67f20f602f244ec891ad7739d3cfca5",
       "style": "IPY_MODEL_e9b996e44b5f4b71b49ac89ed3396850",
       "value": " 0/1250 [00:00&lt;?, ?bar/s]"
      }
     },
     "ef71b9483ece4eaba2b58c57fbcd66e5": {
      "model_module": "@jupyter-widgets/controls",
      "model_module_version": "2.0.0",
      "model_name": "ProgressStyleModel",
      "state": {
       "description_width": ""
      }
     },
     "efc53132cdc34d13a5c291227c90cb68": {
      "model_module": "@jupyter-widgets/base",
      "model_module_version": "2.0.0",
      "model_name": "LayoutModel",
      "state": {}
     },
     "f2ef599108644407ab52f9185e55892e": {
      "model_module": "@jupyter-widgets/controls",
      "model_module_version": "2.0.0",
      "model_name": "FloatProgressModel",
      "state": {
       "layout": "IPY_MODEL_6161d25a7d9241969f7b5a9dd2156517",
       "max": 1250,
       "style": "IPY_MODEL_ef71b9483ece4eaba2b58c57fbcd66e5",
       "value": 1250
      }
     },
     "f61f59ed22794f98964ed80e1813fbb7": {
      "model_module": "@jupyter-widgets/controls",
      "model_module_version": "2.0.0",
      "model_name": "HTMLStyleModel",
      "state": {
       "description_width": "",
       "font_size": null,
       "text_color": null
      }
     },
     "f83fd0f821784e9d80d2b7cdf91f51e4": {
      "model_module": "@jupyter-widgets/base",
      "model_module_version": "2.0.0",
      "model_name": "LayoutModel",
      "state": {
       "visibility": "hidden"
      }
     },
     "f8f79a613d9c4ac4a3d9f3476cd27ebd": {
      "model_module": "@jupyter-widgets/controls",
      "model_module_version": "2.0.0",
      "model_name": "HTMLModel",
      "state": {
       "layout": "IPY_MODEL_87dcd8bf79244adaae06aa38ed305165",
       "style": "IPY_MODEL_85b25aa2fdfe414ebd077d539fa388e8",
       "value": " 0/1250 [00:00&lt;?, ?bar/s]"
      }
     },
     "f9722f7dc05b4a9a951c5aeabce205a5": {
      "model_module": "@jupyter-widgets/controls",
      "model_module_version": "2.0.0",
      "model_name": "ProgressStyleModel",
      "state": {
       "description_width": ""
      }
     },
     "fb1da7fd29e14e63994f3faec177c5ac": {
      "model_module": "@jupyter-widgets/controls",
      "model_module_version": "2.0.0",
      "model_name": "HTMLStyleModel",
      "state": {
       "description_width": "",
       "font_size": null,
       "text_color": null
      }
     },
     "fd213bae720f42028605b2f47a01b2b1": {
      "model_module": "@jupyter-widgets/controls",
      "model_module_version": "2.0.0",
      "model_name": "FloatProgressModel",
      "state": {
       "layout": "IPY_MODEL_0abff4a33a7a4902bcc7897dcd88185c",
       "max": 1250,
       "style": "IPY_MODEL_3263b9f204014a9fb993c295474548f7",
       "value": 1250
      }
     },
     "ff89388622ac4779a5e4b511091d8544": {
      "model_module": "@jupyter-widgets/controls",
      "model_module_version": "2.0.0",
      "model_name": "FloatProgressModel",
      "state": {
       "layout": "IPY_MODEL_c392c8ea3f2b4f07a66fccf68a3532c6",
       "max": 1250,
       "style": "IPY_MODEL_56551352f7644b5c8d65016da5310a4f",
       "value": 1250
      }
     }
    },
    "version_major": 2,
    "version_minor": 0
   }
  }
 },
 "nbformat": 4,
 "nbformat_minor": 5
}
