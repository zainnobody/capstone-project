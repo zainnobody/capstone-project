{
 "cells": [
  {
   "cell_type": "markdown",
   "id": "dc3015d3-6724-4bde-89d4-39c1be09f0df",
   "metadata": {},
   "source": [
    "# Import Libraries"
   ]
  },
  {
   "cell_type": "code",
   "execution_count": 39,
   "id": "1fcfafb4-b710-473c-8bd9-46c0475ea36a",
   "metadata": {},
   "outputs": [],
   "source": [
    "import pandas as pd\n",
    "import scipy\n",
    "import seaborn as sns\n",
    "import matplotlib.pyplot as plt\n",
    "from sklearn.metrics import accuracy_score, classification_report, confusion_matrix, roc_auc_score\n",
    "import torch\n",
    "from transformers import AutoTokenizer, AutoModelForSequenceClassification"
   ]
  },
  {
   "cell_type": "markdown",
   "id": "a4b51227-7295-406c-b027-7c5da826a129",
   "metadata": {},
   "source": [
    "# Data Collection"
   ]
  },
  {
   "cell_type": "code",
   "execution_count": 40,
   "id": "70ad45ed-5d22-45b9-9b0d-a72e02a9d236",
   "metadata": {},
   "outputs": [
    {
     "name": "stderr",
     "output_type": "stream",
     "text": [
      "C:\\Users\\theni\\AppData\\Local\\Temp\\ipykernel_94516\\662086782.py:2: DtypeWarning: Columns (2) have mixed types. Specify dtype option on import or set low_memory=False.\n",
      "  data = pd.read_csv(r\"C:\\Users\\theni\\Downloads\\data\\processed_data\\aggregated_news.csv.gz\")\n"
     ]
    }
   ],
   "source": [
    "# Need to call out data import of either full data or filtered data\n",
    "data = pd.read_csv(r\"C:\\Users\\theni\\Downloads\\data\\processed_data\\aggregated_news.csv.gz\")"
   ]
  },
  {
   "cell_type": "code",
   "execution_count": 98,
   "id": "b9509678-ffcb-4c7f-99b3-a00249b0d5e0",
   "metadata": {},
   "outputs": [],
   "source": [
    "# Remove the ' UTC' part and convert to datetime\n",
    "data['timestamp_clean'] = pd.to_datetime(data['Date'].str.replace(' UTC', '', regex=False))\n",
    "\n",
    "# Extract date and time\n",
    "data['Release Date'] = data['timestamp_clean'].dt.date\n",
    "data['Time'] = data['timestamp_clean'].dt.time\n",
    "\n",
    "# Optional: drop the cleaned timestamp column if you don't need it\n",
    "data = data.drop(columns='timestamp_clean')"
   ]
  },
  {
   "cell_type": "code",
   "execution_count": 99,
   "id": "a268e142-f623-42ad-99c6-32b3281ebb5e",
   "metadata": {},
   "outputs": [
    {
     "data": {
      "text/html": [
       "<div>\n",
       "<style scoped>\n",
       "    .dataframe tbody tr th:only-of-type {\n",
       "        vertical-align: middle;\n",
       "    }\n",
       "\n",
       "    .dataframe tbody tr th {\n",
       "        vertical-align: top;\n",
       "    }\n",
       "\n",
       "    .dataframe thead th {\n",
       "        text-align: right;\n",
       "    }\n",
       "</style>\n",
       "<table border=\"1\" class=\"dataframe\">\n",
       "  <thead>\n",
       "    <tr style=\"text-align: right;\">\n",
       "      <th></th>\n",
       "      <th>Date</th>\n",
       "      <th>Article_title</th>\n",
       "      <th>Stock_symbols</th>\n",
       "      <th>Release Date</th>\n",
       "      <th>Time</th>\n",
       "    </tr>\n",
       "  </thead>\n",
       "  <tbody>\n",
       "    <tr>\n",
       "      <th>0</th>\n",
       "      <td>1914-09-16 00:00:00 UTC</td>\n",
       "      <td>1914. Празднование столетия М.Ю. Лермонтова от...</td>\n",
       "      <td>NaN</td>\n",
       "      <td>1914-09-16</td>\n",
       "      <td>00:00:00</td>\n",
       "    </tr>\n",
       "    <tr>\n",
       "      <th>1</th>\n",
       "      <td>1914-09-16 00:00:00 UTC</td>\n",
       "      <td>1914. Русские войска вступили в пределы Венгрии</td>\n",
       "      <td>NaN</td>\n",
       "      <td>1914-09-16</td>\n",
       "      <td>00:00:00</td>\n",
       "    </tr>\n",
       "    <tr>\n",
       "      <th>2</th>\n",
       "      <td>1914-09-17 00:00:00 UTC</td>\n",
       "      <td>1914. Das ist Nesteroff!</td>\n",
       "      <td>NaN</td>\n",
       "      <td>1914-09-17</td>\n",
       "      <td>00:00:00</td>\n",
       "    </tr>\n",
       "    <tr>\n",
       "      <th>3</th>\n",
       "      <td>1914-09-17 00:00:00 UTC</td>\n",
       "      <td>1914. Бульдог-гонец под Льежем</td>\n",
       "      <td>NaN</td>\n",
       "      <td>1914-09-17</td>\n",
       "      <td>00:00:00</td>\n",
       "    </tr>\n",
       "    <tr>\n",
       "      <th>4</th>\n",
       "      <td>1914-09-18 00:00:00 UTC</td>\n",
       "      <td>1914. Под Люблином пойман швабский зверь</td>\n",
       "      <td>NaN</td>\n",
       "      <td>1914-09-18</td>\n",
       "      <td>00:00:00</td>\n",
       "    </tr>\n",
       "  </tbody>\n",
       "</table>\n",
       "</div>"
      ],
      "text/plain": [
       "                      Date                                      Article_title  \\\n",
       "0  1914-09-16 00:00:00 UTC  1914. Празднование столетия М.Ю. Лермонтова от...   \n",
       "1  1914-09-16 00:00:00 UTC  1914. Русские войска вступили в пределы Венгрии     \n",
       "2  1914-09-17 00:00:00 UTC                           1914. Das ist Nesteroff!   \n",
       "3  1914-09-17 00:00:00 UTC                    1914. Бульдог-гонец под Льежем    \n",
       "4  1914-09-18 00:00:00 UTC           1914. Под Люблином пойман швабский зверь   \n",
       "\n",
       "  Stock_symbols Release Date      Time  \n",
       "0           NaN   1914-09-16  00:00:00  \n",
       "1           NaN   1914-09-16  00:00:00  \n",
       "2           NaN   1914-09-17  00:00:00  \n",
       "3           NaN   1914-09-17  00:00:00  \n",
       "4           NaN   1914-09-18  00:00:00  "
      ]
     },
     "execution_count": 99,
     "metadata": {},
     "output_type": "execute_result"
    }
   ],
   "source": [
    "data.head()"
   ]
  },
  {
   "cell_type": "code",
   "execution_count": 102,
   "id": "3b593805-3237-42f9-9183-15185ecdc237",
   "metadata": {},
   "outputs": [
    {
     "data": {
      "text/plain": [
       "(12480047, 5)"
      ]
     },
     "execution_count": 102,
     "metadata": {},
     "output_type": "execute_result"
    }
   ],
   "source": [
    "data.shape"
   ]
  },
  {
   "cell_type": "code",
   "execution_count": 105,
   "id": "500a3d0e-2976-4fac-a729-ee9f053f041d",
   "metadata": {},
   "outputs": [],
   "source": [
    "# Filter out rows where time == 00:00:00\n",
    "data_filtered = data[data['Time'] != pd.to_datetime('00:00:00').time()]"
   ]
  },
  {
   "cell_type": "code",
   "execution_count": 106,
   "id": "98afdc32-3a7f-4b9b-9434-867c30c36191",
   "metadata": {},
   "outputs": [
    {
     "data": {
      "text/html": [
       "<div>\n",
       "<style scoped>\n",
       "    .dataframe tbody tr th:only-of-type {\n",
       "        vertical-align: middle;\n",
       "    }\n",
       "\n",
       "    .dataframe tbody tr th {\n",
       "        vertical-align: top;\n",
       "    }\n",
       "\n",
       "    .dataframe thead th {\n",
       "        text-align: right;\n",
       "    }\n",
       "</style>\n",
       "<table border=\"1\" class=\"dataframe\">\n",
       "  <thead>\n",
       "    <tr style=\"text-align: right;\">\n",
       "      <th></th>\n",
       "      <th>Date</th>\n",
       "      <th>Article_title</th>\n",
       "      <th>Stock_symbols</th>\n",
       "      <th>Release Date</th>\n",
       "      <th>Time</th>\n",
       "    </tr>\n",
       "  </thead>\n",
       "  <tbody>\n",
       "    <tr>\n",
       "      <th>176138</th>\n",
       "      <td>2007-01-01 05:46:00 UTC</td>\n",
       "      <td>Kylie sees in 2007 with UK concert</td>\n",
       "      <td>NaN</td>\n",
       "      <td>2007-01-01</td>\n",
       "      <td>05:46:00</td>\n",
       "    </tr>\n",
       "    <tr>\n",
       "      <th>176139</th>\n",
       "      <td>2007-01-01 05:59:00 UTC</td>\n",
       "      <td>Thailand says Thaksin backers may be behind bl...</td>\n",
       "      <td>NaN</td>\n",
       "      <td>2007-01-01</td>\n",
       "      <td>05:59:00</td>\n",
       "    </tr>\n",
       "    <tr>\n",
       "      <th>176140</th>\n",
       "      <td>2007-01-01 06:09:00 UTC</td>\n",
       "      <td>Somali government vows to pursue fleeing Islam...</td>\n",
       "      <td>NaN</td>\n",
       "      <td>2007-01-01</td>\n",
       "      <td>06:09:00</td>\n",
       "    </tr>\n",
       "    <tr>\n",
       "      <th>176141</th>\n",
       "      <td>2007-01-01 06:29:00 UTC</td>\n",
       "      <td>Japan TV apologizes for \"topless\" New Year's E...</td>\n",
       "      <td>NaN</td>\n",
       "      <td>2007-01-01</td>\n",
       "      <td>06:29:00</td>\n",
       "    </tr>\n",
       "    <tr>\n",
       "      <th>176142</th>\n",
       "      <td>2007-01-01 07:09:00 UTC</td>\n",
       "      <td>Hundreds hurt in New Year revelry in Philippines</td>\n",
       "      <td>NaN</td>\n",
       "      <td>2007-01-01</td>\n",
       "      <td>07:09:00</td>\n",
       "    </tr>\n",
       "  </tbody>\n",
       "</table>\n",
       "</div>"
      ],
      "text/plain": [
       "                           Date  \\\n",
       "176138  2007-01-01 05:46:00 UTC   \n",
       "176139  2007-01-01 05:59:00 UTC   \n",
       "176140  2007-01-01 06:09:00 UTC   \n",
       "176141  2007-01-01 06:29:00 UTC   \n",
       "176142  2007-01-01 07:09:00 UTC   \n",
       "\n",
       "                                            Article_title Stock_symbols  \\\n",
       "176138                 Kylie sees in 2007 with UK concert           NaN   \n",
       "176139  Thailand says Thaksin backers may be behind bl...           NaN   \n",
       "176140  Somali government vows to pursue fleeing Islam...           NaN   \n",
       "176141  Japan TV apologizes for \"topless\" New Year's E...           NaN   \n",
       "176142   Hundreds hurt in New Year revelry in Philippines           NaN   \n",
       "\n",
       "       Release Date      Time  \n",
       "176138   2007-01-01  05:46:00  \n",
       "176139   2007-01-01  05:59:00  \n",
       "176140   2007-01-01  06:09:00  \n",
       "176141   2007-01-01  06:29:00  \n",
       "176142   2007-01-01  07:09:00  "
      ]
     },
     "execution_count": 106,
     "metadata": {},
     "output_type": "execute_result"
    }
   ],
   "source": [
    "data_filtered.head()"
   ]
  },
  {
   "cell_type": "code",
   "execution_count": 108,
   "id": "e30f4d95-03bd-47ed-a00c-eb5c2ce6f88d",
   "metadata": {},
   "outputs": [
    {
     "data": {
      "text/plain": [
       "(8437489, 5)"
      ]
     },
     "execution_count": 108,
     "metadata": {},
     "output_type": "execute_result"
    }
   ],
   "source": [
    "data_filtered.shape"
   ]
  },
  {
   "cell_type": "markdown",
   "id": "0604fdfa-e342-435b-a012-c9548ccb7c4e",
   "metadata": {},
   "source": [
    "# Tokenize News Articles"
   ]
  },
  {
   "cell_type": "code",
   "execution_count": 151,
   "id": "072a503d-2861-471c-8377-186190ba45cd",
   "metadata": {},
   "outputs": [],
   "source": [
    "X = data_filtered['Article_title'].to_list()\n",
    "sentiment_output = [] # Stores predicted labels\n",
    "sent_perc = [] # Stores sentiment probabilities\n",
    "article = []"
   ]
  },
  {
   "cell_type": "code",
   "execution_count": 110,
   "id": "5dba00bb-ba15-4ecd-9b1a-d2a15c4ca8a1",
   "metadata": {},
   "outputs": [],
   "source": [
    "tokenizer = AutoTokenizer.from_pretrained(\"ProsusAI/finbert\")\n",
    "model = AutoModelForSequenceClassification.from_pretrained(\"ProsusAI/finbert\")"
   ]
  },
  {
   "cell_type": "markdown",
   "id": "305f0a24-bc2f-4e9c-a172-83d21d0ffd90",
   "metadata": {},
   "source": [
    "# Create Sentiment Feature"
   ]
  },
  {
   "cell_type": "code",
   "execution_count": 152,
   "id": "6c43ed99-b168-427d-b76f-a9c1a97cfb7a",
   "metadata": {},
   "outputs": [],
   "source": [
    "def analyze_sentiment(text):\n",
    "    inputs = tokenizer(text, return_tensors=\"pt\", truncation=True, padding=True, max_length=512)\n",
    "    with torch.no_grad():\n",
    "        outputs = model(**inputs)\n",
    "    \n",
    "    logits = outputs.logits\n",
    "    probabilities = torch.nn.functional.softmax(logits, dim=-1)\n",
    "    \n",
    "    labels = [\"Negative\", \"Neutral\", \"Positive\"]\n",
    "    sentiment = labels[torch.argmax(probabilities).item()]\n",
    "    \n",
    "    return sentiment, probabilities\n"
   ]
  },
  {
   "cell_type": "code",
   "execution_count": 153,
   "id": "15b5a50d-d03e-4a92-9515-378a2efb975b",
   "metadata": {},
   "outputs": [],
   "source": [
    "for i in range(int(len(X)/100)):\n",
    "    output = analyze_sentiment(X[i])  # Analyze sentiment\n",
    "    sentiment_label = output[0]  # Extract predicted sentiment\n",
    "    probabilities = output[1]  # Extract probability tensor\n",
    "\n",
    "    # Append sentiment labels correctly\n",
    "    sentiment_output.append(sentiment_label)\n",
    "    article.append(X[i])\n",
    "    \n",
    "    # Extract and store the probability of the predicted class\n",
    "    if sentiment_label == 'Positive':\n",
    "        sent_perc.append(probabilities[0][2].item())\n",
    "    elif sentiment_label == 'Negative':\n",
    "        sent_perc.append(probabilities[0][0].item())\n",
    "    else:  # Neutral case\n",
    "        sent_perc.append(probabilities[0][1].item())\n"
   ]
  },
  {
   "cell_type": "markdown",
   "id": "b94f6fb6-3c87-4517-943a-5a05acb6fc20",
   "metadata": {},
   "source": [
    "# Evaluation"
   ]
  },
  {
   "cell_type": "code",
   "execution_count": 154,
   "id": "6d70a6c5-47d2-4084-bb89-a63e9a43579d",
   "metadata": {},
   "outputs": [
    {
     "name": "stdout",
     "output_type": "stream",
     "text": [
      "Sentiment Distribution: Counter({'Positive': 45836, 'Neutral': 23220, 'Negative': 15318})\n"
     ]
    }
   ],
   "source": [
    "from collections import Counter\n",
    "\n",
    "sentiment_counts = Counter(sentiment_output)\n",
    "print(\"Sentiment Distribution:\", sentiment_counts)"
   ]
  },
  {
   "cell_type": "code",
   "execution_count": 155,
   "id": "8ab24f56-c1b9-4d01-89ba-5d0343539d1a",
   "metadata": {},
   "outputs": [
    {
     "data": {
      "image/png": "[encoded data removed]",
      "text/plain": [
       "<Figure size 600x400 with 1 Axes>"
      ]
     },
     "metadata": {},
     "output_type": "display_data"
    }
   ],
   "source": [
    "# Count occurrences of each sentiment\n",
    "sentiment_df = pd.DataFrame({\"Sentiment\": sentiment_output})\n",
    "sentiment_counts = sentiment_df[\"Sentiment\"].value_counts()\n",
    "\n",
    "# Plot bar chart\n",
    "plt.figure(figsize=(6, 4))\n",
    "sns.barplot(x=sentiment_counts.index, y=sentiment_counts.values, palette=\"coolwarm\")\n",
    "plt.xlabel(\"Sentiment\")\n",
    "plt.ylabel(\"Count\")\n",
    "plt.title(\"Distribution of Predicted Sentiments\")\n",
    "plt.show()"
   ]
  },
  {
   "cell_type": "code",
   "execution_count": 157,
   "id": "49d40fb0-0699-41e1-b7db-615e995f0392",
   "metadata": {},
   "outputs": [
    {
     "name": "stdout",
     "output_type": "stream",
     "text": [
      "Top Positive Sentiments:\n",
      "                                                  Article Predicted Sentiment  \\\n",
      "45986       Bankrupt YUKOS asset sales to begin in March            Positive   \n",
      "79744   General Motors will not bid for Chrysler - paper            Positive   \n",
      "15873  AMEX modifies transferring listing, dual listi...            Positive   \n",
      "71397  Gramercy Capital sets up property securities unit            Positive   \n",
      "15689   Synta sets IPO at 6 million shares, $14-$16 each            Positive   \n",
      "\n",
      "       Sentiment Score  \n",
      "45986         0.956492  \n",
      "79744         0.955069  \n",
      "15873         0.954894  \n",
      "71397         0.954884  \n",
      "15689         0.954883  \n",
      "Top Negative Sentiments:\n",
      "                                                  Article Predicted Sentiment  \\\n",
      "76276       Higher sales, margins boost Forzani's profit            Negative   \n",
      "65989     Commscope boosts revenue and op margin targets            Negative   \n",
      "5493   CORRECTED - CORRECTED-Digimarc sees higher rev...            Negative   \n",
      "63006  Lan Airlines S.A. reports system passenger tra...            Negative   \n",
      "80955  Stada sees margin improvement, sales up in Jan...            Negative   \n",
      "\n",
      "       Sentiment Score  \n",
      "76276         0.959629  \n",
      "65989         0.959623  \n",
      "5493          0.959461  \n",
      "63006         0.958874  \n",
      "80955         0.958802  \n"
     ]
    }
   ],
   "source": [
    "df_results = pd.DataFrame({\"Article\": article, \"Predicted Sentiment\": sentiment_output, \"Sentiment Score\": sent_perc})\n",
    "\n",
    "# Top 5 positive articles\n",
    "top_positive = df_results[df_results[\"Predicted Sentiment\"] == \"Positive\"].nlargest(5, \"Sentiment Score\")\n",
    "print(\"Top Positive Sentiments:\\n\", top_positive)\n",
    "\n",
    "# Top 5 negative articles\n",
    "top_negative = df_results[df_results[\"Predicted Sentiment\"] == \"Negative\"].nlargest(5, \"Sentiment Score\")\n",
    "print(\"Top Negative Sentiments:\\n\", top_negative)"
   ]
  },
  {
   "cell_type": "markdown",
   "id": "b90c80a5-5cb2-41d6-a996-78257b431a31",
   "metadata": {},
   "source": [
    "# Classification"
   ]
  },
  {
   "cell_type": "code",
   "execution_count": 171,
   "id": "dc9f1398-1f14-4d83-a530-8f4ca911b72e",
   "metadata": {},
   "outputs": [],
   "source": [
    "change = []"
   ]
  },
  {
   "cell_type": "code",
   "execution_count": 173,
   "id": "0960ac0e-3a77-4b0d-8e4a-002907e48af4",
   "metadata": {},
   "outputs": [],
   "source": [
    "for j in range(len(df_results[\"Article\"])):\n",
    "    if df_results[\"Predicted Sentiment\"][j] == 'Positive' and df_results[\"Sentiment Score\"][j] > 0.6:\n",
    "        change.append(\"Trending Upwards\")\n",
    "    elif df_results[\"Predicted Sentiment\"][j] == 'Negative' and df_results[\"Sentiment Score\"][j] > 0.60:\n",
    "        change.append(\"Trending Downwards\")\n",
    "    else:\n",
    "        change.append(\"No Change Expected\")\n",
    "df_results[\"Expected Trend\"] = change"
   ]
  },
  {
   "cell_type": "code",
   "execution_count": 175,
   "id": "a2235c4c-29d4-4ebe-8c01-15759683de7d",
   "metadata": {},
   "outputs": [
    {
     "name": "stdout",
     "output_type": "stream",
     "text": [
      "Expected Trend\n",
      "Trending Upwards      41741\n",
      "No Change Expected    29721\n",
      "Trending Downwards    12912\n",
      "Name: count, dtype: int64\n"
     ]
    }
   ],
   "source": [
    "trend_counts = df_results[\"Expected Trend\"].value_counts()\n",
    "print(trend_counts)"
   ]
  }
 ],
 "metadata": {
  "kernelspec": {
   "display_name": "Python 3 (ipykernel)",
   "language": "python",
   "name": "python3"
  },
  "language_info": {
   "codemirror_mode": {
    "name": "ipython",
    "version": 3
   },
   "file_extension": ".py",
   "mimetype": "text/x-python",
   "name": "python",
   "nbconvert_exporter": "python",
   "pygments_lexer": "ipython3",
   "version": "3.11.5"
  }
 },
 "nbformat": 4,
 "nbformat_minor": 5
}
