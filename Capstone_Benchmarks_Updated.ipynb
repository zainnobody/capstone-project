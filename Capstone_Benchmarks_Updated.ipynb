{
 "cells": [
  {
   "cell_type": "markdown",
   "id": "dc3015d3-6724-4bde-89d4-39c1be09f0df",
   "metadata": {},
   "source": [
    "# Import Libraries"
   ]
  },
  {
   "cell_type": "code",
   "execution_count": 30,
   "id": "1fcfafb4-b710-473c-8bd9-46c0475ea36a",
   "metadata": {},
   "outputs": [],
   "source": [
    "import pandas as pd\n",
    "import scipy\n",
    "import seaborn as sns\n",
    "import matplotlib.pyplot as plt\n",
    "from sklearn.metrics import accuracy_score, classification_report, confusion_matrix, roc_auc_score\n",
    "import torch\n",
    "from transformers import AutoTokenizer, AutoModelForSequenceClassification"
   ]
  },
  {
   "cell_type": "markdown",
   "id": "a4b51227-7295-406c-b027-7c5da826a129",
   "metadata": {},
   "source": [
    "# Data Collection"
   ]
  },
  {
   "cell_type": "code",
   "execution_count": 9,
   "id": "70ad45ed-5d22-45b9-9b0d-a72e02a9d236",
   "metadata": {},
   "outputs": [
    {
     "name": "stderr",
     "output_type": "stream",
     "text": [
      "C:\\Users\\theni\\AppData\\Local\\Temp\\ipykernel_15364\\339421582.py:2: DtypeWarning: Columns (2) have mixed types. Specify dtype option on import or set low_memory=False.\n",
      "  data = pd.read_csv(r\"C:\\Users\\theni\\Downloads\\data\\processed_data\\aggregated_news.csv.gz\")\n"
     ]
    },
    {
     "data": {
      "text/html": [
       "<div>\n",
       "<style scoped>\n",
       "    .dataframe tbody tr th:only-of-type {\n",
       "        vertical-align: middle;\n",
       "    }\n",
       "\n",
       "    .dataframe tbody tr th {\n",
       "        vertical-align: top;\n",
       "    }\n",
       "\n",
       "    .dataframe thead th {\n",
       "        text-align: right;\n",
       "    }\n",
       "</style>\n",
       "<table border=\"1\" class=\"dataframe\">\n",
       "  <thead>\n",
       "    <tr style=\"text-align: right;\">\n",
       "      <th></th>\n",
       "      <th>Date</th>\n",
       "      <th>Article_title</th>\n",
       "      <th>Stock_symbols</th>\n",
       "    </tr>\n",
       "  </thead>\n",
       "  <tbody>\n",
       "    <tr>\n",
       "      <th>0</th>\n",
       "      <td>1914-09-16 00:00:00 UTC</td>\n",
       "      <td>1914. Празднование столетия М.Ю. Лермонтова от...</td>\n",
       "      <td>NaN</td>\n",
       "    </tr>\n",
       "    <tr>\n",
       "      <th>1</th>\n",
       "      <td>1914-09-16 00:00:00 UTC</td>\n",
       "      <td>1914. Русские войска вступили в пределы Венгрии</td>\n",
       "      <td>NaN</td>\n",
       "    </tr>\n",
       "    <tr>\n",
       "      <th>2</th>\n",
       "      <td>1914-09-17 00:00:00 UTC</td>\n",
       "      <td>1914. Das ist Nesteroff!</td>\n",
       "      <td>NaN</td>\n",
       "    </tr>\n",
       "    <tr>\n",
       "      <th>3</th>\n",
       "      <td>1914-09-17 00:00:00 UTC</td>\n",
       "      <td>1914. Бульдог-гонец под Льежем</td>\n",
       "      <td>NaN</td>\n",
       "    </tr>\n",
       "    <tr>\n",
       "      <th>4</th>\n",
       "      <td>1914-09-18 00:00:00 UTC</td>\n",
       "      <td>1914. Под Люблином пойман швабский зверь</td>\n",
       "      <td>NaN</td>\n",
       "    </tr>\n",
       "  </tbody>\n",
       "</table>\n",
       "</div>"
      ],
      "text/plain": [
       "                      Date                                      Article_title  \\\n",
       "0  1914-09-16 00:00:00 UTC  1914. Празднование столетия М.Ю. Лермонтова от...   \n",
       "1  1914-09-16 00:00:00 UTC  1914. Русские войска вступили в пределы Венгрии     \n",
       "2  1914-09-17 00:00:00 UTC                           1914. Das ist Nesteroff!   \n",
       "3  1914-09-17 00:00:00 UTC                    1914. Бульдог-гонец под Льежем    \n",
       "4  1914-09-18 00:00:00 UTC           1914. Под Люблином пойман швабский зверь   \n",
       "\n",
       "  Stock_symbols  \n",
       "0           NaN  \n",
       "1           NaN  \n",
       "2           NaN  \n",
       "3           NaN  \n",
       "4           NaN  "
      ]
     },
     "execution_count": 9,
     "metadata": {},
     "output_type": "execute_result"
    }
   ],
   "source": [
    "# Need to call out data import of either full data or filtered data\n",
    "data = pd.read_csv(r\"C:\\Users\\theni\\Downloads\\data\\processed_data\\aggregated_news.csv.gz\")"
   ]
  },
  {
   "cell_type": "code",
   "execution_count": 11,
   "id": "bf076961-3796-4727-b834-1993d87c1b23",
   "metadata": {},
   "outputs": [
    {
     "data": {
      "text/html": [
       "<div>\n",
       "<style scoped>\n",
       "    .dataframe tbody tr th:only-of-type {\n",
       "        vertical-align: middle;\n",
       "    }\n",
       "\n",
       "    .dataframe tbody tr th {\n",
       "        vertical-align: top;\n",
       "    }\n",
       "\n",
       "    .dataframe thead th {\n",
       "        text-align: right;\n",
       "    }\n",
       "</style>\n",
       "<table border=\"1\" class=\"dataframe\">\n",
       "  <thead>\n",
       "    <tr style=\"text-align: right;\">\n",
       "      <th></th>\n",
       "      <th>Date</th>\n",
       "      <th>Article_title</th>\n",
       "      <th>Stock_symbols</th>\n",
       "    </tr>\n",
       "  </thead>\n",
       "  <tbody>\n",
       "    <tr>\n",
       "      <th>12480042</th>\n",
       "      <td>2024-01-09 00:00:00 UTC</td>\n",
       "      <td>Is iShares Semiconductor ETF (SOXX) a Strong E...</td>\n",
       "      <td>AMD</td>\n",
       "    </tr>\n",
       "    <tr>\n",
       "      <th>12480043</th>\n",
       "      <td>2024-01-09 00:00:00 UTC</td>\n",
       "      <td>Japan's Nikkei hits 33-year high as tech stock...</td>\n",
       "      <td>AMD</td>\n",
       "    </tr>\n",
       "    <tr>\n",
       "      <th>12480044</th>\n",
       "      <td>2024-01-09 00:00:00 UTC</td>\n",
       "      <td>Stock Market News for Jan 9, 2024</td>\n",
       "      <td>AMD</td>\n",
       "    </tr>\n",
       "    <tr>\n",
       "      <th>12480045</th>\n",
       "      <td>2024-01-09 00:00:00 UTC</td>\n",
       "      <td>Will Advanced Micro Devices Be a Trillion-Doll...</td>\n",
       "      <td>AMD</td>\n",
       "    </tr>\n",
       "    <tr>\n",
       "      <th>12480046</th>\n",
       "      <td>2024-01-09 00:00:00 UTC</td>\n",
       "      <td>Zacks Industry Outlook Highlights Advanced Mic...</td>\n",
       "      <td>AMD</td>\n",
       "    </tr>\n",
       "  </tbody>\n",
       "</table>\n",
       "</div>"
      ],
      "text/plain": [
       "                             Date  \\\n",
       "12480042  2024-01-09 00:00:00 UTC   \n",
       "12480043  2024-01-09 00:00:00 UTC   \n",
       "12480044  2024-01-09 00:00:00 UTC   \n",
       "12480045  2024-01-09 00:00:00 UTC   \n",
       "12480046  2024-01-09 00:00:00 UTC   \n",
       "\n",
       "                                              Article_title Stock_symbols  \n",
       "12480042  Is iShares Semiconductor ETF (SOXX) a Strong E...           AMD  \n",
       "12480043  Japan's Nikkei hits 33-year high as tech stock...           AMD  \n",
       "12480044                  Stock Market News for Jan 9, 2024           AMD  \n",
       "12480045  Will Advanced Micro Devices Be a Trillion-Doll...           AMD  \n",
       "12480046  Zacks Industry Outlook Highlights Advanced Mic...           AMD  "
      ]
     },
     "execution_count": 11,
     "metadata": {},
     "output_type": "execute_result"
    }
   ],
   "source": [
    "data.tail()"
   ]
  },
  {
   "cell_type": "code",
   "execution_count": 10,
   "id": "6f7d5987-6787-43d6-9574-8c4323a2b5f6",
   "metadata": {},
   "outputs": [
    {
     "data": {
      "text/plain": [
       "(12480047, 3)"
      ]
     },
     "execution_count": 10,
     "metadata": {},
     "output_type": "execute_result"
    }
   ],
   "source": [
    "data.shape"
   ]
  },
  {
   "cell_type": "markdown",
   "id": "0604fdfa-e342-435b-a012-c9548ccb7c4e",
   "metadata": {},
   "source": [
    "# Tokenize News Articles"
   ]
  },
  {
   "cell_type": "code",
   "execution_count": 90,
   "id": "072a503d-2861-471c-8377-186190ba45cd",
   "metadata": {},
   "outputs": [],
   "source": [
    "X = data['Article_title'].to_list()\n",
    "sentiment_output = [] # Stores predicted labels\n",
    "sent_perc = [] # Stores sentiment probabilities\n",
    "article = []"
   ]
  },
  {
   "cell_type": "code",
   "execution_count": 81,
   "id": "5dba00bb-ba15-4ecd-9b1a-d2a15c4ca8a1",
   "metadata": {},
   "outputs": [],
   "source": [
    "tokenizer = AutoTokenizer.from_pretrained(\"ProsusAI/finbert\")\n",
    "model = AutoModelForSequenceClassification.from_pretrained(\"ProsusAI/finbert\")"
   ]
  },
  {
   "cell_type": "markdown",
   "id": "305f0a24-bc2f-4e9c-a172-83d21d0ffd90",
   "metadata": {},
   "source": [
    "# Create Sentiment Feature"
   ]
  },
  {
   "cell_type": "code",
   "execution_count": 91,
   "id": "6c43ed99-b168-427d-b76f-a9c1a97cfb7a",
   "metadata": {},
   "outputs": [],
   "source": [
    "def analyze_sentiment(text):\n",
    "    inputs = tokenizer(text, return_tensors=\"pt\", truncation=True, padding=True, max_length=512)\n",
    "    with torch.no_grad():\n",
    "        outputs = model(**inputs)\n",
    "    \n",
    "    logits = outputs.logits\n",
    "    probabilities = torch.nn.functional.softmax(logits, dim=-1)\n",
    "    \n",
    "    labels = [\"Negative\", \"Neutral\", \"Positive\"]\n",
    "    sentiment = labels[torch.argmax(probabilities).item()]\n",
    "    \n",
    "    return sentiment, probabilities\n"
   ]
  },
  {
   "cell_type": "code",
   "execution_count": 92,
   "id": "15b5a50d-d03e-4a92-9515-378a2efb975b",
   "metadata": {},
   "outputs": [],
   "source": [
    "for i in range(int(len(X)/10000)):\n",
    "    output = analyze_sentiment(X[i])  # Analyze sentiment\n",
    "    sentiment_extract = output[0]  # Extract predicted sentiment\n",
    "    probabilities = output[1]  # Extract probability tensor\n",
    "\n",
    "    # Append sentiment labels correctly\n",
    "    sentiment_output.append(sentiment_extract)\n",
    "    article.append(X[i])\n",
    "    \n",
    "    # Extract and store the probability of the predicted class\n",
    "    if sentiment_label == 'Positive':\n",
    "        sent_perc.append(probabilities[0][2].item())\n",
    "    elif sentiment_label == 'Negative':\n",
    "        sent_perc.append(probabilities[0][0].item())\n",
    "    else:  # Neutral case\n",
    "        sent_perc.append(probabilities[0][1].item())\n"
   ]
  },
  {
   "cell_type": "markdown",
   "id": "b94f6fb6-3c87-4517-943a-5a05acb6fc20",
   "metadata": {},
   "source": [
    "# Evaluation"
   ]
  },
  {
   "cell_type": "code",
   "execution_count": 93,
   "id": "6d70a6c5-47d2-4084-bb89-a63e9a43579d",
   "metadata": {},
   "outputs": [
    {
     "name": "stdout",
     "output_type": "stream",
     "text": [
      "Sentiment Distribution: Counter({'Positive': 1122, 'Negative': 126})\n"
     ]
    }
   ],
   "source": [
    "from collections import Counter\n",
    "\n",
    "sentiment_counts = Counter(sentiment_output)\n",
    "print(\"Sentiment Distribution:\", sentiment_counts)"
   ]
  },
  {
   "cell_type": "code",
   "execution_count": 94,
   "id": "8ab24f56-c1b9-4d01-89ba-5d0343539d1a",
   "metadata": {},
   "outputs": [
    {
     "data": {
      "image/png": "[encoded data removed]",
      "text/plain": [
       "<Figure size 600x400 with 1 Axes>"
      ]
     },
     "metadata": {},
     "output_type": "display_data"
    }
   ],
   "source": [
    "# Count occurrences of each sentiment\n",
    "sentiment_df = pd.DataFrame({\"Sentiment\": sentiment_output})\n",
    "sentiment_counts = sentiment_df[\"Sentiment\"].value_counts()\n",
    "\n",
    "# Plot bar chart\n",
    "plt.figure(figsize=(6, 4))\n",
    "sns.barplot(x=sentiment_counts.index, y=sentiment_counts.values, palette=\"coolwarm\")\n",
    "plt.xlabel(\"Sentiment\")\n",
    "plt.ylabel(\"Count\")\n",
    "plt.title(\"Distribution of Predicted Sentiments\")\n",
    "plt.show()"
   ]
  },
  {
   "cell_type": "code",
   "execution_count": 96,
   "id": "a74a9e4c-9192-463d-9cd4-2a3e973ba2ab",
   "metadata": {},
   "outputs": [
    {
     "name": "stdout",
     "output_type": "stream",
     "text": [
      "1248 1248 1248\n"
     ]
    }
   ],
   "source": [
    "print(len(article), len(sentiment_output), len(sent_perc))\n"
   ]
  },
  {
   "cell_type": "code",
   "execution_count": 97,
   "id": "49d40fb0-0699-41e1-b7db-615e995f0392",
   "metadata": {},
   "outputs": [
    {
     "name": "stdout",
     "output_type": "stream",
     "text": [
      "Top Positive Sentiments:\n",
      "                                                Article Predicted Sentiment  \\\n",
      "5    Montpelier Re Holdings Ltd. (MRH): New Analyst...            Positive   \n",
      "609                    Вышел Netscape Communicator 4.7            Positive   \n",
      "162             ФБР поможет России прикрыть kavkaz.org            Positive   \n",
      "469                               Погода: прогноз-2000            Positive   \n",
      "829  Gartner Group: продукты Microsoft для корпорац...            Positive   \n",
      "\n",
      "     Sentiment Score  \n",
      "5           0.934417  \n",
      "609         0.932724  \n",
      "162         0.931358  \n",
      "469         0.921566  \n",
      "829         0.919042  \n",
      "Top Negative Sentiments:\n",
      "                                                Article Predicted Sentiment  \\\n",
      "108  Блок \"Отечество — Вся Россия\" представил в ЦИК...            Negative   \n",
      "16        Литва засудила участников переворота 91 года            Negative   \n",
      "601  ЦРУ вкладывает деньги Конгресса в высокие техн...            Negative   \n",
      "212        Чуть не сгорел центральный вокзал Нью-Йорка            Negative   \n",
      "191  13 сентября — день траура по погибшим от взрыв...            Negative   \n",
      "\n",
      "     Sentiment Score  \n",
      "108         0.482950  \n",
      "16          0.482934  \n",
      "601         0.482888  \n",
      "212         0.478060  \n",
      "191         0.477918  \n"
     ]
    }
   ],
   "source": [
    "df_results = pd.DataFrame({\"Article\": article, \"Predicted Sentiment\": sentiment_output, \"Sentiment Score\": sent_perc})\n",
    "\n",
    "# Top 5 positive articles\n",
    "top_positive = df_results[df_results[\"Predicted Sentiment\"] == \"Positive\"].nlargest(5, \"Sentiment Score\")\n",
    "print(\"Top Positive Sentiments:\\n\", top_positive)\n",
    "\n",
    "# Top 5 negative articles\n",
    "top_negative = df_results[df_results[\"Predicted Sentiment\"] == \"Negative\"].nlargest(5, \"Sentiment Score\")\n",
    "print(\"Top Negative Sentiments:\\n\", top_negative)"
   ]
  },
  {
   "cell_type": "code",
   "execution_count": null,
   "id": "6383cd38-7024-4965-9463-d93b20a04abc",
   "metadata": {},
   "outputs": [],
   "source": []
  }
 ],
 "metadata": {
  "kernelspec": {
   "display_name": "Python 3 (ipykernel)",
   "language": "python",
   "name": "python3"
  },
  "language_info": {
   "codemirror_mode": {
    "name": "ipython",
    "version": 3
   },
   "file_extension": ".py",
   "mimetype": "text/x-python",
   "name": "python",
   "nbconvert_exporter": "python",
   "pygments_lexer": "ipython3",
   "version": "3.11.5"
  }
 },
 "nbformat": 4,
 "nbformat_minor": 5
}
