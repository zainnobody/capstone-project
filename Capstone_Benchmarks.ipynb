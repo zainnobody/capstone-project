{
 "cells": [
  {
   "cell_type": "markdown",
   "id": "dc3015d3-6724-4bde-89d4-39c1be09f0df",
   "metadata": {},
   "source": [
    "# Import Libraries"
   ]
  },
  {
   "cell_type": "code",
   "execution_count": 1,
   "id": "1fcfafb4-b710-473c-8bd9-46c0475ea36a",
   "metadata": {},
   "outputs": [
    {
     "name": "stderr",
     "output_type": "stream",
     "text": [
      "C:\\Users\\theni\\AppData\\Local\\Programs\\Python\\Python311\\Lib\\site-packages\\tqdm\\auto.py:21: TqdmWarning: IProgress not found. Please update jupyter and ipywidgets. See https://ipywidgets.readthedocs.io/en/stable/user_install.html\n",
      "  from .autonotebook import tqdm as notebook_tqdm\n"
     ]
    },
    {
     "name": "stdout",
     "output_type": "stream",
     "text": [
      "WARNING:tensorflow:From C:\\Users\\theni\\AppData\\Local\\Programs\\Python\\Python311\\Lib\\site-packages\\keras\\src\\losses.py:2976: The name tf.losses.sparse_softmax_cross_entropy is deprecated. Please use tf.compat.v1.losses.sparse_softmax_cross_entropy instead.\n",
      "\n"
     ]
    }
   ],
   "source": [
    "import pandas as pd\n",
    "import numpy as np\n",
    "import nltk\n",
    "import yfinance as yf\n",
    "import requests\n",
    "from bs4 import BeautifulSoup\n",
    "from sklearn.feature_extraction.text import TfidfVectorizer\n",
    "from sklearn.model_selection import train_test_split\n",
    "from sklearn.ensemble import RandomForestClassifier\n",
    "from sklearn.metrics import accuracy_score\n",
    "from transformers import pipeline\n",
    "import xgboost as xgb\n",
    "import re\n"
   ]
  },
  {
   "cell_type": "markdown",
   "id": "a4b51227-7295-406c-b027-7c5da826a129",
   "metadata": {},
   "source": [
    "# Data Collection"
   ]
  },
  {
   "cell_type": "code",
   "execution_count": null,
   "id": "70ad45ed-5d22-45b9-9b0d-a72e02a9d236",
   "metadata": {},
   "outputs": [],
   "source": [
    "# Need to call out data import of either full data or filtered data"
   ]
  },
  {
   "cell_type": "markdown",
   "id": "0604fdfa-e342-435b-a012-c9548ccb7c4e",
   "metadata": {},
   "source": [
    "# Process News Articles"
   ]
  },
  {
   "cell_type": "code",
   "execution_count": null,
   "id": "5dba00bb-ba15-4ecd-9b1a-d2a15c4ca8a1",
   "metadata": {},
   "outputs": [],
   "source": [
    "nltk.download('stopwords')\n",
    "from nltk.corpus import stopwords\n",
    "from nltk.tokenize import word_tokenize\n",
    "\n",
    "stop_words = set(stopwords.words('english'))\n",
    "\n",
    "def clean_text(text):\n",
    "    text = text.lower()\n",
    "    text = re.sub(r'\\W', ' ', text)  # Remove special characters\n",
    "    text = re.sub(r'\\d+', '', text)  # Remove numbers\n",
    "    tokens = word_tokenize(text)\n",
    "    tokens = [word for word in tokens if word not in stop_words]  # Remove stopwords\n",
    "    return \" \".join(tokens)\n",
    "\n",
    "news_df['clean_title'] = news_df['title'].apply(clean_text)\n",
    "print(news_df.head())\n"
   ]
  },
  {
   "cell_type": "code",
   "execution_count": null,
   "id": "6b341318-9871-4eb9-b213-cdefff70b4c4",
   "metadata": {},
   "outputs": [],
   "source": [
    "sentiment_pipeline = pipeline(\"text-classification\", model=\"ProsusAI/finbert\")\n",
    "\n",
    "def get_sentiment(text):\n",
    "    result = sentiment_pipeline(text)[0]\n",
    "    if result['label'] == 'positive':\n",
    "        return 1\n",
    "    elif result['label'] == 'negative':\n",
    "        return -1\n",
    "    else:\n",
    "        return 0\n",
    "\n",
    "news_df['sentiment'] = news_df['clean_title'].apply(get_sentiment)\n",
    "print(news_df.head())"
   ]
  },
  {
   "cell_type": "markdown",
   "id": "1722e04c-2381-4646-ae2d-e6e0060f06fa",
   "metadata": {},
   "source": [
    "# Feature Engineering"
   ]
  },
  {
   "cell_type": "code",
   "execution_count": null,
   "id": "102af77a-16da-45b5-9105-912f81f5d351",
   "metadata": {},
   "outputs": [],
   "source": [
    "vectorizer = TfidfVectorizer(max_features=100)\n",
    "X_tfidf = vectorizer.fit_transform(news_df['clean_title']).toarray()\n",
    "\n",
    "# Convert to DataFrame\n",
    "tfidf_df = pd.DataFrame(X_tfidf, columns=vectorizer.get_feature_names_out())\n",
    "news_df = pd.concat([news_df, tfidf_df], axis=1)"
   ]
  },
  {
   "cell_type": "code",
   "execution_count": null,
   "id": "4eec4180-e591-4a90-b5e4-8a279d63b390",
   "metadata": {},
   "outputs": [],
   "source": [
    "# Assume timestamps align, otherwise map news dates to closest stock date\n",
    "final_df = pd.merge(news_df, stock_df[['Benchmark']], left_index=True, right_index=True, how='inner')"
   ]
  },
  {
   "cell_type": "markdown",
   "id": "267171fb-717c-4193-9fc9-bf03c2725e52",
   "metadata": {},
   "source": [
    "# Model Training"
   ]
  },
  {
   "cell_type": "code",
   "execution_count": null,
   "id": "74502db9-8bcb-4475-bec9-55617a0773e8",
   "metadata": {},
   "outputs": [],
   "source": [
    "X = final_df.drop(columns=['title', 'clean_title', 'Benchmark'])\n",
    "y = final_df['Benchmark']\n",
    "\n",
    "X_train, X_test, y_train, y_test = train_test_split(X, y, test_size=0.2, random_state=42)"
   ]
  },
  {
   "cell_type": "code",
   "execution_count": null,
   "id": "d4293312-e4d3-477f-95cd-70d5f6def6b7",
   "metadata": {},
   "outputs": [],
   "source": [
    "xgb_model = xgb.XGBClassifier(n_estimators=100, max_depth=3, learning_rate=0.1)\n",
    "xgb_model.fit(X_train, y_train)"
   ]
  },
  {
   "cell_type": "markdown",
   "id": "8b8cf46a-358c-4db0-b6fb-521b290768e4",
   "metadata": {},
   "source": [
    "# Model Evaluation"
   ]
  },
  {
   "cell_type": "code",
   "execution_count": null,
   "id": "6db24a9e-fa54-4bc7-b0a4-9d0f0e77f4a4",
   "metadata": {},
   "outputs": [],
   "source": [
    "y_pred = xgb_model.predict(X_test)\n",
    "accuracy = accuracy_score(y_test, y_pred)\n",
    "print(f\"Model Accuracy: {accuracy:.2f}\")"
   ]
  },
  {
   "cell_type": "markdown",
   "id": "923d211d-bee4-4300-aef1-995876b5b104",
   "metadata": {},
   "source": [
    "# Predict on New Articles"
   ]
  },
  {
   "cell_type": "code",
   "execution_count": null,
   "id": "33986587-4a6c-4c19-bb5a-3422e39a7961",
   "metadata": {},
   "outputs": [],
   "source": [
    "def predict_stock_movement(news_title):\n",
    "    cleaned_text = clean_text(news_title)\n",
    "    sentiment = get_sentiment(cleaned_text)\n",
    "\n",
    "    # Convert to TF-IDF vector\n",
    "    vectorized_text = vectorizer.transform([cleaned_text]).toarray()\n",
    "    input_data = np.append(vectorized_text, sentiment).reshape(1, -1)\n",
    "\n",
    "    prediction = xgb_model.predict(input_data)[0]\n",
    "    return \"Stock is likely to go UP\" if prediction == 1 else \"Stock is likely to go DOWN\"\n",
    "\n",
    "# Example Prediction\n",
    "print(predict_stock_movement(\"Apple releases record-breaking earnings report\"))\n"
   ]
  }
 ],
 "metadata": {
  "kernelspec": {
   "display_name": "Python 3 (ipykernel)",
   "language": "python",
   "name": "python3"
  },
  "language_info": {
   "codemirror_mode": {
    "name": "ipython",
    "version": 3
   },
   "file_extension": ".py",
   "mimetype": "text/x-python",
   "name": "python",
   "nbconvert_exporter": "python",
   "pygments_lexer": "ipython3",
   "version": "3.11.5"
  }
 },
 "nbformat": 4,
 "nbformat_minor": 5
}
