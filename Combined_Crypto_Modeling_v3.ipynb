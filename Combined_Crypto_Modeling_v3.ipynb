{
 "cells": [
  {
   "cell_type": "code",
   "execution_count": 1,
   "id": "67a86f80-f055-41d2-a0a7-f9b865609790",
   "metadata": {
    "execution": {
     "iopub.execute_input": "2025-04-07T00:42:55.142730Z",
     "iopub.status.busy": "2025-04-07T00:42:55.142543Z",
     "iopub.status.idle": "2025-04-07T00:42:55.149746Z",
     "shell.execute_reply": "2025-04-07T00:42:55.149216Z",
     "shell.execute_reply.started": "2025-04-07T00:42:55.142704Z"
    }
   },
   "outputs": [],
   "source": [
    "import os\n",
    "\n",
    "# File paths for saving results\n",
    "RESULT_DATA_DIR = os.path.join(\"data\", \"result-data\")\n",
    "os.makedirs(RESULT_DATA_DIR, exist_ok=True)"
   ]
  },
  {
   "cell_type": "code",
   "execution_count": 2,
   "id": "78ab2cd7-3ab0-4160-964a-96cff16f140f",
   "metadata": {
    "execution": {
     "iopub.execute_input": "2025-04-07T00:42:55.151372Z",
     "iopub.status.busy": "2025-04-07T00:42:55.151179Z",
     "iopub.status.idle": "2025-04-07T00:42:58.090919Z",
     "shell.execute_reply": "2025-04-07T00:42:58.090119Z",
     "shell.execute_reply.started": "2025-04-07T00:42:55.151351Z"
    }
   },
   "outputs": [
    {
     "name": "stdout",
     "output_type": "stream",
     "text": [
      "GPUs available: [LogicalDevice(name='/device:GPU:0', device_type='GPU')]\n"
     ]
    }
   ],
   "source": [
    "# 1. Silence logs\n",
    "import os\n",
    "\n",
    "\n",
    "# Set environment variables to suppress logs\n",
    "os.environ[\"TF_CPP_MIN_LOG_LEVEL\"] = \"3\"                         # Only show errors from TF C++ backend\n",
    "os.environ[\"TF_CPP_MIN_VLOG_LEVEL\"] = \"3\"                          # Increase VLOG level to filter out debug info (try \"99\" if needed)\n",
    "os.environ[\"CUDA_DEVICE_ORDER\"] = \"PCI_BUS_ID\"\n",
    "os.environ[\"TF_ENABLE_ONEDNN_OPTS\"] = \"0\"                          # Avoid verbose ONEDNN CPU messages\n",
    "os.environ[\"TF_TRT_ALLOW_ENGINE_NATIVE_SEGMENT_EXECUTION\"] = \"false\"  # Silence TF-TRT warnings\n",
    "os.environ[\"GRPC_VERBOSITY\"] = \"ERROR\"                           # Silence gRPC logs\n",
    "os.environ[\"GRPC_CPP_LOG_LEVEL\"] = \"ERROR\"\n",
    "\n",
    "\n",
    "from tensorflow.keras.callbacks import ModelCheckpoint, EarlyStopping, CSVLogger\n",
    "\n",
    "# 2. Set visible GPU devices BEFORE importing TensorFlow\n",
    "import sys\n",
    "\n",
    "# Optional: Use only first GPU\n",
    "USE_ONLY_GPU_INDEX = 0\n",
    "\n",
    "# Import TensorFlow config module ONLY (not the full library yet!)\n",
    "from tensorflow.python.framework import config as tf_config\n",
    "from tensorflow.python.eager import context as tf_context\n",
    "\n",
    "# List GPUs (from lower-level API)\n",
    "physical_devices = tf_config.list_physical_devices('GPU')\n",
    "if physical_devices:\n",
    "    try:\n",
    "        # Optional: use only the first GPU\n",
    "        tf_config.set_visible_devices(physical_devices[USE_ONLY_GPU_INDEX], 'GPU')\n",
    "\n",
    "        # Enable memory growth\n",
    "        tf_config.set_memory_growth(physical_devices[USE_ONLY_GPU_INDEX], True)\n",
    "\n",
    "    except RuntimeError as e:\n",
    "        print(\"GPU config error:\", e)\n",
    "else:\n",
    "    raise RuntimeError(\"❌ No GPU found!\")\n",
    "\n",
    "# 3. Now it's safe to import TensorFlow proper\n",
    "import tensorflow as tf\n",
    "\n",
    "# 4. Silence warnings if needed\n",
    "import warnings\n",
    "warnings.filterwarnings('ignore')\n",
    "tf.get_logger().setLevel('ERROR')\n",
    "\n",
    "# Optional: verify\n",
    "print(\"GPUs available:\", tf.config.list_logical_devices('GPU'))\n"
   ]
  },
  {
   "cell_type": "code",
   "execution_count": 3,
   "id": "98b5abfa-fa51-4532-8675-febfeb9a3c32",
   "metadata": {
    "execution": {
     "iopub.execute_input": "2025-04-07T00:42:58.092335Z",
     "iopub.status.busy": "2025-04-07T00:42:58.091847Z",
     "iopub.status.idle": "2025-04-07T00:44:02.136713Z",
     "shell.execute_reply": "2025-04-07T00:44:02.135716Z",
     "shell.execute_reply.started": "2025-04-07T00:42:58.092310Z"
    }
   },
   "outputs": [],
   "source": [
    "import os\n",
    "import pandas as pd\n",
    "\n",
    "# Define the directory containing processed data files\n",
    "PROCESSED_DATA = os.path.join(\"data\", \"processed-data\")\n",
    "\n",
    "# File paths for processed data\n",
    "# btc_processed_file = os.path.join(PROCESSED_DATA, \"btc_1min_processed.csv.gz\")\n",
    "# eth_processed_file = os.path.join(PROCESSED_DATA, \"eth_1min_processed.csv.gz\")\n",
    "# combined_file = os.path.join(PROCESSED_DATA, \"crypto_1min_combined.csv.gz\")\n",
    "# NEWS_FILTERED_CSV = os.path.join(PROCESSED_DATA, \"aggregated-news_filtered.csv.gz\")\n",
    "\n",
    "# File paths for data with features\n",
    "btc_features_file = os.path.join(PROCESSED_DATA, \"btc_1min_with_features.csv.gz\")\n",
    "eth_features_file = os.path.join(PROCESSED_DATA, \"eth_1min_with_features.csv.gz\")\n",
    "\n",
    "# File paths for targets\n",
    "btc_target_file = os.path.join(PROCESSED_DATA, \"btc_1min_targets.csv.gz\")\n",
    "eth_target_file = os.path.join(PROCESSED_DATA, \"eth_1min_targets.csv.gz\")\n",
    "\n",
    "# Load processed data\n",
    "# btc_df = pd.read_csv(btc_processed_file, compression=\"gzip\")\n",
    "# eth_df = pd.read_csv(eth_processed_file, compression=\"gzip\")\n",
    "# crypto_df = pd.read_csv(combined_file, compression=\"gzip\")\n",
    "# df_filtered_news = pd.read_csv(NEWS_FILTERED_CSV, compression=\"gzip\")\n",
    "\n",
    "# Load feature data\n",
    "btc_df_features = pd.read_csv(btc_features_file, compression=\"gzip\")\n",
    "eth_df_features = pd.read_csv(eth_features_file, compression=\"gzip\")\n",
    "\n",
    "# Load target data\n",
    "btc_targets = pd.read_csv(btc_target_file, compression=\"gzip\")\n",
    "eth_targets = pd.read_csv(eth_target_file, compression=\"gzip\")\n"
   ]
  },
  {
   "cell_type": "code",
   "execution_count": 24,
   "id": "98b4c4c4-cf6c-49f5-9396-c9ca27a4488f",
   "metadata": {
    "execution": {
     "iopub.execute_input": "2025-04-07T01:09:32.113730Z",
     "iopub.status.busy": "2025-04-07T01:09:32.113277Z",
     "iopub.status.idle": "2025-04-07T01:09:32.129092Z",
     "shell.execute_reply": "2025-04-07T01:09:32.128557Z",
     "shell.execute_reply.started": "2025-04-07T01:09:32.113703Z"
    }
   },
   "outputs": [],
   "source": [
    "# %%\n",
    "# Utility: Create directories\n",
    "def setup_directories():\n",
    "    os.makedirs(\"plots\", exist_ok=True)\n",
    "    os.makedirs(\"models\", exist_ok=True)\n",
    "    os.makedirs(\"logs\", exist_ok=True)\n",
    "    return \"Done\"\n",
    "\n",
    "# %%\n",
    "# Prepares merged dataset of features + targets and subsets by percentage\n",
    "def get_data_subset(features_df, targets_df, target_col, data_percent=0.01):\n",
    "    merged = pd.concat([features_df, targets_df], axis=1)\n",
    "    subset_size = int(len(merged) * data_percent)\n",
    "    subset = merged.iloc[:subset_size].copy()\n",
    "    X = subset.drop(columns=[target_col])\n",
    "    y = subset[target_col]\n",
    "    return X, y, subset\n",
    "\n",
    "# %%\n",
    "# Normalize features using MinMaxScaler\n",
    "def scale_features(X):\n",
    "    from sklearn.preprocessing import MinMaxScaler\n",
    "    scaler = MinMaxScaler()\n",
    "    X_scaled = scaler.fit_transform(X)\n",
    "    return X_scaled, scaler\n",
    "\n",
    "# %%\n",
    "# Convert time-series data into sequences\n",
    "def create_sequences(X, y, time_steps=30):\n",
    "    Xs, ys = [], []\n",
    "    for i in range(len(X) - time_steps):\n",
    "        Xs.append(X[i : i + time_steps])\n",
    "        ys.append(y[i + time_steps])\n",
    "    return np.array(Xs), np.array(ys)\n",
    "\n",
    "# %%\n",
    "# Time-based train/test split\n",
    "def train_test_split_sequences(X_seq, y_seq, train_ratio=0.8):\n",
    "    train_size = int(len(X_seq) * train_ratio)\n",
    "    X_train, y_train = X_seq[:train_size], y_seq[:train_size]\n",
    "    X_test, y_test = X_seq[train_size:], y_seq[train_size:]\n",
    "    return X_train, y_train, X_test, y_test\n",
    "\n",
    "# %%\n",
    "# Build GRU model (easily replaceable with CNN/Transformer later)\n",
    "def build_gru_model(input_shape):\n",
    "    from tensorflow.keras.models import Sequential\n",
    "    from tensorflow.keras.layers import GRU, Dropout, Dense\n",
    "    from tensorflow.keras.optimizers import Adam\n",
    "\n",
    "    model = Sequential()\n",
    "    model.add(GRU(64, activation='tanh', input_shape=input_shape))\n",
    "    model.add(Dropout(0.2))\n",
    "    model.add(Dense(1, activation='linear'))\n",
    "    model.compile(loss='mse', optimizer=Adam(learning_rate=0.001))\n",
    "    return model\n",
    "\n",
    "def format_percent_string(p):\n",
    "    return f\"{p * 100:.4f}\".rstrip(\"0\").rstrip(\".\").replace(\".\", \"_\")\n",
    "\n",
    "\n",
    "# %%\n",
    "# Train model with checkpointing and logging\n",
    "def train_model(model, X_train, y_train, X_val, y_val, data_percent=0.01, epochs=20):\n",
    "    \n",
    "    percent_display = format_percent_string(data_percent)\n",
    "\n",
    "    model_name = f\"gru_btc_model_{percent_display}pct.h5\"\n",
    "    log_name = f\"gru_btc_log_{percent_display}pct.csv\"\n",
    "\n",
    "    checkpoint = ModelCheckpoint(os.path.join(\"models\", model_name), monitor=\"val_loss\", save_best_only=True, verbose=1)\n",
    "    early_stop = EarlyStopping(monitor=\"val_loss\", patience=5, restore_best_weights=True, verbose=1)\n",
    "    csv_logger = CSVLogger(os.path.join(\"logs\", log_name))\n",
    "\n",
    "    history = model.fit(\n",
    "        X_train, y_train,\n",
    "        epochs=epochs,\n",
    "        batch_size=32,\n",
    "        validation_data=(X_val, y_val),\n",
    "        callbacks=[checkpoint, early_stop, csv_logger],\n",
    "        verbose=1\n",
    "    )\n",
    "    return history\n",
    "\n",
    "\n",
    "# %%\n",
    "# Evaluate performance\n",
    "def print_metrics(y_test, y_pred, data_percent=0.01):\n",
    "    from sklearn.metrics import mean_squared_error, mean_absolute_error\n",
    "    import numpy as np\n",
    "\n",
    "    mse = mean_squared_error(y_test, y_pred)\n",
    "    rmse = np.sqrt(mse)\n",
    "    mae = mean_absolute_error(y_test, y_pred)\n",
    "\n",
    "    print(f\"Metrics for {data_percent*100:.3f}% dataset:\")\n",
    "    print(f\"MSE:  {mse:.4f}\")\n",
    "    print(f\"RMSE: {rmse:.4f}\")\n",
    "    print(f\"MAE:  {mae:.4f}\")\n"
   ]
  },
  {
   "cell_type": "code",
   "execution_count": 5,
   "id": "13dc39d1-0d8f-4c11-8042-aa1bc43f61aa",
   "metadata": {
    "execution": {
     "iopub.execute_input": "2025-04-07T00:44:02.158850Z",
     "iopub.status.busy": "2025-04-07T00:44:02.158450Z",
     "iopub.status.idle": "2025-04-07T00:44:02.292619Z",
     "shell.execute_reply": "2025-04-07T00:44:02.291947Z",
     "shell.execute_reply.started": "2025-04-07T00:44:02.158826Z"
    }
   },
   "outputs": [],
   "source": [
    "import os\n",
    "import numpy as np\n",
    "import pandas as pd\n"
   ]
  },
  {
   "cell_type": "code",
   "execution_count": 6,
   "id": "adf7e8d8-97e3-4aa5-a734-e06afa203741",
   "metadata": {
    "execution": {
     "iopub.execute_input": "2025-04-07T00:44:02.293866Z",
     "iopub.status.busy": "2025-04-07T00:44:02.293453Z",
     "iopub.status.idle": "2025-04-07T00:44:02.405512Z",
     "shell.execute_reply": "2025-04-07T00:44:02.404743Z",
     "shell.execute_reply.started": "2025-04-07T00:44:02.293840Z"
    }
   },
   "outputs": [],
   "source": [
    "DATA_PERCENT = 0.001\n",
    "TIME_STEPS = 30\n",
    "TARGET_COL = \"btc_Close_1m_later\"\n"
   ]
  },
  {
   "cell_type": "code",
   "execution_count": 25,
   "id": "a456b654-4b1f-4d85-b983-b8e0261199e3",
   "metadata": {
    "execution": {
     "iopub.execute_input": "2025-04-07T01:09:35.486022Z",
     "iopub.status.busy": "2025-04-07T01:09:35.485654Z",
     "iopub.status.idle": "2025-04-07T01:09:35.492748Z",
     "shell.execute_reply": "2025-04-07T01:09:35.492234Z",
     "shell.execute_reply.started": "2025-04-07T01:09:35.485995Z"
    }
   },
   "outputs": [
    {
     "data": {
      "text/plain": [
       "'Done'"
      ]
     },
     "execution_count": 25,
     "metadata": {},
     "output_type": "execute_result"
    }
   ],
   "source": [
    "setup_directories()"
   ]
  },
  {
   "cell_type": "code",
   "execution_count": 8,
   "id": "03e28745-7580-45cb-97f3-fa4300b20957",
   "metadata": {
    "execution": {
     "iopub.execute_input": "2025-04-07T00:44:02.578250Z",
     "iopub.status.busy": "2025-04-07T00:44:02.577835Z",
     "iopub.status.idle": "2025-04-07T00:44:03.072975Z",
     "shell.execute_reply": "2025-04-07T00:44:03.072114Z",
     "shell.execute_reply.started": "2025-04-07T00:44:02.578225Z"
    }
   },
   "outputs": [],
   "source": [
    "X_raw, y_raw, btc_subset = get_data_subset(btc_df_features, btc_targets, TARGET_COL, DATA_PERCENT)\n"
   ]
  },
  {
   "cell_type": "code",
   "execution_count": 9,
   "id": "d1c9f6fb-b038-4ede-b975-c78ff8d63974",
   "metadata": {
    "execution": {
     "iopub.execute_input": "2025-04-07T00:44:03.074156Z",
     "iopub.status.busy": "2025-04-07T00:44:03.073956Z",
     "iopub.status.idle": "2025-04-07T00:44:03.340896Z",
     "shell.execute_reply": "2025-04-07T00:44:03.340093Z",
     "shell.execute_reply.started": "2025-04-07T00:44:03.074134Z"
    }
   },
   "outputs": [],
   "source": [
    "X_scaled, scaler = scale_features(X_raw)\n"
   ]
  },
  {
   "cell_type": "code",
   "execution_count": 10,
   "id": "9b33792b-2b5c-4e2a-b9a9-edc83f1234d1",
   "metadata": {
    "execution": {
     "iopub.execute_input": "2025-04-07T00:44:03.342409Z",
     "iopub.status.busy": "2025-04-07T00:44:03.341768Z",
     "iopub.status.idle": "2025-04-07T00:44:03.358051Z",
     "shell.execute_reply": "2025-04-07T00:44:03.357218Z",
     "shell.execute_reply.started": "2025-04-07T00:44:03.342384Z"
    }
   },
   "outputs": [],
   "source": [
    "X_seq, y_seq = create_sequences(X_scaled, y_raw.values, TIME_STEPS)"
   ]
  },
  {
   "cell_type": "code",
   "execution_count": 11,
   "id": "c7d067ed-105c-4a6d-aa36-0ad32f0c5308",
   "metadata": {
    "execution": {
     "iopub.execute_input": "2025-04-07T00:44:03.359136Z",
     "iopub.status.busy": "2025-04-07T00:44:03.358937Z",
     "iopub.status.idle": "2025-04-07T00:44:03.482720Z",
     "shell.execute_reply": "2025-04-07T00:44:03.482132Z",
     "shell.execute_reply.started": "2025-04-07T00:44:03.359112Z"
    }
   },
   "outputs": [],
   "source": [
    "X_train, y_train, X_test, y_test = train_test_split_sequences(X_seq, y_seq)"
   ]
  },
  {
   "cell_type": "code",
   "execution_count": 12,
   "id": "837bd4fc-f87e-4029-9b2f-ba1946fcb647",
   "metadata": {
    "execution": {
     "iopub.execute_input": "2025-04-07T00:44:03.483678Z",
     "iopub.status.busy": "2025-04-07T00:44:03.483497Z",
     "iopub.status.idle": "2025-04-07T00:44:04.092185Z",
     "shell.execute_reply": "2025-04-07T00:44:04.091407Z",
     "shell.execute_reply.started": "2025-04-07T00:44:03.483658Z"
    }
   },
   "outputs": [],
   "source": [
    "model = build_gru_model(input_shape=(X_train.shape[1], X_train.shape[2]))"
   ]
  },
  {
   "cell_type": "code",
   "execution_count": 13,
   "id": "1e005f9d-076e-4dd3-b33d-f0dc4b4add64",
   "metadata": {
    "execution": {
     "iopub.execute_input": "2025-04-07T00:44:04.093452Z",
     "iopub.status.busy": "2025-04-07T00:44:04.093052Z",
     "iopub.status.idle": "2025-04-07T00:44:16.589545Z",
     "shell.execute_reply": "2025-04-07T00:44:16.588933Z",
     "shell.execute_reply.started": "2025-04-07T00:44:04.093428Z"
    }
   },
   "outputs": [
    {
     "name": "stdout",
     "output_type": "stream",
     "text": [
      "Epoch 1/20\n",
      "144/157 [==========================>...] - ETA: 0s - loss: 1.7491   \n",
      "Epoch 1: val_loss improved from inf to 0.01464, saving model to models/gru_btc_model_0_1pct.h5\n",
      "157/157 [==============================] - 3s 6ms/step - loss: 1.6260 - val_loss: 0.0146\n",
      "Epoch 2/20\n",
      "146/157 [==========================>...] - ETA: 0s - loss: 0.1764\n",
      "Epoch 2: val_loss improved from 0.01464 to 0.01150, saving model to models/gru_btc_model_0_1pct.h5\n",
      "157/157 [==============================] - 1s 4ms/step - loss: 0.1754 - val_loss: 0.0115\n",
      "Epoch 3/20\n",
      "146/157 [==========================>...] - ETA: 0s - loss: 0.1516\n",
      "Epoch 3: val_loss improved from 0.01150 to 0.00843, saving model to models/gru_btc_model_0_1pct.h5\n",
      "157/157 [==============================] - 1s 4ms/step - loss: 0.1513 - val_loss: 0.0084\n",
      "Epoch 4/20\n",
      "145/157 [==========================>...] - ETA: 0s - loss: 0.1354\n",
      "Epoch 4: val_loss did not improve from 0.00843\n",
      "157/157 [==============================] - 1s 3ms/step - loss: 0.1365 - val_loss: 0.0131\n",
      "Epoch 5/20\n",
      "145/157 [==========================>...] - ETA: 0s - loss: 0.1355\n",
      "Epoch 5: val_loss improved from 0.00843 to 0.00566, saving model to models/gru_btc_model_0_1pct.h5\n",
      "157/157 [==============================] - 1s 4ms/step - loss: 0.1354 - val_loss: 0.0057\n",
      "Epoch 6/20\n",
      "144/157 [==========================>...] - ETA: 0s - loss: 0.1280\n",
      "Epoch 6: val_loss did not improve from 0.00566\n",
      "157/157 [==============================] - 1s 3ms/step - loss: 0.1275 - val_loss: 0.0057\n",
      "Epoch 7/20\n",
      "145/157 [==========================>...] - ETA: 0s - loss: 0.1202\n",
      "Epoch 7: val_loss improved from 0.00566 to 0.00412, saving model to models/gru_btc_model_0_1pct.h5\n",
      "157/157 [==============================] - 1s 4ms/step - loss: 0.1212 - val_loss: 0.0041\n",
      "Epoch 8/20\n",
      "145/157 [==========================>...] - ETA: 0s - loss: 0.1191\n",
      "Epoch 8: val_loss improved from 0.00412 to 0.00348, saving model to models/gru_btc_model_0_1pct.h5\n",
      "157/157 [==============================] - 1s 4ms/step - loss: 0.1188 - val_loss: 0.0035\n",
      "Epoch 9/20\n",
      "145/157 [==========================>...] - ETA: 0s - loss: 0.1132\n",
      "Epoch 9: val_loss did not improve from 0.00348\n",
      "157/157 [==============================] - 1s 3ms/step - loss: 0.1136 - val_loss: 0.0042\n",
      "Epoch 10/20\n",
      "146/157 [==========================>...] - ETA: 0s - loss: 0.1177\n",
      "Epoch 10: val_loss improved from 0.00348 to 0.00303, saving model to models/gru_btc_model_0_1pct.h5\n",
      "157/157 [==============================] - 1s 4ms/step - loss: 0.1178 - val_loss: 0.0030\n",
      "Epoch 11/20\n",
      "146/157 [==========================>...] - ETA: 0s - loss: 0.1126\n",
      "Epoch 11: val_loss did not improve from 0.00303\n",
      "157/157 [==============================] - 1s 3ms/step - loss: 0.1126 - val_loss: 0.0031\n",
      "Epoch 12/20\n",
      "146/157 [==========================>...] - ETA: 0s - loss: 0.1166\n",
      "Epoch 12: val_loss did not improve from 0.00303\n",
      "157/157 [==============================] - 1s 3ms/step - loss: 0.1156 - val_loss: 0.0040\n",
      "Epoch 13/20\n",
      "145/157 [==========================>...] - ETA: 0s - loss: 0.1125\n",
      "Epoch 13: val_loss improved from 0.00303 to 0.00278, saving model to models/gru_btc_model_0_1pct.h5\n",
      "157/157 [==============================] - 1s 4ms/step - loss: 0.1124 - val_loss: 0.0028\n",
      "Epoch 14/20\n",
      "145/157 [==========================>...] - ETA: 0s - loss: 0.1094\n",
      "Epoch 14: val_loss did not improve from 0.00278\n",
      "157/157 [==============================] - 1s 3ms/step - loss: 0.1102 - val_loss: 0.0040\n",
      "Epoch 15/20\n",
      "145/157 [==========================>...] - ETA: 0s - loss: 0.1153\n",
      "Epoch 15: val_loss did not improve from 0.00278\n",
      "157/157 [==============================] - 1s 3ms/step - loss: 0.1157 - val_loss: 0.0029\n",
      "Epoch 16/20\n",
      "145/157 [==========================>...] - ETA: 0s - loss: 0.1130\n",
      "Epoch 16: val_loss did not improve from 0.00278\n",
      "157/157 [==============================] - 1s 3ms/step - loss: 0.1118 - val_loss: 0.0040\n",
      "Epoch 17/20\n",
      "145/157 [==========================>...] - ETA: 0s - loss: 0.1100\n",
      "Epoch 17: val_loss did not improve from 0.00278\n",
      "157/157 [==============================] - 1s 3ms/step - loss: 0.1108 - val_loss: 0.0136\n",
      "Epoch 18/20\n",
      "150/157 [===========================>..] - ETA: 0s - loss: 0.1119\n",
      "Epoch 18: val_loss did not improve from 0.00278\n",
      "Restoring model weights from the end of the best epoch: 13.\n",
      "157/157 [==============================] - 1s 3ms/step - loss: 0.1114 - val_loss: 0.0036\n",
      "Epoch 18: early stopping\n"
     ]
    }
   ],
   "source": [
    "history = train_model(model, X_train, y_train, X_test, y_test, DATA_PERCENT)"
   ]
  },
  {
   "cell_type": "code",
   "execution_count": 28,
   "id": "a7eeea20-6b2a-488d-8ed3-e833a217b5c9",
   "metadata": {
    "execution": {
     "iopub.execute_input": "2025-04-07T01:16:19.730267Z",
     "iopub.status.busy": "2025-04-07T01:16:19.729834Z",
     "iopub.status.idle": "2025-04-07T01:16:20.014828Z",
     "shell.execute_reply": "2025-04-07T01:16:20.014256Z",
     "shell.execute_reply.started": "2025-04-07T01:16:19.730241Z"
    }
   },
   "outputs": [
    {
     "data": {
      "image/png": "[encoded data removed]",
      "text/plain": [
       "<Figure size 1000x400 with 1 Axes>"
      ]
     },
     "metadata": {},
     "output_type": "display_data"
    },
    {
     "name": "stdout",
     "output_type": "stream",
     "text": [
      "Loss curve saved to: plots/loss_curve_gru_btc_0_1pct.png\n"
     ]
    }
   ],
   "source": [
    "def plot_loss(history, plots_dir=\"plots\", data_percent=0.01, model_name=\"gru\", dataset_name=\"btc\"):\n",
    "    import os\n",
    "    import matplotlib.pyplot as plt\n",
    "\n",
    "    # Ensure directory exists\n",
    "    os.makedirs(plots_dir, exist_ok=True)\n",
    "\n",
    "    # Format percent strings\n",
    "    percent_display_filename = format_percent_string(data_percent)  # for file name\n",
    "    percent_display_title = str(int(data_percent * 100))            # for title\n",
    "\n",
    "    # Plot\n",
    "    plt.figure(figsize=(10, 4))\n",
    "    plt.plot(history.history['loss'], label='Train Loss')\n",
    "    plt.plot(history.history['val_loss'], label='Val Loss')\n",
    "    plt.title(f\"Loss Curve ({percent_display_title}% Data)\")\n",
    "    plt.xlabel(\"Epoch\")\n",
    "    plt.ylabel(\"MSE\")\n",
    "    plt.legend()\n",
    "    plt.grid(True)\n",
    "\n",
    "    # Save to file inside plots directory\n",
    "    filename = f\"loss_curve_{model_name}_{dataset_name}_{percent_display_filename}pct.png\"\n",
    "    loss_curve_path = os.path.join(plots_dir, filename)\n",
    "    plt.savefig(loss_curve_path)\n",
    "    plt.show()\n",
    "    print(f\"Loss curve saved to: {loss_curve_path}\")\n",
    "\n",
    "plot_loss(history, data_percent=DATA_PERCENT, model_name=\"gru\", dataset_name=\"btc\")"
   ]
  },
  {
   "cell_type": "code",
   "execution_count": 20,
   "id": "2c4cbd19-bfc8-406b-942f-f54197eb3eb3",
   "metadata": {
    "execution": {
     "iopub.execute_input": "2025-04-07T00:50:54.731239Z",
     "iopub.status.busy": "2025-04-07T00:50:54.730764Z",
     "iopub.status.idle": "2025-04-07T00:50:55.148330Z",
     "shell.execute_reply": "2025-04-07T00:50:55.147653Z",
     "shell.execute_reply.started": "2025-04-07T00:50:54.731215Z"
    }
   },
   "outputs": [
    {
     "name": "stdout",
     "output_type": "stream",
     "text": [
      "40/40 [==============================] - 0s 1ms/step\n"
     ]
    }
   ],
   "source": [
    "y_pred = model.predict(X_test)"
   ]
  },
  {
   "cell_type": "code",
   "execution_count": 34,
   "id": "b201da2d-32d6-4edc-9385-5ba6541c6f72",
   "metadata": {
    "execution": {
     "iopub.execute_input": "2025-04-07T01:18:15.037240Z",
     "iopub.status.busy": "2025-04-07T01:18:15.036664Z",
     "iopub.status.idle": "2025-04-07T01:18:15.365489Z",
     "shell.execute_reply": "2025-04-07T01:18:15.364913Z",
     "shell.execute_reply.started": "2025-04-07T01:18:15.037213Z"
    }
   },
   "outputs": [
    {
     "name": "stdout",
     "output_type": "stream",
     "text": [
      "Prediction plot saved to: plots/prediction_plot_gru_btc_0_1pct.png\n"
     ]
    },
    {
     "data": {
      "image/png": "[encoded data removed]",
      "text/plain": [
       "<Figure size 1000x400 with 1 Axes>"
      ]
     },
     "metadata": {},
     "output_type": "display_data"
    },
    {
     "name": "stdout",
     "output_type": "stream",
     "text": [
      "Comparison CSV saved to: data/result-data/btc_comparison_0_1pct.csv\n"
     ]
    }
   ],
   "source": [
    "def plot_predictions(y_test, y_pred, plots_dir=\"plots\", data_percent=0.01, model_name=\"gru\", dataset_name=\"btc\", last_n=200):\n",
    "    import os\n",
    "    import matplotlib.pyplot as plt\n",
    "    import pandas as pd\n",
    "\n",
    "    # Ensure plots directory exists\n",
    "    os.makedirs(plots_dir, exist_ok=True)\n",
    "\n",
    "    # Format percent strings\n",
    "    percent_display_filename = format_percent_string(data_percent)  # for file name\n",
    "    percent_display_title = str(int(data_percent * 100))            # for plot title\n",
    "\n",
    "    # Build comparison DataFrame\n",
    "    comparison_df = pd.DataFrame({\n",
    "        \"Actual\": y_test,\n",
    "        \"Predicted\": y_pred.flatten()\n",
    "    })\n",
    "\n",
    "    # Plot predictions\n",
    "    plt.figure(figsize=(10, 4))\n",
    "    plt.plot(comparison_df[\"Actual\"][-last_n:], label=\"Actual\")\n",
    "    plt.plot(comparison_df[\"Predicted\"][-last_n:], label=\"Predicted\", linestyle=\"--\")\n",
    "    plt.title(f\"{dataset_name.upper()} Close Price Prediction (Last {last_n} Samples) - {percent_display_title}% Data\")\n",
    "    plt.xlabel(\"Time Step\")\n",
    "    plt.ylabel(\"Close Price\")\n",
    "    plt.legend()\n",
    "    plt.grid(True)\n",
    "\n",
    "    # Save plot\n",
    "    filename = f\"prediction_plot_{model_name}_{dataset_name}_{percent_display_filename}pct.png\"\n",
    "    plot_path = os.path.join(plots_dir, filename)\n",
    "    plt.savefig(plot_path)\n",
    "    print(f\"Prediction plot saved to: {plot_path}\")\n",
    "    plt.show()\n",
    "\n",
    "    # Save DataFrame comparison to CSV\n",
    "    result_file = os.path.join(RESULT_DATA_DIR, f\"{dataset_name}_comparison_{percent_display_filename}pct.csv\")\n",
    "    comparison_df.to_csv(result_file, index=False)\n",
    "\n",
    "    print(f\"Comparison CSV saved to: {result_file}\")\n",
    "    return comparison_df\n",
    "\n",
    "\n",
    "comparison_df = plot_predictions(y_test, y_pred, data_percent=DATA_PERCENT, model_name=\"gru\", dataset_name=\"btc\")\n"
   ]
  },
  {
   "cell_type": "code",
   "execution_count": 29,
   "id": "efc0fc12-e237-4448-b8c5-3ffe769f36c7",
   "metadata": {
    "execution": {
     "iopub.execute_input": "2025-04-07T01:17:37.157559Z",
     "iopub.status.busy": "2025-04-07T01:17:37.157112Z",
     "iopub.status.idle": "2025-04-07T01:17:37.181736Z",
     "shell.execute_reply": "2025-04-07T01:17:37.181163Z",
     "shell.execute_reply.started": "2025-04-07T01:17:37.157533Z"
    }
   },
   "outputs": [
    {
     "name": "stdout",
     "output_type": "stream",
     "text": [
      "Metrics for 0.100% dataset:\n",
      "MSE:  0.0028\n",
      "RMSE: 0.0527\n",
      "MAE:  0.0374\n"
     ]
    }
   ],
   "source": [
    "print_metrics(y_test, y_pred, DATA_PERCENT)"
   ]
  },
  {
   "cell_type": "code",
   "execution_count": 30,
   "id": "17437d39-1564-4e65-bce0-c5ba8c8ec91e",
   "metadata": {
    "execution": {
     "iopub.execute_input": "2025-04-07T01:17:45.677312Z",
     "iopub.status.busy": "2025-04-07T01:17:45.676278Z",
     "iopub.status.idle": "2025-04-07T01:17:45.682648Z",
     "shell.execute_reply": "2025-04-07T01:17:45.682106Z",
     "shell.execute_reply.started": "2025-04-07T01:17:45.677285Z"
    }
   },
   "outputs": [],
   "source": [
    "import os\n",
    "from joblib import dump\n",
    "from tensorflow.keras.models import save_model\n",
    "from pathlib import Path\n",
    "\n",
    "def save_model_and_scaler(model, scaler, model_name: str, dataset_name: str, data_percent: float, model_ext: str = \"h5\"):\n",
    "    os.makedirs(\"models\", exist_ok=True)\n",
    "\n",
    "    # Format percent with up to 4 decimal places, replace dot with underscore\n",
    "    percent_str = f\"{data_percent * 100:.4f}\".rstrip(\"0\").rstrip(\".\").replace(\".\", \"_\")\n",
    "\n",
    "    model_filename = f\"{model_name}_{dataset_name}_model_{percent_str}pct.{model_ext}\"\n",
    "    scaler_filename = f\"scaler_{dataset_name}_{percent_str}pct.pkl\"\n",
    "\n",
    "    model_path = Path(\"models\") / model_filename\n",
    "    scaler_path = Path(\"models\") / scaler_filename\n",
    "\n",
    "    if model_ext in ['h5', 'keras']:\n",
    "        save_model(model, str(model_path))\n",
    "    else:\n",
    "        dump(model, model_path)\n",
    "\n",
    "    dump(scaler, scaler_path)\n",
    "\n",
    "    print(\"Model saved to:\", model_path.resolve().relative_to(Path.cwd()))\n",
    "    print(\"Scaler saved to:\", scaler_path.resolve().relative_to(Path.cwd()))\n"
   ]
  },
  {
   "cell_type": "code",
   "execution_count": 31,
   "id": "5bbdb1db-e133-4181-aa80-22091059363a",
   "metadata": {
    "execution": {
     "iopub.execute_input": "2025-04-07T01:17:47.593206Z",
     "iopub.status.busy": "2025-04-07T01:17:47.592910Z",
     "iopub.status.idle": "2025-04-07T01:17:47.685685Z",
     "shell.execute_reply": "2025-04-07T01:17:47.685106Z",
     "shell.execute_reply.started": "2025-04-07T01:17:47.593183Z"
    }
   },
   "outputs": [
    {
     "name": "stdout",
     "output_type": "stream",
     "text": [
      "Model saved to: models/gru_btc_model_0_1pct.h5\n",
      "Scaler saved to: models/scaler_btc_0_1pct.pkl\n"
     ]
    }
   ],
   "source": [
    "save_model_and_scaler(model, scaler, model_name=\"gru\", dataset_name=\"btc\", data_percent=DATA_PERCENT)"
   ]
  },
  {
   "cell_type": "code",
   "execution_count": 32,
   "id": "52d7b394-3416-42c8-8399-70e2337cb55d",
   "metadata": {
    "execution": {
     "iopub.execute_input": "2025-04-07T01:17:51.469658Z",
     "iopub.status.busy": "2025-04-07T01:17:51.469117Z",
     "iopub.status.idle": "2025-04-07T01:17:51.474856Z",
     "shell.execute_reply": "2025-04-07T01:17:51.474303Z",
     "shell.execute_reply.started": "2025-04-07T01:17:51.469632Z"
    }
   },
   "outputs": [],
   "source": [
    "import os\n",
    "from joblib import load\n",
    "from tensorflow.keras.models import load_model\n",
    "from pathlib import Path\n",
    "\n",
    "def load_model_and_scaler(model_name: str, dataset_name: str, data_percent: float, model_ext: str = \"h5\"):\n",
    "    # Format percent with full decimals and replace '.' with '_'\n",
    "    percent_str = f\"{data_percent * 100:.4f}\".rstrip(\"0\").rstrip(\".\").replace(\".\", \"_\")\n",
    "\n",
    "    model_filename = f\"{model_name}_{dataset_name}_model_{percent_str}pct.{model_ext}\"\n",
    "    scaler_filename = f\"scaler_{dataset_name}_{percent_str}pct.pkl\"\n",
    "\n",
    "    model_path = Path(\"models\") / model_filename\n",
    "    scaler_path = Path(\"models\") / scaler_filename\n",
    "\n",
    "    if model_ext in ['h5', 'keras']:\n",
    "        model = load_model(model_path)\n",
    "    else:\n",
    "        model = load(model_path)\n",
    "\n",
    "    scaler = load(scaler_path)\n",
    "\n",
    "    print(\"Model loaded from:\", model_path.resolve().relative_to(Path.cwd()))\n",
    "    print(\"Scaler loaded from:\", scaler_path.resolve().relative_to(Path.cwd()))\n",
    "\n",
    "    return model, scaler"
   ]
  },
  {
   "cell_type": "code",
   "execution_count": 33,
   "id": "c3d48aaf-2ff5-47a9-bf0b-e472eb180031",
   "metadata": {
    "execution": {
     "iopub.execute_input": "2025-04-07T01:17:54.896162Z",
     "iopub.status.busy": "2025-04-07T01:17:54.895839Z",
     "iopub.status.idle": "2025-04-07T01:17:55.099937Z",
     "shell.execute_reply": "2025-04-07T01:17:55.099332Z",
     "shell.execute_reply.started": "2025-04-07T01:17:54.896136Z"
    }
   },
   "outputs": [
    {
     "name": "stdout",
     "output_type": "stream",
     "text": [
      "Model loaded from: models/gru_btc_model_0_1pct.h5\n",
      "Scaler loaded from: models/scaler_btc_0_1pct.pkl\n"
     ]
    }
   ],
   "source": [
    "model, scaler = load_model_and_scaler(model_name=\"gru\", dataset_name=\"btc\", data_percent=DATA_PERCENT)"
   ]
  },
  {
   "cell_type": "code",
   "execution_count": null,
   "id": "ea96a0fa-5d49-4bea-afe7-f1e444e01d63",
   "metadata": {},
   "outputs": [],
   "source": []
  },
  {
   "cell_type": "code",
   "execution_count": null,
   "id": "da10e53a-abb8-4cfc-92f6-72b268987b9e",
   "metadata": {},
   "outputs": [],
   "source": []
  }
 ],
 "metadata": {
  "kernelspec": {
   "display_name": "Python 3.10 (recommended)",
   "language": "python",
   "name": "python310"
  },
  "language_info": {
   "codemirror_mode": {
    "name": "ipython",
    "version": 3
   },
   "file_extension": ".py",
   "mimetype": "text/x-python",
   "name": "python",
   "nbconvert_exporter": "python",
   "pygments_lexer": "ipython3",
   "version": "3.10.16"
  },
  "widgets": {
   "application/vnd.jupyter.widget-state+json": {
    "state": {},
    "version_major": 2,
    "version_minor": 0
   }
  }
 },
 "nbformat": 4,
 "nbformat_minor": 5
}
