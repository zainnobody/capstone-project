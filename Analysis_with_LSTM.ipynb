{
 "cells": [
  {
   "cell_type": "markdown",
   "id": "0f0fa2e4-2360-44f6-8f94-f88ad8a4ebb2",
   "metadata": {},
   "source": [
    "# Using LSTM and Doing More Exploration on the Bitcoin Dataset"
   ]
  },
  {
   "cell_type": "code",
   "execution_count": 4,
   "id": "5a9d5cf3-3d83-462e-8153-c14950e29ece",
   "metadata": {},
   "outputs": [],
   "source": [
    "# Improt necessary libraries\n",
    "import pandas as pd\n",
    "import numpy as np\n",
    "import matplotlib.pyplot as plt\n",
    "import seaborn as sns\n",
    "from sklearn.preprocessing import MinMaxScaler\n",
    "from sklearn.model_selection import train_test_split\n",
    "from sklearn.metrics import mean_squared_error\n",
    "import xgboost as xgb"
   ]
  },
  {
   "cell_type": "code",
   "execution_count": 14,
   "id": "c27e14a7-bcaa-4acf-bfea-c79dc7c7f612",
   "metadata": {},
   "outputs": [],
   "source": [
    "# Load Data and Extrapolate Datetime\n",
    "file_path = '/Users/theni/Downloads/btcusd_1-min_data.csv'\n",
    "data = pd.read_csv(file_path)\n",
    "data['Timestamp'] = pd.to_datetime(data['Timestamp'], unit = 's')\n",
    "data.set_index('Timestamp', inplace = True)"
   ]
  },
  {
   "cell_type": "code",
   "execution_count": null,
   "id": "c936f15d-caa7-4cf0-8c2a-9a0b4b51d94e",
   "metadata": {},
   "outputs": [],
   "source": []
  },
  {
   "cell_type": "code",
   "execution_count": 15,
   "id": "32fa198f-c439-4108-8e7f-89561fcc3461",
   "metadata": {},
   "outputs": [],
   "source": [
    "# Normalization\n",
    "scaler = MinMaxScaler(feature_range = (0, 1))\n",
    "data_scaled = scaler.fit_transform(data)"
   ]
  },
  {
   "cell_type": "code",
   "execution_count": 17,
   "id": "1b3f3b01-7253-4126-93b1-acd3259a8b5b",
   "metadata": {},
   "outputs": [],
   "source": [
    "# Create Sequences\n",
    "def create_seq(data, seq_length):\n",
    "    X, y = [], []\n",
    "    for i in range(len(data) - seq_length):\n",
    "        X.append(data[i : i + seq_length].flatten())\n",
    "        y.append(data[i + seq_length])\n",
    "    return np.array(X), np.array(y)"
   ]
  },
  {
   "cell_type": "code",
   "execution_count": 19,
   "id": "1dcb2826-3ce7-4caa-a81e-acd5a6089dad",
   "metadata": {},
   "outputs": [],
   "source": [
    "# Set Sequence length\n",
    "seq_length = 60 \n",
    "X, y = create_seq(data_scaled, seq_length)"
   ]
  },
  {
   "cell_type": "code",
   "execution_count": 21,
   "id": "c3c26e2d-73e5-400f-98bc-3643cd1bb215",
   "metadata": {},
   "outputs": [],
   "source": [
    "# Split data into training and test sets\n",
    "X_train, X_test, y_train, y_test = train_test_split(X, y, test_size = 0.2, random_state = 42)"
   ]
  },
  {
   "cell_type": "code",
   "execution_count": 27,
   "id": "0a8e4dbf-b2a6-4cf3-8302-0a7e9846b77c",
   "metadata": {},
   "outputs": [
    {
     "ename": "MemoryError",
     "evalue": "Unable to allocate 6.06 GiB for an array with shape (2712088, 300) and data type float64",
     "output_type": "error",
     "traceback": [
      "\u001b[1;31m---------------------------------------------------------------------------\u001b[0m",
      "\u001b[1;31mMemoryError\u001b[0m                               Traceback (most recent call last)",
      "Cell \u001b[1;32mIn[27], line 6\u001b[0m\n\u001b[0;32m      3\u001b[0m indices \u001b[38;5;241m=\u001b[39m np\u001b[38;5;241m.\u001b[39mrandom\u001b[38;5;241m.\u001b[39mchoice(X_train\u001b[38;5;241m.\u001b[39mshape[\u001b[38;5;241m0\u001b[39m], subset_size, replace\u001b[38;5;241m=\u001b[39m\u001b[38;5;28;01mFalse\u001b[39;00m)\n\u001b[0;32m      5\u001b[0m \u001b[38;5;66;03m# Create the sampled dataset\u001b[39;00m\n\u001b[1;32m----> 6\u001b[0m X_train_sampled \u001b[38;5;241m=\u001b[39m \u001b[43mX_train\u001b[49m\u001b[43m[\u001b[49m\u001b[43mindices\u001b[49m\u001b[43m]\u001b[49m\n\u001b[0;32m      7\u001b[0m y_train_sampled \u001b[38;5;241m=\u001b[39m y_train[indices]\n",
      "\u001b[1;31mMemoryError\u001b[0m: Unable to allocate 6.06 GiB for an array with shape (2712088, 300) and data type float64"
     ]
    }
   ],
   "source": [
    "# Select a random subset of indices\n",
    "subset_size = int(0.5 * X_train.shape[0])  # Adjust fraction as needed\n",
    "indices = np.random.choice(X_train.shape[0], subset_size, replace=False)\n",
    "\n",
    "# Create the sampled dataset\n",
    "X_train_sampled = X_train[indices]\n",
    "y_train_sampled = y_train[indices]\n"
   ]
  },
  {
   "cell_type": "code",
   "execution_count": 26,
   "id": "eddb1763-571f-4da5-b769-99c9bc2e1cf3",
   "metadata": {},
   "outputs": [
    {
     "ename": "NameError",
     "evalue": "name 'X_train_sampled' is not defined",
     "output_type": "error",
     "traceback": [
      "\u001b[1;31m---------------------------------------------------------------------------\u001b[0m",
      "\u001b[1;31mNameError\u001b[0m                                 Traceback (most recent call last)",
      "Cell \u001b[1;32mIn[26], line 3\u001b[0m\n\u001b[0;32m      1\u001b[0m \u001b[38;5;66;03m# Train XGBoost Regression Model\u001b[39;00m\n\u001b[0;32m      2\u001b[0m model \u001b[38;5;241m=\u001b[39m xgb\u001b[38;5;241m.\u001b[39mXGBRegressor(objective\u001b[38;5;241m=\u001b[39m\u001b[38;5;124m'\u001b[39m\u001b[38;5;124mreg:squarederror\u001b[39m\u001b[38;5;124m'\u001b[39m, n_estimators\u001b[38;5;241m=\u001b[39m\u001b[38;5;241m100\u001b[39m, learning_rate\u001b[38;5;241m=\u001b[39m\u001b[38;5;241m0.1\u001b[39m)\n\u001b[1;32m----> 3\u001b[0m model\u001b[38;5;241m.\u001b[39mfit(\u001b[43mX_train_sampled\u001b[49m, y_train_sampled)\n",
      "\u001b[1;31mNameError\u001b[0m: name 'X_train_sampled' is not defined"
     ]
    }
   ],
   "source": [
    "# Train XGBoost Regression Model\n",
    "model = xgb.XGBRegressor(objective='reg:squarederror', n_estimators=100, learning_rate=0.1)\n",
    "model.fit(X_train_sampled, y_train_sampled)"
   ]
  },
  {
   "cell_type": "code",
   "execution_count": null,
   "id": "aba67987-f603-4eeb-aa5c-d6820541d59d",
   "metadata": {},
   "outputs": [],
   "source": [
    "# Generate Predictions\n",
    "y_pred = model.predict(X_test)\n",
    "y_pred = scaler.inverse_transform(y_pred.reshape(-1, 1))\n",
    "y_test_actual = scaler.inverse_transform(y_test.reshape(-1, 1))"
   ]
  },
  {
   "cell_type": "code",
   "execution_count": null,
   "id": "eea90a78-0e16-41e2-a579-768351bda781",
   "metadata": {},
   "outputs": [],
   "source": [
    "# Calculate RMSE\n",
    "rmse = np.sqrt(mean_squared_error(y_test_actual, y_pred))\n",
    "print(f\"RMSE: {rmse}\""
   ]
  },
  {
   "cell_type": "code",
   "execution_count": null,
   "id": "93794513-b569-49f6-91c4-ce91368b7aa4",
   "metadata": {},
   "outputs": [],
   "source": [
    "# Plot results\n",
    "plt.figure(figsize=(12, 6))\n",
    "plt.plot(y_test_actual, label=\"Actual Price\")\n",
    "plt.plot(y_pred, label=\"Predicted Price\")\n",
    "plt.legend()\n",
    "plt.title(\"Bitcoin Price Prediction using XGBoost\")\n",
    "plt.show()"
   ]
  }
 ],
 "metadata": {
  "kernelspec": {
   "display_name": "Python 3 (ipykernel)",
   "language": "python",
   "name": "python3"
  },
  "language_info": {
   "codemirror_mode": {
    "name": "ipython",
    "version": 3
   },
   "file_extension": ".py",
   "mimetype": "text/x-python",
   "name": "python",
   "nbconvert_exporter": "python",
   "pygments_lexer": "ipython3",
   "version": "3.11.5"
  }
 },
 "nbformat": 4,
 "nbformat_minor": 5
}
