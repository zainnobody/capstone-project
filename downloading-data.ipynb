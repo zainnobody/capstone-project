{
 "cells": [
  {
   "cell_type": "markdown",
   "metadata": {},
   "source": [
    "## Data"
   ]
  },
  {
   "cell_type": "code",
   "execution_count": 43,
   "metadata": {},
   "outputs": [],
   "source": [
    "import os\n",
    "import requests\n",
    "import time\n",
    "import zipfile\n",
    "import shutil\n",
    "from tqdm import tqdm\n",
    "import json\n",
    "\n",
    "import sqlite3\n",
    "import pandas as pd\n",
    "\n"
   ]
  },
  {
   "cell_type": "code",
   "execution_count": 14,
   "metadata": {},
   "outputs": [],
   "source": [
    "KAGGLE_JSON_PATH = \"kaggle.json\" \n",
    "from kaggle.api.kaggle_api_extended import KaggleApi\n"
   ]
  },
  {
   "cell_type": "code",
   "execution_count": 44,
   "metadata": {},
   "outputs": [],
   "source": [
    "DATA_DIR = \"data\"\n",
    "FULL_DATA_DIR = os.path.join(DATA_DIR, \"full-data\")\n"
   ]
  },
  {
   "cell_type": "code",
   "execution_count": 12,
   "metadata": {},
   "outputs": [],
   "source": [
    "import warnings\n",
    "warnings.filterwarnings(\"ignore\")"
   ]
  },
  {
   "cell_type": "markdown",
   "metadata": {},
   "source": [
    "### Downloading and cleaning initial data files"
   ]
  },
  {
   "cell_type": "markdown",
   "metadata": {},
   "source": [
    "Data source: https://github.com/Zdong104/FNSPID_Financial_News_Dataset"
   ]
  },
  {
   "cell_type": "markdown",
   "metadata": {},
   "source": [
    "#### News & Stock Market Data"
   ]
  },
  {
   "cell_type": "code",
   "execution_count": null,
   "metadata": {},
   "outputs": [
    {
     "name": "stderr",
     "output_type": "stream",
     "text": [
      "Downloading full_history.zip: 100%|██████████| 590M/590M [00:10<00:00, 55.2MB/s] \n"
     ]
    },
    {
     "name": "stdout",
     "output_type": "stream",
     "text": [
      "✅ Downloaded: data/full-data/full_history.zip in 11.35 seconds\n",
      "📦 Extracting data/full-data/full_history.zip...\n",
      "✅ Extracted to data/full-data\n",
      "🗑️ Removed: data/full-data/__MACOSX\n",
      "🗑️ Deleted ZIP file: data/full-data/full_history.zip\n"
     ]
    },
    {
     "name": "stderr",
     "output_type": "stream",
     "text": [
      "Downloading nasdaq_exteral_data.csv: 100%|██████████| 23.2G/23.2G [07:38<00:00, 50.6MB/s] "
     ]
    },
    {
     "name": "stdout",
     "output_type": "stream",
     "text": [
      "✅ Downloaded: data/full-data/nasdaq_exteral_data.csv in 459.38 seconds\n"
     ]
    },
    {
     "name": "stderr",
     "output_type": "stream",
     "text": [
      "\n"
     ]
    }
   ],
   "source": [
    "\n",
    "\n",
    "def download_files(urls):\n",
    "    os.makedirs(FULL_DATA_DIR, exist_ok=True)\n",
    "\n",
    "    for url in urls:\n",
    "        filename = os.path.basename(url)\n",
    "        filepath = os.path.join(FULL_DATA_DIR, filename)\n",
    "        start_time = time.time()\n",
    "\n",
    "        response = requests.get(url, stream=True)\n",
    "        total_size = int(response.headers.get(\"content-length\", 0))\n",
    "\n",
    "        if response.status_code == 200:\n",
    "            with open(filepath, \"wb\") as f, tqdm(\n",
    "                total=total_size, unit=\"B\", unit_scale=True, desc=f\"Downloading {filename}\"\n",
    "            ) as progress_bar:\n",
    "                for chunk in response.iter_content(1024):\n",
    "                    f.write(chunk)\n",
    "                    progress_bar.update(len(chunk))\n",
    "\n",
    "            elapsed_time = time.time() - start_time\n",
    "            print(f\"✅ Downloaded: {filepath} in {elapsed_time:.2f} seconds\")\n",
    "\n",
    "            if filename.endswith(\".zip\"):\n",
    "                extract_zip(filepath)\n",
    "\n",
    "        else:\n",
    "            print(f\"❌ Failed to download: {url}\")\n",
    "\n",
    "def extract_zip(zip_path):\n",
    "    if os.path.exists(zip_path):\n",
    "        print(f\"📦 Extracting {zip_path}...\")\n",
    "        with zipfile.ZipFile(zip_path, 'r') as zip_ref:\n",
    "            zip_ref.extractall(FULL_DATA_DIR)\n",
    "        print(f\"✅ Extracted to {FULL_DATA_DIR}\")\n",
    "\n",
    "        clean_unwanted_files(FULL_DATA_DIR)\n",
    "        os.remove(zip_path)\n",
    "        print(f\"🗑️ Deleted ZIP file: {zip_path}\")\n",
    "\n",
    "def clean_unwanted_files(directory):\n",
    "    macosx_path = os.path.join(directory, \"__MACOSX\")\n",
    "    if os.path.exists(macosx_path):\n",
    "        shutil.rmtree(macosx_path)\n",
    "        print(f\"🗑️ Removed: {macosx_path}\")\n",
    "\n",
    "urls = [\n",
    "    \"https://huggingface.co/datasets/Zihan1004/FNSPID/resolve/main/Stock_price/full_history.zip\",\n",
    "    \"https://huggingface.co/datasets/Zihan1004/FNSPID/resolve/main/Stock_news/nasdaq_exteral_data.csv\"\n",
    "]\n",
    "\n",
    "download_files(urls)\n"
   ]
  },
  {
   "cell_type": "markdown",
   "metadata": {},
   "source": [
    "#### Bitcoin Historical Data\n",
    "\n",
    "Data source: https://www.kaggle.com/datasets/mczielinski/bitcoin-historical-data"
   ]
  },
  {
   "cell_type": "code",
   "execution_count": null,
   "metadata": {},
   "outputs": [
    {
     "name": "stdout",
     "output_type": "stream",
     "text": [
      "Kaggle API credentials set up successfully!\n",
      "Downloading mczielinski/bitcoin-historical-data from Kaggle...\n",
      "Dataset URL: https://www.kaggle.com/datasets/mczielinski/bitcoin-historical-data\n",
      "✅ Downloaded and extracted: mczielinski/bitcoin-historical-data\n"
     ]
    }
   ],
   "source": [
    "def setup_kaggle_credentials(json_path):\n",
    "    \"\"\"Load and set Kaggle credentials from a local JSON file.\"\"\"\n",
    "    if not os.path.exists(json_path):\n",
    "        raise FileNotFoundError(f\"❌ Kaggle credentials file not found at {json_path}\")\n",
    "\n",
    "    with open(json_path, \"r\") as f:\n",
    "        creds = json.load(f)\n",
    "\n",
    "    os.environ[\"KAGGLE_USERNAME\"] = creds[\"username\"]\n",
    "    os.environ[\"KAGGLE_KEY\"] = creds[\"key\"]\n",
    "    print(\"Kaggle API credentials set up successfully!\")\n",
    "\n",
    "def download_kaggle_dataset(dataset):\n",
    "    \"\"\"Download and extract the dataset from Kaggle.\"\"\"\n",
    "    os.makedirs(FULL_DATA_DIR, exist_ok=True)\n",
    "\n",
    "    setup_kaggle_credentials(KAGGLE_JSON_PATH)\n",
    "\n",
    "    api = KaggleApi()\n",
    "    api.authenticate()\n",
    "\n",
    "    print(f\"Downloading {dataset} from Kaggle...\")\n",
    "    api.dataset_download_files(dataset, path=FULL_DATA_DIR, unzip=True)\n",
    "    print(f\"✅ Downloaded and extracted: {dataset}\")\n",
    "\n",
    "    clean_unwanted_files(FULL_DATA_DIR)\n",
    "\n",
    "download_kaggle_dataset(\"mczielinski/bitcoin-historical-data\")\n"
   ]
  },
  {
   "cell_type": "markdown",
   "metadata": {},
   "source": [
    "This dataset contains historical Bitcoin price data recorded at one-minute intervals. The main file included is:\n",
    "- `btcusd_1-min_data.csv`: Contains one-minute price data for Bitcoin, including Open, High, Low, Close (OHLC) prices, volume, and timestamp information."
   ]
  },
  {
   "cell_type": "markdown",
   "metadata": {},
   "source": [
    "#### ETH\n",
    "\n",
    "Source: https://www.kaggle.com/datasets/prasoonkottarathil/ethereum-historical-dataset"
   ]
  },
  {
   "cell_type": "code",
   "execution_count": 42,
   "metadata": {},
   "outputs": [
    {
     "name": "stdout",
     "output_type": "stream",
     "text": [
      "Kaggle API credentials set up successfully!\n",
      "Downloading prasoonkottarathil/ethereum-historical-dataset from Kaggle...\n",
      "Dataset URL: https://www.kaggle.com/datasets/prasoonkottarathil/ethereum-historical-dataset\n",
      "✅ Downloaded and extracted: prasoonkottarathil/ethereum-historical-dataset\n"
     ]
    }
   ],
   "source": [
    "download_kaggle_dataset(\"prasoonkottarathil/ethereum-historical-dataset\")\n"
   ]
  },
  {
   "cell_type": "markdown",
   "metadata": {},
   "source": [
    "This dataset provides a collection of Ethereum price data at different time intervals, making it useful for market analysis and trading strategies. It includes three CSV files:\n",
    "\n",
    "- `ETH_1H.csv`: Contains hourly Ethereum price data, including OHLC prices and volume.\n",
    "- `ETH_1min.csv`: Contains one-minute Ethereum price data, similar to Bitcoin's dataset.\n",
    "- `ETH_day.csv`: Contains daily Ethereum price data."
   ]
  },
  {
   "cell_type": "markdown",
   "metadata": {},
   "source": [
    "We could not load all the data, so we decided to create a DB from which we could pull the csv with chunks and then lated use pandas."
   ]
  },
  {
   "cell_type": "code",
   "execution_count": 30,
   "metadata": {},
   "outputs": [
    {
     "name": "stdout",
     "output_type": "stream",
     "text": [
      "Database creation complete. Total rows inserted: 15549299 across 156 chunks.\n"
     ]
    }
   ],
   "source": [
    "import os\n",
    "import sqlite3\n",
    "import pandas as pd\n",
    "\n",
    "# Construct file paths using FULL_DATA_DIR\n",
    "csv_file = os.path.join(FULL_DATA_DIR, \"nasdaq_exteral_data.csv\")\n",
    "db_file = os.path.join(FULL_DATA_DIR, \"news_data.db\")\n",
    "raw_table = \"news_data\"  # Table name variable\n",
    "\n",
    "# Connect to the SQLite database (or create it if it doesn't exist)\n",
    "conn = sqlite3.connect(db_file)\n",
    "\n",
    "chunksize = 100000  \n",
    "total_rows = 0\n",
    "chunk_count = 0\n",
    "\n",
    "# Define the columns you want to keep\n",
    "columns_to_keep = [\"Date\", \"Article_title\", \"Stock_symbol\"]\n",
    "\n",
    "# Read and insert CSV data in chunks, keeping only the specified columns\n",
    "for chunk in pd.read_csv(csv_file, chunksize=chunksize):\n",
    "    # Select only the desired columns\n",
    "    chunk = chunk[columns_to_keep]\n",
    "    rows_in_chunk = len(chunk)\n",
    "    chunk.to_sql(raw_table, conn, if_exists=\"append\", index=False)\n",
    "    chunk_count += 1\n",
    "    total_rows += rows_in_chunk\n",
    "\n",
    "# Create an index on the \"Date\" column after inserting all data\n",
    "cursor = conn.cursor()\n",
    "cursor.execute(f\"CREATE INDEX IF NOT EXISTS idx_date ON {raw_table}(Date)\")\n",
    "conn.commit()\n",
    "\n",
    "print(f\"Database creation complete. Total rows inserted: {total_rows} across {chunk_count} chunks.\")\n"
   ]
  },
  {
   "cell_type": "code",
   "execution_count": 32,
   "metadata": {},
   "outputs": [],
   "source": [
    "agg_table = \"aggregated_news_data\"\n",
    "raw_table = \"news_data\"\n",
    "\n",
    "# Load the raw table into a pandas DataFrame\n",
    "df_raw = pd.read_sql_query(f\"SELECT * FROM {raw_table}\", conn)\n"
   ]
  },
  {
   "cell_type": "code",
   "execution_count": null,
   "metadata": {},
   "outputs": [],
   "source": [
    "conn.close()"
   ]
  },
  {
   "cell_type": "code",
   "execution_count": null,
   "metadata": {},
   "outputs": [],
   "source": [
    "# Drop rows where 'Date' or 'Article_title' is NaN\n",
    "df_raw = df_raw.dropna(subset=['Date', 'Article_title'])"
   ]
  },
  {
   "cell_type": "code",
   "execution_count": 34,
   "metadata": {},
   "outputs": [
    {
     "name": "stdout",
     "output_type": "stream",
     "text": [
      "Aggregated DataFrame row count: 12480047\n",
      "                      Date                                      Article_title  \\\n",
      "0  1914-09-16 00:00:00 UTC  1914. Празднование столетия М.Ю. Лермонтова от...   \n",
      "1  1914-09-16 00:00:00 UTC  1914. Русские войска вступили в пределы Венгрии     \n",
      "2  1914-09-17 00:00:00 UTC                           1914. Das ist Nesteroff!   \n",
      "3  1914-09-17 00:00:00 UTC                    1914. Бульдог-гонец под Льежем    \n",
      "4  1914-09-18 00:00:00 UTC           1914. Под Люблином пойман швабский зверь   \n",
      "\n",
      "  Stock_symbols  \n",
      "0                \n",
      "1                \n",
      "2                \n",
      "3                \n",
      "4                \n"
     ]
    }
   ],
   "source": [
    "\n",
    "# Group by Date and Article_title, aggregating Stock_symbol values.\n",
    "# The lambda function drops NaNs and duplicates, then converts values to string before joining.\n",
    "df_agg = df_raw.groupby(['Date', 'Article_title'], as_index=False).agg(\n",
    "    Stock_symbols=('Stock_symbol', lambda x: \",\".join(x.dropna().drop_duplicates().astype(str)))\n",
    ")\n",
    "\n",
    "# Display results\n",
    "row_count = len(df_agg)\n",
    "print(f\"Aggregated DataFrame row count: {row_count}\")\n",
    "print(df_agg.head())"
   ]
  },
  {
   "cell_type": "code",
   "execution_count": 39,
   "metadata": {},
   "outputs": [],
   "source": [
    "PROCESSED_DATA = os.path.join(DATA_DIR, \"processed-data\")\n",
    "NEWS_CSV = os.path.join(PROCESSED_DATA, \"aggregated-news.csv.gz\")\n",
    "\n",
    "# Ensure the processed data directory exists\n",
    "os.makedirs(PROCESSED_DATA, exist_ok=True)"
   ]
  },
  {
   "cell_type": "markdown",
   "metadata": {},
   "source": [
    "We initially stored the data as a CSV, which resulted in a file size of 1.3 GB. While this isn't enormous, it's still too large for our repository. After compressing with `gzip`, the file size dropped to 383.3 MB."
   ]
  },
  {
   "cell_type": "code",
   "execution_count": 40,
   "metadata": {},
   "outputs": [],
   "source": [
    "df_agg.to_csv(NEWS_CSV, compression=\"gzip\", index=False)"
   ]
  },
  {
   "cell_type": "markdown",
   "metadata": {},
   "source": [
    "#### Load Full Data\n"
   ]
  },
  {
   "cell_type": "code",
   "execution_count": 41,
   "metadata": {},
   "outputs": [],
   "source": [
    "df_agg = pd.read_csv(NEWS_CSV, compression=\"gzip\")"
   ]
  },
  {
   "cell_type": "markdown",
   "metadata": {},
   "source": [
    "We will be processing this to only include the years needed for our analysis. "
   ]
  },
  {
   "cell_type": "markdown",
   "metadata": {},
   "source": [
    "#### Importing coin data\n",
    "\n",
    "We store coin data files as a safeguard so that if any issues arise, we can quickly re-import the data rather than re-running the entire analysis."
   ]
  },
  {
   "cell_type": "code",
   "execution_count": 61,
   "metadata": {},
   "outputs": [
    {
     "data": {
      "text/html": [
       "<div>\n",
       "<style scoped>\n",
       "    .dataframe tbody tr th:only-of-type {\n",
       "        vertical-align: middle;\n",
       "    }\n",
       "\n",
       "    .dataframe tbody tr th {\n",
       "        vertical-align: top;\n",
       "    }\n",
       "\n",
       "    .dataframe thead th {\n",
       "        text-align: right;\n",
       "    }\n",
       "</style>\n",
       "<table border=\"1\" class=\"dataframe\">\n",
       "  <thead>\n",
       "    <tr style=\"text-align: right;\">\n",
       "      <th></th>\n",
       "      <th>Date</th>\n",
       "      <th>Open</th>\n",
       "      <th>High</th>\n",
       "      <th>Low</th>\n",
       "      <th>Close</th>\n",
       "      <th>Volume</th>\n",
       "    </tr>\n",
       "  </thead>\n",
       "  <tbody>\n",
       "    <tr>\n",
       "      <th>0</th>\n",
       "      <td>2012-01-01 10:01:00 UTC</td>\n",
       "      <td>4.58</td>\n",
       "      <td>4.58</td>\n",
       "      <td>4.58</td>\n",
       "      <td>4.58</td>\n",
       "      <td>0.0</td>\n",
       "    </tr>\n",
       "    <tr>\n",
       "      <th>1</th>\n",
       "      <td>2012-01-01 10:02:00 UTC</td>\n",
       "      <td>4.58</td>\n",
       "      <td>4.58</td>\n",
       "      <td>4.58</td>\n",
       "      <td>4.58</td>\n",
       "      <td>0.0</td>\n",
       "    </tr>\n",
       "    <tr>\n",
       "      <th>2</th>\n",
       "      <td>2012-01-01 10:03:00 UTC</td>\n",
       "      <td>4.58</td>\n",
       "      <td>4.58</td>\n",
       "      <td>4.58</td>\n",
       "      <td>4.58</td>\n",
       "      <td>0.0</td>\n",
       "    </tr>\n",
       "    <tr>\n",
       "      <th>3</th>\n",
       "      <td>2012-01-01 10:04:00 UTC</td>\n",
       "      <td>4.58</td>\n",
       "      <td>4.58</td>\n",
       "      <td>4.58</td>\n",
       "      <td>4.58</td>\n",
       "      <td>0.0</td>\n",
       "    </tr>\n",
       "    <tr>\n",
       "      <th>4</th>\n",
       "      <td>2012-01-01 10:05:00 UTC</td>\n",
       "      <td>4.58</td>\n",
       "      <td>4.58</td>\n",
       "      <td>4.58</td>\n",
       "      <td>4.58</td>\n",
       "      <td>0.0</td>\n",
       "    </tr>\n",
       "  </tbody>\n",
       "</table>\n",
       "</div>"
      ],
      "text/plain": [
       "                      Date  Open  High   Low  Close  Volume\n",
       "0  2012-01-01 10:01:00 UTC  4.58  4.58  4.58   4.58     0.0\n",
       "1  2012-01-01 10:02:00 UTC  4.58  4.58  4.58   4.58     0.0\n",
       "2  2012-01-01 10:03:00 UTC  4.58  4.58  4.58   4.58     0.0\n",
       "3  2012-01-01 10:04:00 UTC  4.58  4.58  4.58   4.58     0.0\n",
       "4  2012-01-01 10:05:00 UTC  4.58  4.58  4.58   4.58     0.0"
      ]
     },
     "execution_count": 61,
     "metadata": {},
     "output_type": "execute_result"
    }
   ],
   "source": [
    "btc_file = os.path.join(FULL_DATA_DIR, \"btcusd_1-min_data.csv\")\n",
    "btc_df = pd.read_csv(btc_file)\n",
    "\n",
    "# Convert the numeric Timestamp (in seconds) to UTC datetime and format as \"YYYY-MM-DD HH:MM:SS UTC\"\n",
    "btc_df[\"Date\"] = pd.to_datetime(btc_df[\"Timestamp\"].astype(float), unit=\"s\", utc=True)\n",
    "btc_df[\"Date\"] = btc_df[\"Date\"].dt.strftime(\"%Y-%m-%d %H:%M:%S UTC\")\n",
    "\n",
    "btc_df = btc_df[[\"Date\", \"Open\", \"High\", \"Low\", \"Close\", \"Volume\"]]\n",
    "btc_df.head()"
   ]
  },
  {
   "cell_type": "code",
   "execution_count": 72,
   "metadata": {},
   "outputs": [
    {
     "data": {
      "image/png": "[encoded data removed]",
      "text/plain": [
       "<Figure size 1200x600 with 1 Axes>"
      ]
     },
     "metadata": {},
     "output_type": "display_data"
    }
   ],
   "source": [
    "import matplotlib.pyplot as plt\n",
    "import pandas as pd\n",
    "\n",
    "def plot_crypto_data(df, coin_name=\"Crypto\", date_col=\"Date\", price_col=\"Close\"):\n",
    "    \"\"\"\n",
    "    Plots the crypto price data over time.\n",
    "    \n",
    "    Parameters:\n",
    "        df (pd.DataFrame): DataFrame with a date column and a price column.\n",
    "        coin_name (str): The name of the crypto (used for the plot title and label).\n",
    "        date_col (str): The column name in df that contains date information.\n",
    "        price_col (str): The column name in df that contains the price data.\n",
    "    \"\"\"\n",
    "    # Convert the date column to datetime, coerce errors, and drop invalid dates\n",
    "    df[\"Date_dt\"] = pd.to_datetime(df[date_col], errors=\"coerce\", utc=True)\n",
    "    df = df.dropna(subset=[\"Date_dt\"])\n",
    "    \n",
    "    plt.figure(figsize=(12, 6))\n",
    "    plt.plot(df[\"Date_dt\"], df[price_col], label=coin_name, linewidth=1)\n",
    "    plt.xlabel(\"Date\")\n",
    "    plt.ylabel(price_col)\n",
    "    plt.title(f\"{coin_name} {price_col} Price Over Time\")\n",
    "    plt.legend()\n",
    "    plt.grid(True)\n",
    "    plt.show()\n",
    "\n",
    "# Example usage with BTC data:\n",
    "plot_crypto_data(btc_df, coin_name=\"BTC\")\n"
   ]
  },
  {
   "cell_type": "code",
   "execution_count": 62,
   "metadata": {},
   "outputs": [],
   "source": [
    "btc_processed_file = os.path.join(PROCESSED_DATA, \"btc_1min_processed.csv.gz\")\n",
    "btc_df.to_csv(btc_processed_file, index=False, compression=\"gzip\")"
   ]
  },
  {
   "cell_type": "code",
   "execution_count": 76,
   "metadata": {},
   "outputs": [
    {
     "data": {
      "text/html": [
       "<div>\n",
       "<style scoped>\n",
       "    .dataframe tbody tr th:only-of-type {\n",
       "        vertical-align: middle;\n",
       "    }\n",
       "\n",
       "    .dataframe tbody tr th {\n",
       "        vertical-align: top;\n",
       "    }\n",
       "\n",
       "    .dataframe thead th {\n",
       "        text-align: right;\n",
       "    }\n",
       "</style>\n",
       "<table border=\"1\" class=\"dataframe\">\n",
       "  <thead>\n",
       "    <tr style=\"text-align: right;\">\n",
       "      <th></th>\n",
       "      <th>Date</th>\n",
       "      <th>Open</th>\n",
       "      <th>High</th>\n",
       "      <th>Low</th>\n",
       "      <th>Close</th>\n",
       "      <th>Volume</th>\n",
       "    </tr>\n",
       "  </thead>\n",
       "  <tbody>\n",
       "    <tr>\n",
       "      <th>0</th>\n",
       "      <td>2020-04-16 00:00:00</td>\n",
       "      <td>152.94</td>\n",
       "      <td>152.94</td>\n",
       "      <td>151.33</td>\n",
       "      <td>151.33</td>\n",
       "      <td>112.724931</td>\n",
       "    </tr>\n",
       "    <tr>\n",
       "      <th>1</th>\n",
       "      <td>2020-04-15 23:59:00</td>\n",
       "      <td>152.94</td>\n",
       "      <td>152.94</td>\n",
       "      <td>152.94</td>\n",
       "      <td>152.94</td>\n",
       "      <td>0.000000</td>\n",
       "    </tr>\n",
       "    <tr>\n",
       "      <th>2</th>\n",
       "      <td>2020-04-15 23:58:00</td>\n",
       "      <td>153.17</td>\n",
       "      <td>153.17</td>\n",
       "      <td>152.94</td>\n",
       "      <td>152.94</td>\n",
       "      <td>0.013011</td>\n",
       "    </tr>\n",
       "    <tr>\n",
       "      <th>3</th>\n",
       "      <td>2020-04-15 23:57:00</td>\n",
       "      <td>152.96</td>\n",
       "      <td>153.20</td>\n",
       "      <td>152.96</td>\n",
       "      <td>153.17</td>\n",
       "      <td>466.782278</td>\n",
       "    </tr>\n",
       "    <tr>\n",
       "      <th>4</th>\n",
       "      <td>2020-04-15 23:56:00</td>\n",
       "      <td>153.14</td>\n",
       "      <td>153.14</td>\n",
       "      <td>152.96</td>\n",
       "      <td>152.96</td>\n",
       "      <td>167.930714</td>\n",
       "    </tr>\n",
       "  </tbody>\n",
       "</table>\n",
       "</div>"
      ],
      "text/plain": [
       "                  Date    Open    High     Low   Close      Volume\n",
       "0  2020-04-16 00:00:00  152.94  152.94  151.33  151.33  112.724931\n",
       "1  2020-04-15 23:59:00  152.94  152.94  152.94  152.94    0.000000\n",
       "2  2020-04-15 23:58:00  153.17  153.17  152.94  152.94    0.013011\n",
       "3  2020-04-15 23:57:00  152.96  153.20  152.96  153.17  466.782278\n",
       "4  2020-04-15 23:56:00  153.14  153.14  152.96  152.96  167.930714"
      ]
     },
     "execution_count": 76,
     "metadata": {},
     "output_type": "execute_result"
    }
   ],
   "source": [
    "eth_file = os.path.join(FULL_DATA_DIR, \"ETH_1min.csv\")\n",
    "eth_df = pd.read_csv(eth_file)\n",
    "eth_df = eth_df[[\"Date\", \"Open\", \"High\", \"Low\", \"Close\", \"Volume\"]]\n",
    "eth_df.head()"
   ]
  },
  {
   "cell_type": "code",
   "execution_count": 77,
   "metadata": {},
   "outputs": [
    {
     "data": {
      "image/png": "[encoded data removed]",
      "text/plain": [
       "<Figure size 1200x600 with 1 Axes>"
      ]
     },
     "metadata": {},
     "output_type": "display_data"
    }
   ],
   "source": [
    "plot_crypto_data(eth_df, coin_name=\"ETH\")"
   ]
  },
  {
   "cell_type": "code",
   "execution_count": 78,
   "metadata": {},
   "outputs": [],
   "source": [
    "eth_processed_file = os.path.join(PROCESSED_DATA, \"eth_1min_processed.csv.gz\")\n",
    "eth_df.to_csv(eth_processed_file, index=False, compression=\"gzip\")"
   ]
  },
  {
   "cell_type": "code",
   "execution_count": null,
   "metadata": {},
   "outputs": [],
   "source": [
    "crypto_df = pd.concat([btc_df, eth_df], ignore_index=True)"
   ]
  },
  {
   "cell_type": "code",
   "execution_count": 85,
   "metadata": {},
   "outputs": [
    {
     "name": "stdout",
     "output_type": "stream",
     "text": [
      "Combined crypto data range: 2012-01-01 10:01:00+00:00 to 2025-03-09 00:00:00+00:00\n"
     ]
    }
   ],
   "source": [
    "# Convert the \"Date\" column to datetime objects (with UTC)\n",
    "crypto_df[\"Date\"] = pd.to_datetime(crypto_df[\"Date\"], errors=\"coerce\", utc=True)\n",
    "\n",
    "# Now compute the min and max dates\n",
    "start_date = crypto_df[\"Date\"].min()\n",
    "end_date = crypto_df[\"Date\"].max()\n",
    "print(f\"Combined crypto data range: {start_date} to {end_date}\")\n"
   ]
  },
  {
   "cell_type": "code",
   "execution_count": 86,
   "metadata": {},
   "outputs": [],
   "source": [
    "# Save the combined DataFrame as a compressed CSV\n",
    "combined_file = os.path.join(PROCESSED_DATA, \"crypto_1min_combined.csv.gz\")\n",
    "crypto_df.to_csv(combined_file, index=False, compression=\"gzip\")"
   ]
  },
  {
   "cell_type": "code",
   "execution_count": 87,
   "metadata": {},
   "outputs": [
    {
     "name": "stdout",
     "output_type": "stream",
     "text": [
      "Filtered news count: 7210953\n"
     ]
    }
   ],
   "source": [
    "# Convert the 'Date' column in df_agg to datetime objects with UTC timezone\n",
    "df_agg[\"Date_dt\"] = pd.to_datetime(df_agg[\"Date\"], errors=\"coerce\", utc=True)\n",
    "\n",
    "# Filter the DataFrame to include only rows between start_date and end_date\n",
    "df_filtered_news = df_agg[(df_agg[\"Date_dt\"] >= start_date) & (df_agg[\"Date_dt\"] <= end_date)]\n",
    "\n",
    "print(f\"Filtered news count: {len(df_filtered_news)}\")"
   ]
  },
  {
   "cell_type": "code",
   "execution_count": 88,
   "metadata": {},
   "outputs": [],
   "source": [
    "NEWS_FILTERED_CSV = os.path.join(PROCESSED_DATA, \"aggregated-news_filtered.csv.gz\")\n",
    "df_filtered_news.to_csv(NEWS_FILTERED_CSV, compression=\"gzip\", index=False)"
   ]
  },
  {
   "cell_type": "markdown",
   "metadata": {},
   "source": [
    "## `breakpoint`\n",
    "\n",
    "\n",
    "You can run this to import all of the files in. Make sure to download the data from hugging face."
   ]
  },
  {
   "cell_type": "code",
   "execution_count": 89,
   "metadata": {},
   "outputs": [],
   "source": [
    "import os\n",
    "import pandas as pd\n",
    "\n",
    "# Define the directory containing processed data files\n",
    "PROCESSED_DATA = os.path.join(\"data\", \"processed-data\")\n",
    "\n",
    "# File paths for the processed data files\n",
    "btc_processed_file = os.path.join(PROCESSED_DATA, \"btc_1min_processed.csv.gz\")\n",
    "eth_processed_file = os.path.join(PROCESSED_DATA, \"eth_1min_processed.csv.gz\")\n",
    "combined_file = os.path.join(PROCESSED_DATA, \"crypto_1min_combined.csv.gz\")\n",
    "NEWS_FILTERED_CSV = os.path.join(PROCESSED_DATA, \"aggregated-news_filtered.csv.gz\")\n",
    "\n",
    "# Read the processed CSV files using gzip compression\n",
    "btc_df = pd.read_csv(btc_processed_file, compression=\"gzip\")\n",
    "eth_df = pd.read_csv(eth_processed_file, compression=\"gzip\")\n",
    "crypto_df = pd.read_csv(combined_file, compression=\"gzip\")\n",
    "df_filtered_news = pd.read_csv(NEWS_FILTERED_CSV, compression=\"gzip\")\n"
   ]
  }
 ],
 "metadata": {
  "kernelspec": {
   "display_name": ".venv",
   "language": "python",
   "name": "python3"
  },
  "language_info": {
   "codemirror_mode": {
    "name": "ipython",
    "version": 3
   },
   "file_extension": ".py",
   "mimetype": "text/x-python",
   "name": "python",
   "nbconvert_exporter": "python",
   "pygments_lexer": "ipython3",
   "version": "3.9.6"
  }
 },
 "nbformat": 4,
 "nbformat_minor": 2
}
